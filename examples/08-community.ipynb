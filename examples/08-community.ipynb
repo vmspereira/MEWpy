{
 "cells": [
  {
   "cell_type": "markdown",
   "id": "4ef35842",
   "metadata": {},
   "source": [
    "# MEWpy Community Modeling\n",
    "\n",
    "Author: Vitor Pereira, inspired on the work by Daniel Machado. \n",
    "\n",
    "License: [CC BY-SA 4.0](http://creativecommons.org/licenses/by-sa/4.0/)\n",
    "\n",
    "-------\n",
    "\n",
    "In this tutorial:\n",
    "\n",
    "- You will learn how to perform flux balance analysis of microbial communities\n",
    "using a model of the [central carbon metabolism of *E. coli*](https://journals.asm.org/doi/10.1128/ecosalplus.10.2.1).\n"
   ]
  },
  {
   "cell_type": "markdown",
   "id": "19cdc16d",
   "metadata": {},
   "source": [
    "## Install requirements \n",
    "To run this notebook we firstly need to install the required packages"
   ]
  },
  {
   "cell_type": "code",
   "execution_count": 1,
   "id": "5af506f8",
   "metadata": {},
   "outputs": [],
   "source": [
    "! pip install -U -q mewpy cplex escher"
   ]
  },
  {
   "cell_type": "markdown",
   "id": "15b21699",
   "metadata": {},
   "source": [
    "Verify the instalation"
   ]
  },
  {
   "cell_type": "code",
   "execution_count": 2,
   "id": "b959d694",
   "metadata": {},
   "outputs": [
    {
     "name": "stdout",
     "output_type": "stream",
     "text": [
      "MEWpy version: 0.1.35\n",
      "Author: Vitor Pereira and CEB University of Minho (2019-2023)\n",
      "Contact: vpereira@ceb.uminho.pt \n",
      "\n",
      "Available LP solvers: gurobi cplex glpk\n",
      "Default LP solver: cplex \n",
      "\n",
      "Available ODE solvers: scikits scipy\n",
      "Default ODE solver: scikits \n",
      "\n",
      "Optimization Problems: AbstractKOProblem AbstractOUProblem CofactorSwapProblem CommunityKOProblem ETFLGKOProblem ETFLGOUProblem GKOProblem GOUProblem GeckoKOProblem GeckoOUProblem KcatOptProblem KineticKOProblem KineticOUProblem MediumProblem OptORFProblem OptRamProblem RKOProblem ROUProblem \n",
      "\n",
      "Available EA engines: inspyred jmetal\n",
      "Default EA engine: jmetal\n",
      "Available EAs: GA NSGAII NSGAIII SA SPEA2 \n",
      "\n"
     ]
    }
   ],
   "source": [
    "import mewpy\n",
    "mewpy.info()"
   ]
  },
  {
   "cell_type": "markdown",
   "id": "6f2de219",
   "metadata": {},
   "source": [
    "**IMPORTANT**: The notebook requires a MEWpy version >= 0.1.35"
   ]
  },
  {
   "cell_type": "markdown",
   "id": "315126b8",
   "metadata": {},
   "source": [
    "### Run in Google colab\n",
    "\n",
    "If you are running this notebook in Colab, you need to perform the following steps, otherwise skip."
   ]
  },
  {
   "cell_type": "code",
   "execution_count": 3,
   "id": "70b7be89",
   "metadata": {},
   "outputs": [],
   "source": [
    "%%bash\n",
    "[[ ! -e /colabtools ]] && exit\n",
    "! pip install -U -q PyDrive"
   ]
  },
  {
   "cell_type": "code",
   "execution_count": 4,
   "id": "938ae881",
   "metadata": {},
   "outputs": [],
   "source": [
    "if 'google.colab' in str(get_ipython()):\n",
    "    from pydrive.auth import GoogleAuth\n",
    "    from pydrive.drive import GoogleDrive\n",
    "    from google.colab import auth\n",
    "    from oauth2client.client import GoogleCredentials\n",
    "\n",
    "    auth.authenticate_user()\n",
    "    gauth = GoogleAuth()\n",
    "    gauth.credentials = GoogleCredentials.get_application_default()\n",
    "    drive = GoogleDrive(gauth)\n",
    "\n",
    "    model_file = drive.CreateFile({'id':'1o0XthuEOs28UJ4XTa9SfFSFofazV-2nN'})\n",
    "    model_file.GetContentFile('e_coli_core.xml.gz')"
   ]
  },
  {
   "cell_type": "markdown",
   "id": "b5e4fe7b",
   "metadata": {},
   "source": [
    "## Setting up a community\n",
    "\n",
    "We will create a synthetic microbial consortium with two *E. coli* mutants growing in minimal medium. In one of the mutants we will knockout the glucose transporter and in the other we will knockout the ammonium transporter."
   ]
  },
  {
   "cell_type": "code",
   "execution_count": 5,
   "id": "4fd366fe",
   "metadata": {},
   "outputs": [
    {
     "name": "stdout",
     "output_type": "stream",
     "text": [
      "Set parameter Username\n",
      "Academic license - for non-commercial use only - expires 2024-12-11\n",
      "objective: 0.8739215069684301\n",
      "Status: OPTIMAL\n",
      "Method:FBA\n"
     ]
    },
    {
     "data": {
      "text/html": [
       "<div>\n",
       "<style scoped>\n",
       "    .dataframe tbody tr th:only-of-type {\n",
       "        vertical-align: middle;\n",
       "    }\n",
       "\n",
       "    .dataframe tbody tr th {\n",
       "        vertical-align: top;\n",
       "    }\n",
       "\n",
       "    .dataframe thead th {\n",
       "        text-align: right;\n",
       "    }\n",
       "</style>\n",
       "<table border=\"1\" class=\"dataframe\">\n",
       "  <thead>\n",
       "    <tr style=\"text-align: right;\">\n",
       "      <th></th>\n",
       "      <th>Flux rate</th>\n",
       "    </tr>\n",
       "    <tr>\n",
       "      <th>Reaction ID</th>\n",
       "      <th></th>\n",
       "    </tr>\n",
       "  </thead>\n",
       "  <tbody>\n",
       "    <tr>\n",
       "      <th>EX_co2_e</th>\n",
       "      <td>22.809833</td>\n",
       "    </tr>\n",
       "    <tr>\n",
       "      <th>EX_glc__D_e</th>\n",
       "      <td>-10.000000</td>\n",
       "    </tr>\n",
       "    <tr>\n",
       "      <th>EX_h_e</th>\n",
       "      <td>17.530865</td>\n",
       "    </tr>\n",
       "    <tr>\n",
       "      <th>EX_h2o_e</th>\n",
       "      <td>29.175827</td>\n",
       "    </tr>\n",
       "    <tr>\n",
       "      <th>EX_nh4_e</th>\n",
       "      <td>-4.765319</td>\n",
       "    </tr>\n",
       "    <tr>\n",
       "      <th>EX_o2_e</th>\n",
       "      <td>-21.799493</td>\n",
       "    </tr>\n",
       "    <tr>\n",
       "      <th>EX_pi_e</th>\n",
       "      <td>-3.214895</td>\n",
       "    </tr>\n",
       "  </tbody>\n",
       "</table>\n",
       "</div>"
      ],
      "text/plain": [
       "             Flux rate\n",
       "Reaction ID           \n",
       "EX_co2_e     22.809833\n",
       "EX_glc__D_e -10.000000\n",
       "EX_h_e       17.530865\n",
       "EX_h2o_e     29.175827\n",
       "EX_nh4_e     -4.765319\n",
       "EX_o2_e     -21.799493\n",
       "EX_pi_e      -3.214895"
      ]
     },
     "execution_count": 5,
     "metadata": {},
     "output_type": "execute_result"
    }
   ],
   "source": [
    "from cobra.io import read_sbml_model\n",
    "from mewpy import get_simulator\n",
    "\n",
    "model = read_sbml_model('models/ec/e_coli_core.xml.gz')\n",
    "wildtype = get_simulator(model)\n",
    "solution = wildtype.simulate()\n",
    "print(solution)\n",
    "solution.find('EX')"
   ]
  },
  {
   "cell_type": "markdown",
   "id": "d4c64668",
   "metadata": {},
   "source": [
    "Now we create our two mutants (`glc_ko` and `nh4_ko`):"
   ]
  },
  {
   "cell_type": "code",
   "execution_count": 6,
   "id": "196680b4",
   "metadata": {},
   "outputs": [],
   "source": [
    "glc_ko = wildtype.copy()\n",
    "glc_ko.id = 'glc_ko'\n",
    "glc_ko.set_reaction_bounds('GLCpts', 0, 0)"
   ]
  },
  {
   "cell_type": "code",
   "execution_count": 7,
   "id": "baeb1a1d",
   "metadata": {},
   "outputs": [],
   "source": [
    "nh4_ko = wildtype.copy()\n",
    "nh4_ko.id = 'nh4_ko'\n",
    "nh4_ko.set_reaction_bounds('NH4t', 0, 0)"
   ]
  },
  {
   "cell_type": "markdown",
   "id": "e1f4b0c4",
   "metadata": {},
   "source": [
    "## Comparing models\n",
    "\n",
    "Community models require that metabolites have the same identifiers accros all models. MEWpy offers some functions tho that end, computing the metabolites, reactions and uptakes overlaps between a list models."
   ]
  },
  {
   "cell_type": "code",
   "execution_count": 8,
   "id": "b6e5ff2a",
   "metadata": {},
   "outputs": [],
   "source": [
    "from mewpy.com import *\n",
    "mets, rxns, over = jaccard_similarity_matrices([glc_ko, nh4_ko])"
   ]
  },
  {
   "cell_type": "code",
   "execution_count": 9,
   "id": "f766d344",
   "metadata": {},
   "outputs": [
    {
     "data": {
      "text/html": [
       "<div>\n",
       "<style scoped>\n",
       "    .dataframe tbody tr th:only-of-type {\n",
       "        vertical-align: middle;\n",
       "    }\n",
       "\n",
       "    .dataframe tbody tr th {\n",
       "        vertical-align: top;\n",
       "    }\n",
       "\n",
       "    .dataframe thead th {\n",
       "        text-align: right;\n",
       "    }\n",
       "</style>\n",
       "<table border=\"1\" class=\"dataframe\">\n",
       "  <thead>\n",
       "    <tr style=\"text-align: right;\">\n",
       "      <th></th>\n",
       "      <th>glc_ko</th>\n",
       "      <th>nh4_ko</th>\n",
       "    </tr>\n",
       "  </thead>\n",
       "  <tbody>\n",
       "    <tr>\n",
       "      <th>glc_ko</th>\n",
       "      <td>1.0</td>\n",
       "      <td>1.0</td>\n",
       "    </tr>\n",
       "    <tr>\n",
       "      <th>nh4_ko</th>\n",
       "      <td>1.0</td>\n",
       "      <td>1.0</td>\n",
       "    </tr>\n",
       "  </tbody>\n",
       "</table>\n",
       "</div>"
      ],
      "text/plain": [
       "        glc_ko  nh4_ko\n",
       "glc_ko     1.0     1.0\n",
       "nh4_ko     1.0     1.0"
      ]
     },
     "execution_count": 9,
     "metadata": {},
     "output_type": "execute_result"
    }
   ],
   "source": [
    "mets"
   ]
  },
  {
   "cell_type": "code",
   "execution_count": 10,
   "id": "aa208246",
   "metadata": {},
   "outputs": [
    {
     "data": {
      "text/html": [
       "<div>\n",
       "<style scoped>\n",
       "    .dataframe tbody tr th:only-of-type {\n",
       "        vertical-align: middle;\n",
       "    }\n",
       "\n",
       "    .dataframe tbody tr th {\n",
       "        vertical-align: top;\n",
       "    }\n",
       "\n",
       "    .dataframe thead th {\n",
       "        text-align: right;\n",
       "    }\n",
       "</style>\n",
       "<table border=\"1\" class=\"dataframe\">\n",
       "  <thead>\n",
       "    <tr style=\"text-align: right;\">\n",
       "      <th></th>\n",
       "      <th>glc_ko</th>\n",
       "      <th>nh4_ko</th>\n",
       "    </tr>\n",
       "  </thead>\n",
       "  <tbody>\n",
       "    <tr>\n",
       "      <th>glc_ko</th>\n",
       "      <td>1.000000</td>\n",
       "      <td>0.978947</td>\n",
       "    </tr>\n",
       "    <tr>\n",
       "      <th>nh4_ko</th>\n",
       "      <td>0.978947</td>\n",
       "      <td>1.000000</td>\n",
       "    </tr>\n",
       "  </tbody>\n",
       "</table>\n",
       "</div>"
      ],
      "text/plain": [
       "          glc_ko    nh4_ko\n",
       "glc_ko  1.000000  0.978947\n",
       "nh4_ko  0.978947  1.000000"
      ]
     },
     "execution_count": 10,
     "metadata": {},
     "output_type": "execute_result"
    }
   ],
   "source": [
    "rxns"
   ]
  },
  {
   "cell_type": "code",
   "execution_count": 11,
   "id": "2e6e97cb",
   "metadata": {},
   "outputs": [
    {
     "data": {
      "text/html": [
       "<div>\n",
       "<style scoped>\n",
       "    .dataframe tbody tr th:only-of-type {\n",
       "        vertical-align: middle;\n",
       "    }\n",
       "\n",
       "    .dataframe tbody tr th {\n",
       "        vertical-align: top;\n",
       "    }\n",
       "\n",
       "    .dataframe thead th {\n",
       "        text-align: right;\n",
       "    }\n",
       "</style>\n",
       "<table border=\"1\" class=\"dataframe\">\n",
       "  <thead>\n",
       "    <tr style=\"text-align: right;\">\n",
       "      <th></th>\n",
       "      <th>glc_ko</th>\n",
       "      <th>nh4_ko</th>\n",
       "    </tr>\n",
       "  </thead>\n",
       "  <tbody>\n",
       "    <tr>\n",
       "      <th>glc_ko</th>\n",
       "      <td>1.0</td>\n",
       "      <td>1.0</td>\n",
       "    </tr>\n",
       "    <tr>\n",
       "      <th>nh4_ko</th>\n",
       "      <td>1.0</td>\n",
       "      <td>1.0</td>\n",
       "    </tr>\n",
       "  </tbody>\n",
       "</table>\n",
       "</div>"
      ],
      "text/plain": [
       "        glc_ko  nh4_ko\n",
       "glc_ko     1.0     1.0\n",
       "nh4_ko     1.0     1.0"
      ]
     },
     "execution_count": 11,
     "metadata": {},
     "output_type": "execute_result"
    }
   ],
   "source": [
    "over"
   ]
  },
  {
   "cell_type": "markdown",
   "id": "949323a8",
   "metadata": {},
   "source": [
    "## Building communities\n",
    "\n",
    "**MEWpy** has some basic functionality for working with microbial communities, one is the `CommunityModel` class to create microbial communities from a list of models of individual species: "
   ]
  },
  {
   "cell_type": "code",
   "execution_count": 46,
   "id": "91e413e9",
   "metadata": {},
   "outputs": [],
   "source": [
    "from mewpy.model import CommunityModel\n",
    "community = CommunityModel([glc_ko, nh4_ko], merge_biomasses=False, flavor='cobra')"
   ]
  },
  {
   "cell_type": "code",
   "execution_count": 47,
   "id": "46ed57b9",
   "metadata": {},
   "outputs": [
    {
     "name": "stderr",
     "output_type": "stream",
     "text": [
      "Organism: 100%|███████████████████████████████████| 2/2 [00:00<00:00,  8.32it/s]\n"
     ]
    }
   ],
   "source": [
    "sim = community.get_community_model()"
   ]
  },
  {
   "cell_type": "markdown",
   "id": "a9cef7fa",
   "metadata": {},
   "source": [
    "This community model ignores the environmental conditions that were specified in the original models (since these could be very different). \n",
    "\n",
    "To make our life easier, we will extract the nutrient composition specified in the wild-type model to use later."
   ]
  },
  {
   "cell_type": "code",
   "execution_count": 48,
   "id": "6644486c",
   "metadata": {},
   "outputs": [
    {
     "data": {
      "text/html": [
       "<table border=\"1\" class=\"dataframe\">\n",
       "  <thead>\n",
       "    <tr style=\"text-align: right;\">\n",
       "      <th></th>\n",
       "      <th>lb</th>\n",
       "      <th>ub</th>\n",
       "    </tr>\n",
       "  </thead>\n",
       "  <tbody>\n",
       "    <tr>\n",
       "      <th>EX_ac_e</th>\n",
       "      <td>0.0</td>\n",
       "      <td>1000.0</td>\n",
       "    </tr>\n",
       "    <tr>\n",
       "      <th>EX_acald_e</th>\n",
       "      <td>0.0</td>\n",
       "      <td>1000.0</td>\n",
       "    </tr>\n",
       "    <tr>\n",
       "      <th>EX_akg_e</th>\n",
       "      <td>0.0</td>\n",
       "      <td>1000.0</td>\n",
       "    </tr>\n",
       "    <tr>\n",
       "      <th>EX_co2_e</th>\n",
       "      <td>-1000.0</td>\n",
       "      <td>1000.0</td>\n",
       "    </tr>\n",
       "    <tr>\n",
       "      <th>EX_etoh_e</th>\n",
       "      <td>0.0</td>\n",
       "      <td>1000.0</td>\n",
       "    </tr>\n",
       "    <tr>\n",
       "      <th>EX_for_e</th>\n",
       "      <td>0.0</td>\n",
       "      <td>1000.0</td>\n",
       "    </tr>\n",
       "    <tr>\n",
       "      <th>EX_fru_e</th>\n",
       "      <td>0.0</td>\n",
       "      <td>1000.0</td>\n",
       "    </tr>\n",
       "    <tr>\n",
       "      <th>EX_fum_e</th>\n",
       "      <td>0.0</td>\n",
       "      <td>1000.0</td>\n",
       "    </tr>\n",
       "    <tr>\n",
       "      <th>EX_glc__D_e</th>\n",
       "      <td>-10.0</td>\n",
       "      <td>1000.0</td>\n",
       "    </tr>\n",
       "    <tr>\n",
       "      <th>EX_gln__L_e</th>\n",
       "      <td>0.0</td>\n",
       "      <td>1000.0</td>\n",
       "    </tr>\n",
       "    <tr>\n",
       "      <th>EX_glu__L_e</th>\n",
       "      <td>0.0</td>\n",
       "      <td>1000.0</td>\n",
       "    </tr>\n",
       "    <tr>\n",
       "      <th>EX_h_e</th>\n",
       "      <td>-1000.0</td>\n",
       "      <td>1000.0</td>\n",
       "    </tr>\n",
       "    <tr>\n",
       "      <th>EX_h2o_e</th>\n",
       "      <td>-1000.0</td>\n",
       "      <td>1000.0</td>\n",
       "    </tr>\n",
       "    <tr>\n",
       "      <th>EX_lac__D_e</th>\n",
       "      <td>0.0</td>\n",
       "      <td>1000.0</td>\n",
       "    </tr>\n",
       "    <tr>\n",
       "      <th>EX_mal__L_e</th>\n",
       "      <td>0.0</td>\n",
       "      <td>1000.0</td>\n",
       "    </tr>\n",
       "    <tr>\n",
       "      <th>EX_nh4_e</th>\n",
       "      <td>-1000.0</td>\n",
       "      <td>1000.0</td>\n",
       "    </tr>\n",
       "    <tr>\n",
       "      <th>EX_o2_e</th>\n",
       "      <td>-1000.0</td>\n",
       "      <td>1000.0</td>\n",
       "    </tr>\n",
       "    <tr>\n",
       "      <th>EX_pi_e</th>\n",
       "      <td>-1000.0</td>\n",
       "      <td>1000.0</td>\n",
       "    </tr>\n",
       "    <tr>\n",
       "      <th>EX_pyr_e</th>\n",
       "      <td>0.0</td>\n",
       "      <td>1000.0</td>\n",
       "    </tr>\n",
       "    <tr>\n",
       "      <th>EX_succ_e</th>\n",
       "      <td>0.0</td>\n",
       "      <td>1000.0</td>\n",
       "    </tr>\n",
       "  </tbody>\n",
       "</table>"
      ],
      "text/plain": [
       "EX_ac_e\t0.0\t1000.0\n",
       "EX_acald_e\t0.0\t1000.0\n",
       "EX_akg_e\t0.0\t1000.0\n",
       "EX_co2_e\t-1000.0\t1000.0\n",
       "EX_etoh_e\t0.0\t1000.0\n",
       "EX_for_e\t0.0\t1000.0\n",
       "EX_fru_e\t0.0\t1000.0\n",
       "EX_fum_e\t0.0\t1000.0\n",
       "EX_glc__D_e\t-10.0\t1000.0\n",
       "EX_gln__L_e\t0.0\t1000.0\n",
       "EX_glu__L_e\t0.0\t1000.0\n",
       "EX_h_e\t-1000.0\t1000.0\n",
       "EX_h2o_e\t-1000.0\t1000.0\n",
       "EX_lac__D_e\t0.0\t1000.0\n",
       "EX_mal__L_e\t0.0\t1000.0\n",
       "EX_nh4_e\t-1000.0\t1000.0\n",
       "EX_o2_e\t-1000.0\t1000.0\n",
       "EX_pi_e\t-1000.0\t1000.0\n",
       "EX_pyr_e\t0.0\t1000.0\n",
       "EX_succ_e\t0.0\t1000.0"
      ]
     },
     "execution_count": 48,
     "metadata": {},
     "output_type": "execute_result"
    }
   ],
   "source": [
    "from mewpy.simulation import Environment\n",
    "M9 = Environment.from_model(wildtype)\n",
    "M9"
   ]
  },
  {
   "cell_type": "markdown",
   "id": "a4829b00",
   "metadata": {},
   "source": [
    "## Simulation using FBA\n",
    "\n",
    "A very simple way to simulate a microbial community is to merge the individual models into a single model that mimics a \"super organism\", where each microbe lives inside its own compartment, and run a (conventional) FBA simulation for this *super organism*."
   ]
  },
  {
   "cell_type": "code",
   "execution_count": 49,
   "id": "47cb7a4b",
   "metadata": {},
   "outputs": [
    {
     "name": "stdout",
     "output_type": "stream",
     "text": [
      "objective: 0.831195550185812\n",
      "Status: OPTIMAL\n",
      "Method:FBA\n"
     ]
    },
    {
     "data": {
      "text/html": [
       "<div>\n",
       "<style scoped>\n",
       "    .dataframe tbody tr th:only-of-type {\n",
       "        vertical-align: middle;\n",
       "    }\n",
       "\n",
       "    .dataframe tbody tr th {\n",
       "        vertical-align: top;\n",
       "    }\n",
       "\n",
       "    .dataframe thead th {\n",
       "        text-align: right;\n",
       "    }\n",
       "</style>\n",
       "<table border=\"1\" class=\"dataframe\">\n",
       "  <thead>\n",
       "    <tr style=\"text-align: right;\">\n",
       "      <th></th>\n",
       "      <th>Flux rate</th>\n",
       "    </tr>\n",
       "    <tr>\n",
       "      <th>Reaction ID</th>\n",
       "      <th></th>\n",
       "    </tr>\n",
       "  </thead>\n",
       "  <tbody>\n",
       "    <tr>\n",
       "      <th>EX_ac_e_glc_ko</th>\n",
       "      <td>-6.134506</td>\n",
       "    </tr>\n",
       "    <tr>\n",
       "      <th>EX_akg_e_glc_ko</th>\n",
       "      <td>-4.532343</td>\n",
       "    </tr>\n",
       "    <tr>\n",
       "      <th>EX_co2_e_glc_ko</th>\n",
       "      <td>9.064686</td>\n",
       "    </tr>\n",
       "    <tr>\n",
       "      <th>EX_etoh_e_glc_ko</th>\n",
       "      <td>1.602163</td>\n",
       "    </tr>\n",
       "    <tr>\n",
       "      <th>EX_glu__L_e_glc_ko</th>\n",
       "      <td>4.532343</td>\n",
       "    </tr>\n",
       "    <tr>\n",
       "      <th>EX_h_e_glc_ko</th>\n",
       "      <td>-6.134506</td>\n",
       "    </tr>\n",
       "    <tr>\n",
       "      <th>EX_h2o_e_glc_ko</th>\n",
       "      <td>7.462523</td>\n",
       "    </tr>\n",
       "    <tr>\n",
       "      <th>EX_nh4_e_glc_ko</th>\n",
       "      <td>-4.532343</td>\n",
       "    </tr>\n",
       "    <tr>\n",
       "      <th>EX_o2_e_glc_ko</th>\n",
       "      <td>-5.196352</td>\n",
       "    </tr>\n",
       "    <tr>\n",
       "      <th>EX_ac_e_nh4_ko</th>\n",
       "      <td>6.134506</td>\n",
       "    </tr>\n",
       "    <tr>\n",
       "      <th>EX_akg_e_nh4_ko</th>\n",
       "      <td>4.532343</td>\n",
       "    </tr>\n",
       "    <tr>\n",
       "      <th>EX_co2_e_nh4_ko</th>\n",
       "      <td>15.563372</td>\n",
       "    </tr>\n",
       "    <tr>\n",
       "      <th>EX_etoh_e_nh4_ko</th>\n",
       "      <td>-1.602163</td>\n",
       "    </tr>\n",
       "    <tr>\n",
       "      <th>EX_glc__D_e_nh4_ko</th>\n",
       "      <td>-10.000000</td>\n",
       "    </tr>\n",
       "    <tr>\n",
       "      <th>EX_glu__L_e_nh4_ko</th>\n",
       "      <td>-4.532343</td>\n",
       "    </tr>\n",
       "    <tr>\n",
       "      <th>EX_h_e_nh4_ko</th>\n",
       "      <td>22.808289</td>\n",
       "    </tr>\n",
       "    <tr>\n",
       "      <th>EX_h2o_e_nh4_ko</th>\n",
       "      <td>23.220295</td>\n",
       "    </tr>\n",
       "    <tr>\n",
       "      <th>EX_o2_e_nh4_ko</th>\n",
       "      <td>-18.470761</td>\n",
       "    </tr>\n",
       "    <tr>\n",
       "      <th>EX_pi_e_nh4_ko</th>\n",
       "      <td>-3.057719</td>\n",
       "    </tr>\n",
       "    <tr>\n",
       "      <th>EX_glc__D_e</th>\n",
       "      <td>-10.000000</td>\n",
       "    </tr>\n",
       "    <tr>\n",
       "      <th>EX_h2o_e</th>\n",
       "      <td>30.682819</td>\n",
       "    </tr>\n",
       "    <tr>\n",
       "      <th>EX_h_e</th>\n",
       "      <td>16.673783</td>\n",
       "    </tr>\n",
       "    <tr>\n",
       "      <th>EX_nh4_e</th>\n",
       "      <td>-4.532343</td>\n",
       "    </tr>\n",
       "    <tr>\n",
       "      <th>EX_o2_e</th>\n",
       "      <td>-23.667113</td>\n",
       "    </tr>\n",
       "    <tr>\n",
       "      <th>EX_pi_e</th>\n",
       "      <td>-3.057719</td>\n",
       "    </tr>\n",
       "    <tr>\n",
       "      <th>EX_co2_e</th>\n",
       "      <td>24.628058</td>\n",
       "    </tr>\n",
       "  </tbody>\n",
       "</table>\n",
       "</div>"
      ],
      "text/plain": [
       "                    Flux rate\n",
       "Reaction ID                  \n",
       "EX_ac_e_glc_ko      -6.134506\n",
       "EX_akg_e_glc_ko     -4.532343\n",
       "EX_co2_e_glc_ko      9.064686\n",
       "EX_etoh_e_glc_ko     1.602163\n",
       "EX_glu__L_e_glc_ko   4.532343\n",
       "EX_h_e_glc_ko       -6.134506\n",
       "EX_h2o_e_glc_ko      7.462523\n",
       "EX_nh4_e_glc_ko     -4.532343\n",
       "EX_o2_e_glc_ko      -5.196352\n",
       "EX_ac_e_nh4_ko       6.134506\n",
       "EX_akg_e_nh4_ko      4.532343\n",
       "EX_co2_e_nh4_ko     15.563372\n",
       "EX_etoh_e_nh4_ko    -1.602163\n",
       "EX_glc__D_e_nh4_ko -10.000000\n",
       "EX_glu__L_e_nh4_ko  -4.532343\n",
       "EX_h_e_nh4_ko       22.808289\n",
       "EX_h2o_e_nh4_ko     23.220295\n",
       "EX_o2_e_nh4_ko     -18.470761\n",
       "EX_pi_e_nh4_ko      -3.057719\n",
       "EX_glc__D_e        -10.000000\n",
       "EX_h2o_e            30.682819\n",
       "EX_h_e              16.673783\n",
       "EX_nh4_e            -4.532343\n",
       "EX_o2_e            -23.667113\n",
       "EX_pi_e             -3.057719\n",
       "EX_co2_e            24.628058"
      ]
     },
     "execution_count": 49,
     "metadata": {},
     "output_type": "execute_result"
    }
   ],
   "source": [
    "solution = sim.simulate(constraints=M9)\n",
    "\n",
    "print(solution)\n",
    "solution.find('EX')"
   ]
  },
  {
   "cell_type": "markdown",
   "id": "e57cd648",
   "metadata": {},
   "source": [
    "We can see that the model predicts a growth rate (total biomass per hour) similar to the wild-type, with an efficient consumption of glucose and ammonia that results in respiratory metabolism.\n",
    "\n",
    "But what is each organism doing, and are both organisms actually growing at the same rate?\n",
    "\n",
    "Let's print the biomass flux for each organism:"
   ]
  },
  {
   "cell_type": "code",
   "execution_count": 50,
   "id": "0b5d171f",
   "metadata": {},
   "outputs": [
    {
     "data": {
      "text/html": [
       "<div>\n",
       "<style scoped>\n",
       "    .dataframe tbody tr th:only-of-type {\n",
       "        vertical-align: middle;\n",
       "    }\n",
       "\n",
       "    .dataframe tbody tr th {\n",
       "        vertical-align: top;\n",
       "    }\n",
       "\n",
       "    .dataframe thead th {\n",
       "        text-align: right;\n",
       "    }\n",
       "</style>\n",
       "<table border=\"1\" class=\"dataframe\">\n",
       "  <thead>\n",
       "    <tr style=\"text-align: right;\">\n",
       "      <th></th>\n",
       "      <th>Flux rate</th>\n",
       "    </tr>\n",
       "    <tr>\n",
       "      <th>Reaction ID</th>\n",
       "      <th></th>\n",
       "    </tr>\n",
       "  </thead>\n",
       "  <tbody>\n",
       "    <tr>\n",
       "      <th>BIOMASS_Ecoli_core_w_GAM_glc_ko</th>\n",
       "      <td>0.000000</td>\n",
       "    </tr>\n",
       "    <tr>\n",
       "      <th>BIOMASS_Ecoli_core_w_GAM_nh4_ko</th>\n",
       "      <td>0.831196</td>\n",
       "    </tr>\n",
       "  </tbody>\n",
       "</table>\n",
       "</div>"
      ],
      "text/plain": [
       "                                 Flux rate\n",
       "Reaction ID                               \n",
       "BIOMASS_Ecoli_core_w_GAM_glc_ko   0.000000\n",
       "BIOMASS_Ecoli_core_w_GAM_nh4_ko   0.831196"
      ]
     },
     "execution_count": 50,
     "metadata": {},
     "output_type": "execute_result"
    }
   ],
   "source": [
    "solution.find('BIOMASS', sort=True,show_nulls=True)"
   ]
  },
  {
   "cell_type": "markdown",
   "id": "4414dd8b",
   "metadata": {},
   "source": [
    "and all non null fluxes by organism:"
   ]
  },
  {
   "cell_type": "code",
   "execution_count": 51,
   "id": "960e9b0b",
   "metadata": {},
   "outputs": [
    {
     "data": {
      "text/html": [
       "<div>\n",
       "<style scoped>\n",
       "    .dataframe tbody tr th:only-of-type {\n",
       "        vertical-align: middle;\n",
       "    }\n",
       "\n",
       "    .dataframe tbody tr th {\n",
       "        vertical-align: top;\n",
       "    }\n",
       "\n",
       "    .dataframe thead th {\n",
       "        text-align: right;\n",
       "    }\n",
       "</style>\n",
       "<table border=\"1\" class=\"dataframe\">\n",
       "  <thead>\n",
       "    <tr style=\"text-align: right;\">\n",
       "      <th></th>\n",
       "      <th>name</th>\n",
       "      <th>compartment</th>\n",
       "      <th>formula</th>\n",
       "    </tr>\n",
       "    <tr>\n",
       "      <th>id</th>\n",
       "      <th></th>\n",
       "      <th></th>\n",
       "      <th></th>\n",
       "    </tr>\n",
       "  </thead>\n",
       "  <tbody>\n",
       "    <tr>\n",
       "      <th>community_biomass</th>\n",
       "      <td>Total community biomass</td>\n",
       "      <td>e</td>\n",
       "      <td>None</td>\n",
       "    </tr>\n",
       "    <tr>\n",
       "      <th>glc__D_e_glc_ko</th>\n",
       "      <td>D-Glucose</td>\n",
       "      <td>e_glc_ko</td>\n",
       "      <td>C6H12O6</td>\n",
       "    </tr>\n",
       "    <tr>\n",
       "      <th>glc__D_e</th>\n",
       "      <td>D-Glucose</td>\n",
       "      <td>e</td>\n",
       "      <td>C6H12O6</td>\n",
       "    </tr>\n",
       "    <tr>\n",
       "      <th>gln__L_c_glc_ko</th>\n",
       "      <td>L-Glutamine</td>\n",
       "      <td>c_glc_ko</td>\n",
       "      <td>C5H10N2O3</td>\n",
       "    </tr>\n",
       "    <tr>\n",
       "      <th>gln__L_e_glc_ko</th>\n",
       "      <td>L-Glutamine</td>\n",
       "      <td>e_glc_ko</td>\n",
       "      <td>C5H10N2O3</td>\n",
       "    </tr>\n",
       "    <tr>\n",
       "      <th>...</th>\n",
       "      <td>...</td>\n",
       "      <td>...</td>\n",
       "      <td>...</td>\n",
       "    </tr>\n",
       "    <tr>\n",
       "      <th>fru_e_nh4_ko</th>\n",
       "      <td>D-Fructose</td>\n",
       "      <td>e_nh4_ko</td>\n",
       "      <td>C6H12O6</td>\n",
       "    </tr>\n",
       "    <tr>\n",
       "      <th>fum_c_nh4_ko</th>\n",
       "      <td>Fumarate</td>\n",
       "      <td>c_nh4_ko</td>\n",
       "      <td>C4H2O4</td>\n",
       "    </tr>\n",
       "    <tr>\n",
       "      <th>fum_e_nh4_ko</th>\n",
       "      <td>Fumarate</td>\n",
       "      <td>e_nh4_ko</td>\n",
       "      <td>C4H2O4</td>\n",
       "    </tr>\n",
       "    <tr>\n",
       "      <th>g3p_c_nh4_ko</th>\n",
       "      <td>Glyceraldehyde 3-phosphate</td>\n",
       "      <td>c_nh4_ko</td>\n",
       "      <td>C3H5O6P</td>\n",
       "    </tr>\n",
       "    <tr>\n",
       "      <th>g6p_c_nh4_ko</th>\n",
       "      <td>D-Glucose 6-phosphate</td>\n",
       "      <td>c_nh4_ko</td>\n",
       "      <td>C6H11O9P</td>\n",
       "    </tr>\n",
       "  </tbody>\n",
       "</table>\n",
       "<p>165 rows × 3 columns</p>\n",
       "</div>"
      ],
      "text/plain": [
       "                                         name compartment    formula\n",
       "id                                                                  \n",
       "community_biomass     Total community biomass           e       None\n",
       "glc__D_e_glc_ko                     D-Glucose    e_glc_ko    C6H12O6\n",
       "glc__D_e                            D-Glucose           e    C6H12O6\n",
       "gln__L_c_glc_ko                   L-Glutamine    c_glc_ko  C5H10N2O3\n",
       "gln__L_e_glc_ko                   L-Glutamine    e_glc_ko  C5H10N2O3\n",
       "...                                       ...         ...        ...\n",
       "fru_e_nh4_ko                       D-Fructose    e_nh4_ko    C6H12O6\n",
       "fum_c_nh4_ko                         Fumarate    c_nh4_ko     C4H2O4\n",
       "fum_e_nh4_ko                         Fumarate    e_nh4_ko     C4H2O4\n",
       "g3p_c_nh4_ko       Glyceraldehyde 3-phosphate    c_nh4_ko    C3H5O6P\n",
       "g6p_c_nh4_ko            D-Glucose 6-phosphate    c_nh4_ko   C6H11O9P\n",
       "\n",
       "[165 rows x 3 columns]"
      ]
     },
     "execution_count": 51,
     "metadata": {},
     "output_type": "execute_result"
    }
   ],
   "source": [
    "sim.find_metabolites()"
   ]
  },
  {
   "cell_type": "code",
   "execution_count": 72,
   "id": "a69cf655",
   "metadata": {},
   "outputs": [
    {
     "data": {
      "text/html": [
       "<div>\n",
       "<style scoped>\n",
       "    .dataframe tbody tr th:only-of-type {\n",
       "        vertical-align: middle;\n",
       "    }\n",
       "\n",
       "    .dataframe tbody tr th {\n",
       "        vertical-align: top;\n",
       "    }\n",
       "\n",
       "    .dataframe thead th {\n",
       "        text-align: right;\n",
       "    }\n",
       "</style>\n",
       "<table border=\"1\" class=\"dataframe\">\n",
       "  <thead>\n",
       "    <tr style=\"text-align: right;\">\n",
       "      <th></th>\n",
       "      <th>Flux rate</th>\n",
       "    </tr>\n",
       "    <tr>\n",
       "      <th>Reaction ID</th>\n",
       "      <th></th>\n",
       "    </tr>\n",
       "  </thead>\n",
       "  <tbody>\n",
       "    <tr>\n",
       "      <th>ACALD_glc_ko</th>\n",
       "      <td>7.810667</td>\n",
       "    </tr>\n",
       "    <tr>\n",
       "      <th>ACALDt_glc_ko</th>\n",
       "      <td>0.288725</td>\n",
       "    </tr>\n",
       "    <tr>\n",
       "      <th>ACONTa_glc_ko</th>\n",
       "      <td>6.283168</td>\n",
       "    </tr>\n",
       "    <tr>\n",
       "      <th>ACONTb_glc_ko</th>\n",
       "      <td>6.283168</td>\n",
       "    </tr>\n",
       "    <tr>\n",
       "      <th>ADK1_glc_ko</th>\n",
       "      <td>1.904747</td>\n",
       "    </tr>\n",
       "    <tr>\n",
       "      <th>AKGDH_glc_ko</th>\n",
       "      <td>7.011377</td>\n",
       "    </tr>\n",
       "    <tr>\n",
       "      <th>AKGt2r_glc_ko</th>\n",
       "      <td>3.390348</td>\n",
       "    </tr>\n",
       "    <tr>\n",
       "      <th>ALCD2x_glc_ko</th>\n",
       "      <td>7.521941</td>\n",
       "    </tr>\n",
       "    <tr>\n",
       "      <th>ATPM_glc_ko</th>\n",
       "      <td>8.390000</td>\n",
       "    </tr>\n",
       "    <tr>\n",
       "      <th>ATPS4r_glc_ko</th>\n",
       "      <td>30.752670</td>\n",
       "    </tr>\n",
       "    <tr>\n",
       "      <th>BIOMASS_Ecoli_core_w_GAM_glc_ko</th>\n",
       "      <td>0.407572</td>\n",
       "    </tr>\n",
       "    <tr>\n",
       "      <th>CO2t_glc_ko</th>\n",
       "      <td>-13.294545</td>\n",
       "    </tr>\n",
       "    <tr>\n",
       "      <th>CS_glc_ko</th>\n",
       "      <td>6.283168</td>\n",
       "    </tr>\n",
       "    <tr>\n",
       "      <th>CYTBD_glc_ko</th>\n",
       "      <td>33.361706</td>\n",
       "    </tr>\n",
       "    <tr>\n",
       "      <th>ENO_glc_ko</th>\n",
       "      <td>-1.693177</td>\n",
       "    </tr>\n",
       "    <tr>\n",
       "      <th>ETOHt2r_glc_ko</th>\n",
       "      <td>7.521941</td>\n",
       "    </tr>\n",
       "    <tr>\n",
       "      <th>FBA_glc_ko</th>\n",
       "      <td>-0.405412</td>\n",
       "    </tr>\n",
       "    <tr>\n",
       "      <th>FBP_glc_ko</th>\n",
       "      <td>0.405412</td>\n",
       "    </tr>\n",
       "    <tr>\n",
       "      <th>FUM_glc_ko</th>\n",
       "      <td>7.011377</td>\n",
       "    </tr>\n",
       "    <tr>\n",
       "      <th>GAPD_glc_ko</th>\n",
       "      <td>-1.083449</td>\n",
       "    </tr>\n",
       "    <tr>\n",
       "      <th>GLNS_glc_ko</th>\n",
       "      <td>0.104216</td>\n",
       "    </tr>\n",
       "    <tr>\n",
       "      <th>GLUDy_glc_ko</th>\n",
       "      <td>-4.340602</td>\n",
       "    </tr>\n",
       "    <tr>\n",
       "      <th>GLUt2r_glc_ko</th>\n",
       "      <td>-2.222409</td>\n",
       "    </tr>\n",
       "    <tr>\n",
       "      <th>H2Ot_glc_ko</th>\n",
       "      <td>-18.390210</td>\n",
       "    </tr>\n",
       "    <tr>\n",
       "      <th>ICDHyr_glc_ko</th>\n",
       "      <td>6.283168</td>\n",
       "    </tr>\n",
       "    <tr>\n",
       "      <th>MDH_glc_ko</th>\n",
       "      <td>7.011377</td>\n",
       "    </tr>\n",
       "    <tr>\n",
       "      <th>NADH16_glc_ko</th>\n",
       "      <td>26.350329</td>\n",
       "    </tr>\n",
       "    <tr>\n",
       "      <th>NH4t_glc_ko</th>\n",
       "      <td>4.444818</td>\n",
       "    </tr>\n",
       "    <tr>\n",
       "      <th>O2t_glc_ko</th>\n",
       "      <td>16.680853</td>\n",
       "    </tr>\n",
       "    <tr>\n",
       "      <th>PGI_glc_ko</th>\n",
       "      <td>-0.083552</td>\n",
       "    </tr>\n",
       "    <tr>\n",
       "      <th>PGK_glc_ko</th>\n",
       "      <td>1.083449</td>\n",
       "    </tr>\n",
       "    <tr>\n",
       "      <th>PGM_glc_ko</th>\n",
       "      <td>1.693177</td>\n",
       "    </tr>\n",
       "    <tr>\n",
       "      <th>PIt2r_glc_ko</th>\n",
       "      <td>1.499335</td>\n",
       "    </tr>\n",
       "    <tr>\n",
       "      <th>PPS_glc_ko</th>\n",
       "      <td>1.904747</td>\n",
       "    </tr>\n",
       "    <tr>\n",
       "      <th>PYRt2_glc_ko</th>\n",
       "      <td>3.059318</td>\n",
       "    </tr>\n",
       "    <tr>\n",
       "      <th>RPE_glc_ko</th>\n",
       "      <td>-0.292963</td>\n",
       "    </tr>\n",
       "    <tr>\n",
       "      <th>RPI_glc_ko</th>\n",
       "      <td>-0.292963</td>\n",
       "    </tr>\n",
       "    <tr>\n",
       "      <th>SUCDi_glc_ko</th>\n",
       "      <td>7.011377</td>\n",
       "    </tr>\n",
       "    <tr>\n",
       "      <th>SUCOAS_glc_ko</th>\n",
       "      <td>-7.011377</td>\n",
       "    </tr>\n",
       "    <tr>\n",
       "      <th>TALA_glc_ko</th>\n",
       "      <td>-0.072915</td>\n",
       "    </tr>\n",
       "    <tr>\n",
       "      <th>THD2_glc_ko</th>\n",
       "      <td>3.367243</td>\n",
       "    </tr>\n",
       "    <tr>\n",
       "      <th>TKT1_glc_ko</th>\n",
       "      <td>-0.072915</td>\n",
       "    </tr>\n",
       "    <tr>\n",
       "      <th>TKT2_glc_ko</th>\n",
       "      <td>-0.220048</td>\n",
       "    </tr>\n",
       "    <tr>\n",
       "      <th>TPI_glc_ko</th>\n",
       "      <td>-0.405412</td>\n",
       "    </tr>\n",
       "    <tr>\n",
       "      <th>EX_glu__L_e_glc_ko</th>\n",
       "      <td>2.222409</td>\n",
       "    </tr>\n",
       "    <tr>\n",
       "      <th>EX_h2o_e_glc_ko</th>\n",
       "      <td>18.390210</td>\n",
       "    </tr>\n",
       "    <tr>\n",
       "      <th>EX_h_e_glc_ko</th>\n",
       "      <td>2.780701</td>\n",
       "    </tr>\n",
       "    <tr>\n",
       "      <th>EX_nh4_e_glc_ko</th>\n",
       "      <td>-4.444818</td>\n",
       "    </tr>\n",
       "    <tr>\n",
       "      <th>EX_o2_e_glc_ko</th>\n",
       "      <td>-16.680853</td>\n",
       "    </tr>\n",
       "    <tr>\n",
       "      <th>EX_pi_e_glc_ko</th>\n",
       "      <td>-1.499335</td>\n",
       "    </tr>\n",
       "    <tr>\n",
       "      <th>EX_pyr_e_glc_ko</th>\n",
       "      <td>-3.059318</td>\n",
       "    </tr>\n",
       "    <tr>\n",
       "      <th>EX_acald_e_glc_ko</th>\n",
       "      <td>-0.288725</td>\n",
       "    </tr>\n",
       "    <tr>\n",
       "      <th>EX_akg_e_glc_ko</th>\n",
       "      <td>-3.390348</td>\n",
       "    </tr>\n",
       "    <tr>\n",
       "      <th>EX_co2_e_glc_ko</th>\n",
       "      <td>13.294545</td>\n",
       "    </tr>\n",
       "    <tr>\n",
       "      <th>EX_etoh_e_glc_ko</th>\n",
       "      <td>-7.521941</td>\n",
       "    </tr>\n",
       "  </tbody>\n",
       "</table>\n",
       "</div>"
      ],
      "text/plain": [
       "                                 Flux rate\n",
       "Reaction ID                               \n",
       "ACALD_glc_ko                      7.810667\n",
       "ACALDt_glc_ko                     0.288725\n",
       "ACONTa_glc_ko                     6.283168\n",
       "ACONTb_glc_ko                     6.283168\n",
       "ADK1_glc_ko                       1.904747\n",
       "AKGDH_glc_ko                      7.011377\n",
       "AKGt2r_glc_ko                     3.390348\n",
       "ALCD2x_glc_ko                     7.521941\n",
       "ATPM_glc_ko                       8.390000\n",
       "ATPS4r_glc_ko                    30.752670\n",
       "BIOMASS_Ecoli_core_w_GAM_glc_ko   0.407572\n",
       "CO2t_glc_ko                     -13.294545\n",
       "CS_glc_ko                         6.283168\n",
       "CYTBD_glc_ko                     33.361706\n",
       "ENO_glc_ko                       -1.693177\n",
       "ETOHt2r_glc_ko                    7.521941\n",
       "FBA_glc_ko                       -0.405412\n",
       "FBP_glc_ko                        0.405412\n",
       "FUM_glc_ko                        7.011377\n",
       "GAPD_glc_ko                      -1.083449\n",
       "GLNS_glc_ko                       0.104216\n",
       "GLUDy_glc_ko                     -4.340602\n",
       "GLUt2r_glc_ko                    -2.222409\n",
       "H2Ot_glc_ko                     -18.390210\n",
       "ICDHyr_glc_ko                     6.283168\n",
       "MDH_glc_ko                        7.011377\n",
       "NADH16_glc_ko                    26.350329\n",
       "NH4t_glc_ko                       4.444818\n",
       "O2t_glc_ko                       16.680853\n",
       "PGI_glc_ko                       -0.083552\n",
       "PGK_glc_ko                        1.083449\n",
       "PGM_glc_ko                        1.693177\n",
       "PIt2r_glc_ko                      1.499335\n",
       "PPS_glc_ko                        1.904747\n",
       "PYRt2_glc_ko                      3.059318\n",
       "RPE_glc_ko                       -0.292963\n",
       "RPI_glc_ko                       -0.292963\n",
       "SUCDi_glc_ko                      7.011377\n",
       "SUCOAS_glc_ko                    -7.011377\n",
       "TALA_glc_ko                      -0.072915\n",
       "THD2_glc_ko                       3.367243\n",
       "TKT1_glc_ko                      -0.072915\n",
       "TKT2_glc_ko                      -0.220048\n",
       "TPI_glc_ko                       -0.405412\n",
       "EX_glu__L_e_glc_ko                2.222409\n",
       "EX_h2o_e_glc_ko                  18.390210\n",
       "EX_h_e_glc_ko                     2.780701\n",
       "EX_nh4_e_glc_ko                  -4.444818\n",
       "EX_o2_e_glc_ko                  -16.680853\n",
       "EX_pi_e_glc_ko                   -1.499335\n",
       "EX_pyr_e_glc_ko                  -3.059318\n",
       "EX_acald_e_glc_ko                -0.288725\n",
       "EX_akg_e_glc_ko                  -3.390348\n",
       "EX_co2_e_glc_ko                  13.294545\n",
       "EX_etoh_e_glc_ko                 -7.521941"
      ]
     },
     "execution_count": 72,
     "metadata": {},
     "output_type": "execute_result"
    }
   ],
   "source": [
    "solution.find('glc_ko')"
   ]
  },
  {
   "cell_type": "markdown",
   "id": "3110d63f",
   "metadata": {},
   "source": [
    "Actually it seems that only one of the organisms is growing while the other has an active metabolism (it exchanges metabolites with the environment and with the other organism) performing the role of a bioconverter, but none of the flux is used for growth. \n",
    "\n",
    "> Do you think this would be a stable consortium ?"
   ]
  },
  {
   "cell_type": "markdown",
   "id": "53b27460",
   "metadata": {},
   "source": [
    "## Regularized Community FBA\n",
    "\n",
    "Flux balance analysis (FBA) provides not one but potentially an infinite number of solutions. There are, however, a number different strategies to select one particular solution from the set of all possibles. One common approach is to select to most parsimonious solution that minimizes the sum of all fluxes (pFBA). \n",
    "\n",
    "Next, we simulate the community growth and select a solution based on L2 regularization of each community organism growth, that is, we aim to find the solution for which no organisms growth to fast while approaching each organisms individual growth:   "
   ]
  },
  {
   "cell_type": "code",
   "execution_count": 53,
   "id": "c4727cf5",
   "metadata": {},
   "outputs": [],
   "source": [
    "from mewpy.com import regComFBA"
   ]
  },
  {
   "cell_type": "code",
   "execution_count": 54,
   "id": "c80e5339",
   "metadata": {},
   "outputs": [
    {
     "data": {
      "text/html": [
       "<div>\n",
       "<style scoped>\n",
       "    .dataframe tbody tr th:only-of-type {\n",
       "        vertical-align: middle;\n",
       "    }\n",
       "\n",
       "    .dataframe tbody tr th {\n",
       "        vertical-align: top;\n",
       "    }\n",
       "\n",
       "    .dataframe thead th {\n",
       "        text-align: right;\n",
       "    }\n",
       "</style>\n",
       "<table border=\"1\" class=\"dataframe\">\n",
       "  <thead>\n",
       "    <tr style=\"text-align: right;\">\n",
       "      <th></th>\n",
       "      <th>Flux rate</th>\n",
       "    </tr>\n",
       "    <tr>\n",
       "      <th>Reaction ID</th>\n",
       "      <th></th>\n",
       "    </tr>\n",
       "  </thead>\n",
       "  <tbody>\n",
       "    <tr>\n",
       "      <th>BIOMASS_Ecoli_core_w_GAM_glc_ko</th>\n",
       "      <td>4.545680e-11</td>\n",
       "    </tr>\n",
       "    <tr>\n",
       "      <th>BIOMASS_Ecoli_core_w_GAM_nh4_ko</th>\n",
       "      <td>8.311956e-01</td>\n",
       "    </tr>\n",
       "    <tr>\n",
       "      <th>community_growth</th>\n",
       "      <td>8.311956e-01</td>\n",
       "    </tr>\n",
       "  </tbody>\n",
       "</table>\n",
       "</div>"
      ],
      "text/plain": [
       "                                    Flux rate\n",
       "Reaction ID                                  \n",
       "BIOMASS_Ecoli_core_w_GAM_glc_ko  4.545680e-11\n",
       "BIOMASS_Ecoli_core_w_GAM_nh4_ko  8.311956e-01\n",
       "community_growth                 8.311956e-01"
      ]
     },
     "execution_count": 54,
     "metadata": {},
     "output_type": "execute_result"
    }
   ],
   "source": [
    "solution = regComFBA(community,constraints=M9,obj_frac=1)\n",
    "solution.find('BIOMASS|growth', sort=True, show_nulls=True)"
   ]
  },
  {
   "cell_type": "markdown",
   "id": "948f6d4c",
   "metadata": {},
   "source": [
    "Or using the simulator"
   ]
  },
  {
   "cell_type": "code",
   "execution_count": 55,
   "id": "e6698a36",
   "metadata": {},
   "outputs": [
    {
     "data": {
      "text/html": [
       "<div>\n",
       "<style scoped>\n",
       "    .dataframe tbody tr th:only-of-type {\n",
       "        vertical-align: middle;\n",
       "    }\n",
       "\n",
       "    .dataframe tbody tr th {\n",
       "        vertical-align: top;\n",
       "    }\n",
       "\n",
       "    .dataframe thead th {\n",
       "        text-align: right;\n",
       "    }\n",
       "</style>\n",
       "<table border=\"1\" class=\"dataframe\">\n",
       "  <thead>\n",
       "    <tr style=\"text-align: right;\">\n",
       "      <th></th>\n",
       "      <th>Flux rate</th>\n",
       "    </tr>\n",
       "    <tr>\n",
       "      <th>Reaction ID</th>\n",
       "      <th></th>\n",
       "    </tr>\n",
       "  </thead>\n",
       "  <tbody>\n",
       "    <tr>\n",
       "      <th>BIOMASS_Ecoli_core_w_GAM_glc_ko</th>\n",
       "      <td>4.545680e-11</td>\n",
       "    </tr>\n",
       "    <tr>\n",
       "      <th>BIOMASS_Ecoli_core_w_GAM_nh4_ko</th>\n",
       "      <td>8.311956e-01</td>\n",
       "    </tr>\n",
       "    <tr>\n",
       "      <th>community_growth</th>\n",
       "      <td>8.311956e-01</td>\n",
       "    </tr>\n",
       "  </tbody>\n",
       "</table>\n",
       "</div>"
      ],
      "text/plain": [
       "                                    Flux rate\n",
       "Reaction ID                                  \n",
       "BIOMASS_Ecoli_core_w_GAM_glc_ko  4.545680e-11\n",
       "BIOMASS_Ecoli_core_w_GAM_nh4_ko  8.311956e-01\n",
       "community_growth                 8.311956e-01"
      ]
     },
     "execution_count": 55,
     "metadata": {},
     "output_type": "execute_result"
    }
   ],
   "source": [
    "solution=sim.simulate(method=regComFBA,constraints=M9,obj_frac=1)\n",
    "solution.find('BIOMASS|growth', sort=True, show_nulls=True)"
   ]
  },
  {
   "cell_type": "markdown",
   "id": "f6aebbfb",
   "metadata": {},
   "source": [
    "## Community Simulation with SteadyCom"
   ]
  },
  {
   "cell_type": "markdown",
   "id": "7b47083e",
   "metadata": {},
   "source": [
    "**SteadyCom** by [Chan, et al (2017)](https://journals.plos.org/ploscompbiol/article?id=10.1371/journal.pcbi.1005539) is a recent community simulation method that takes into account the fact that to reach a stable composition the organisms need to grow at the same *specific growth rate* (1/h), which means that the *absolute growth rate* (gDW/h) of each organism is proportional to its *abundance* at steady-state (gDW).\n",
    "\n",
    "Let's simulate the same community using SteadyCom:"
   ]
  },
  {
   "cell_type": "code",
   "execution_count": 56,
   "id": "2214667c",
   "metadata": {},
   "outputs": [
    {
     "name": "stderr",
     "output_type": "stream",
     "text": [
      "Organism: 100%|███████████████████████████████████| 2/2 [00:00<00:00,  8.92it/s]\n"
     ]
    }
   ],
   "source": [
    "solution = SteadyCom(community, constraints=M9)"
   ]
  },
  {
   "cell_type": "markdown",
   "id": "6e02ca07",
   "metadata": {},
   "source": [
    "In this case the solution object shows the overall community growth rate and the relative abundance of each species:"
   ]
  },
  {
   "cell_type": "code",
   "execution_count": 57,
   "id": "50794ba1",
   "metadata": {},
   "outputs": [
    {
     "data": {
      "text/plain": [
       "Community growth: 0.873046875\n",
       "glc_ko\t0.024884385078816997\n",
       "nh4_ko\t0.9751156149211829"
      ]
     },
     "execution_count": 57,
     "metadata": {},
     "output_type": "execute_result"
    }
   ],
   "source": [
    "solution"
   ]
  },
  {
   "cell_type": "markdown",
   "id": "86f91b4a",
   "metadata": {},
   "source": [
    "The `solution` object for community simulations implements a few additional features, such as enumerating all the cross-feeding interactions:"
   ]
  },
  {
   "cell_type": "code",
   "execution_count": 58,
   "id": "e5b8887e",
   "metadata": {},
   "outputs": [
    {
     "data": {
      "text/html": [
       "<div>\n",
       "<style scoped>\n",
       "    .dataframe tbody tr th:only-of-type {\n",
       "        vertical-align: middle;\n",
       "    }\n",
       "\n",
       "    .dataframe tbody tr th {\n",
       "        vertical-align: top;\n",
       "    }\n",
       "\n",
       "    .dataframe thead th {\n",
       "        text-align: right;\n",
       "    }\n",
       "</style>\n",
       "<table border=\"1\" class=\"dataframe\">\n",
       "  <thead>\n",
       "    <tr style=\"text-align: right;\">\n",
       "      <th></th>\n",
       "      <th>donor</th>\n",
       "      <th>receiver</th>\n",
       "      <th>compound</th>\n",
       "      <th>rate</th>\n",
       "    </tr>\n",
       "  </thead>\n",
       "  <tbody>\n",
       "    <tr>\n",
       "      <th>12</th>\n",
       "      <td>nh4_ko</td>\n",
       "      <td>glc_ko</td>\n",
       "      <td>pyr_e</td>\n",
       "      <td>24.884385</td>\n",
       "    </tr>\n",
       "    <tr>\n",
       "      <th>6</th>\n",
       "      <td>glc_ko</td>\n",
       "      <td>nh4_ko</td>\n",
       "      <td>lac__D_e</td>\n",
       "      <td>24.721311</td>\n",
       "    </tr>\n",
       "    <tr>\n",
       "      <th>18</th>\n",
       "      <td>nh4_ko</td>\n",
       "      <td>glc_ko</td>\n",
       "      <td>etoh_e</td>\n",
       "      <td>12.124982</td>\n",
       "    </tr>\n",
       "    <tr>\n",
       "      <th>14</th>\n",
       "      <td>glc_ko</td>\n",
       "      <td>nh4_ko</td>\n",
       "      <td>acald_e</td>\n",
       "      <td>9.701650</td>\n",
       "    </tr>\n",
       "    <tr>\n",
       "      <th>15</th>\n",
       "      <td>nh4_ko</td>\n",
       "      <td>glc_ko</td>\n",
       "      <td>akg_e</td>\n",
       "      <td>4.704342</td>\n",
       "    </tr>\n",
       "    <tr>\n",
       "      <th>1</th>\n",
       "      <td>glc_ko</td>\n",
       "      <td>nh4_ko</td>\n",
       "      <td>glu__L_e</td>\n",
       "      <td>4.642087</td>\n",
       "    </tr>\n",
       "    <tr>\n",
       "      <th>13</th>\n",
       "      <td>nh4_ko</td>\n",
       "      <td>glc_ko</td>\n",
       "      <td>ac_e</td>\n",
       "      <td>2.696120</td>\n",
       "    </tr>\n",
       "    <tr>\n",
       "      <th>2</th>\n",
       "      <td>nh4_ko</td>\n",
       "      <td>glc_ko</td>\n",
       "      <td>h2o_e</td>\n",
       "      <td>2.610785</td>\n",
       "    </tr>\n",
       "    <tr>\n",
       "      <th>4</th>\n",
       "      <td>nh4_ko</td>\n",
       "      <td>glc_ko</td>\n",
       "      <td>h_e</td>\n",
       "      <td>2.547897</td>\n",
       "    </tr>\n",
       "  </tbody>\n",
       "</table>\n",
       "</div>"
      ],
      "text/plain": [
       "     donor receiver  compound       rate\n",
       "12  nh4_ko   glc_ko     pyr_e  24.884385\n",
       "6   glc_ko   nh4_ko  lac__D_e  24.721311\n",
       "18  nh4_ko   glc_ko    etoh_e  12.124982\n",
       "14  glc_ko   nh4_ko   acald_e   9.701650\n",
       "15  nh4_ko   glc_ko     akg_e   4.704342\n",
       "1   glc_ko   nh4_ko  glu__L_e   4.642087\n",
       "13  nh4_ko   glc_ko      ac_e   2.696120\n",
       "2   nh4_ko   glc_ko     h2o_e   2.610785\n",
       "4   nh4_ko   glc_ko       h_e   2.547897"
      ]
     },
     "execution_count": 58,
     "metadata": {},
     "output_type": "execute_result"
    }
   ],
   "source": [
    "solution.cross_feeding(as_df=True).dropna().sort_values('rate', ascending=False)"
   ]
  },
  {
   "cell_type": "markdown",
   "id": "c61d9f30",
   "metadata": {},
   "source": [
    "We can plot the fluxes of each mutant in a map to help with interpretation of the results:"
   ]
  },
  {
   "cell_type": "code",
   "execution_count": 59,
   "id": "26e96715",
   "metadata": {
    "scrolled": true
   },
   "outputs": [
    {
     "name": "stdout",
     "output_type": "stream",
     "text": [
      "Downloading Map from https://escher.github.io/1-0-0/6/maps/Escherichia%20coli/e_coli_core.Core%20metabolism.json\n"
     ]
    },
    {
     "data": {
      "application/vnd.jupyter.widget-view+json": {
       "model_id": "58c1323d2e4c444f9e90aea6adefeb26",
       "version_major": 2,
       "version_minor": 0
      },
      "text/plain": [
       "Builder(reaction_data={'ACALD': 2.4233312762522647, 'ACALDt': -9.701650317231756, 'ACKr': 2.6961195998247263, …"
      ]
     },
     "metadata": {},
     "output_type": "display_data"
    }
   ],
   "source": [
    "from mewpy.visualization.escher import build_escher\n",
    "if 'google.colab' in str(get_ipython()):\n",
    "    from google.colab import output\n",
    "    output.enable_custom_widget_manager()\n",
    "\n",
    "build_escher(fluxes=solution.internal['glc_ko'])"
   ]
  },
  {
   "cell_type": "code",
   "execution_count": 60,
   "id": "3fe40d10",
   "metadata": {},
   "outputs": [
    {
     "name": "stdout",
     "output_type": "stream",
     "text": [
      "Downloading Map from https://escher.github.io/1-0-0/6/maps/Escherichia%20coli/e_coli_core.Core%20metabolism.json\n"
     ]
    },
    {
     "data": {
      "application/vnd.jupyter.widget-view+json": {
       "model_id": "23e22a45efbc417fab78caf8968134f4",
       "version_major": 2,
       "version_minor": 0
      },
      "text/plain": [
       "Builder(reaction_data={'ACALD': -2.4233312762522647, 'ACALDt': 9.701650317231756, 'ACKr': -2.6961195998247263,…"
      ]
     },
     "metadata": {},
     "output_type": "display_data"
    }
   ],
   "source": [
    "build_escher(fluxes=solution.internal['nh4_ko'])"
   ]
  },
  {
   "cell_type": "markdown",
   "id": "9de7dc40",
   "metadata": {},
   "source": [
    "## Explore alternative solutions\n",
    "\n",
    "Unfortunately, one limitation of **SteadyCom**, which is exemplified by [Chan, et al (2017)](https://journals.plos.org/ploscompbiol/article?id=10.1371/journal.pcbi.1005539) in Figure 3 (reproduced below), is the variability in the solution space when the community is not growing at the maximum (theoretical) growth rate.\n",
    "\n",
    "> Would you expect a synthetic community to grow at its maximum growth rate?\n",
    "\n",
    "**MEWpy** implements a variability analysis function for the SteadyCom solution space, let's see what happens if the community is growing at 90% of the theoretical maximum:"
   ]
  },
  {
   "cell_type": "code",
   "execution_count": 61,
   "id": "71695f63",
   "metadata": {},
   "outputs": [
    {
     "name": "stdout",
     "output_type": "stream",
     "text": [
      "Strain\tMin\tMax\n",
      "glc_ko\t0.4%\t98.3%\n",
      "nh4_ko\t1.7%\t99.6%\n"
     ]
    }
   ],
   "source": [
    "from mewpy.com import SteadyComVA\n",
    "variability = SteadyComVA(community, obj_frac=0.9, constraints=M9)\n",
    "\n",
    "print('Strain\\tMin\\tMax')\n",
    "for strain, (lower, upper) in variability.items():\n",
    "    print(f'{strain}\\t{lower:.1%}\\t{upper:.1%}')"
   ]
  },
  {
   "cell_type": "markdown",
   "id": "e2c8b384",
   "metadata": {},
   "source": [
    "As you can see, there is a really large variability in this solution space. This means that we know in theory the two mutants **can** cooperate and survive in minimal media, but there is still a lot of uncertainty with regard to **how** they will achieve a stable consortium.\n",
    "\n",
    "> How do you think we can reduce this uncertainty?"
   ]
  },
  {
   "cell_type": "markdown",
   "id": "5497e337",
   "metadata": {},
   "source": [
    "Firstly, lets set the environment conditions:"
   ]
  },
  {
   "cell_type": "code",
   "execution_count": 62,
   "id": "34220805",
   "metadata": {},
   "outputs": [],
   "source": [
    "sim.set_environmental_conditions(M9)"
   ]
  },
  {
   "cell_type": "markdown",
   "id": "3639ffde",
   "metadata": {},
   "source": [
    "We may now impose constraints on each organism growth, such as stating that each organism need to grow at least 0.1/h"
   ]
  },
  {
   "cell_type": "code",
   "execution_count": 63,
   "id": "1c660055",
   "metadata": {},
   "outputs": [
    {
     "data": {
      "text/plain": [
       "objective: 0.828309078247319\n",
       "Status: OPTIMAL\n",
       "Method:FBA"
      ]
     },
     "execution_count": 63,
     "metadata": {},
     "output_type": "execute_result"
    }
   ],
   "source": [
    "constraints={community.organisms_biomass['nh4_ko']:(0.1,1000), \n",
    "             community.organisms_biomass['glc_ko']:(0.1,1000)}\n",
    "solution = sim.simulate(constraints=constraints)\n",
    "solution"
   ]
  },
  {
   "cell_type": "code",
   "execution_count": 64,
   "id": "ecb0bce0",
   "metadata": {},
   "outputs": [
    {
     "data": {
      "text/html": [
       "<div>\n",
       "<style scoped>\n",
       "    .dataframe tbody tr th:only-of-type {\n",
       "        vertical-align: middle;\n",
       "    }\n",
       "\n",
       "    .dataframe tbody tr th {\n",
       "        vertical-align: top;\n",
       "    }\n",
       "\n",
       "    .dataframe thead th {\n",
       "        text-align: right;\n",
       "    }\n",
       "</style>\n",
       "<table border=\"1\" class=\"dataframe\">\n",
       "  <thead>\n",
       "    <tr style=\"text-align: right;\">\n",
       "      <th></th>\n",
       "      <th>Flux rate</th>\n",
       "    </tr>\n",
       "    <tr>\n",
       "      <th>Reaction ID</th>\n",
       "      <th></th>\n",
       "    </tr>\n",
       "  </thead>\n",
       "  <tbody>\n",
       "    <tr>\n",
       "      <th>BIOMASS_Ecoli_core_w_GAM_glc_ko</th>\n",
       "      <td>0.100000</td>\n",
       "    </tr>\n",
       "    <tr>\n",
       "      <th>BIOMASS_Ecoli_core_w_GAM_nh4_ko</th>\n",
       "      <td>0.728309</td>\n",
       "    </tr>\n",
       "  </tbody>\n",
       "</table>\n",
       "</div>"
      ],
      "text/plain": [
       "                                 Flux rate\n",
       "Reaction ID                               \n",
       "BIOMASS_Ecoli_core_w_GAM_glc_ko   0.100000\n",
       "BIOMASS_Ecoli_core_w_GAM_nh4_ko   0.728309"
      ]
     },
     "execution_count": 64,
     "metadata": {},
     "output_type": "execute_result"
    }
   ],
   "source": [
    "solution.find('BIOMASS')"
   ]
  },
  {
   "cell_type": "markdown",
   "id": "5ad3197e",
   "metadata": {},
   "source": [
    "Alternatively, we might choose to impose relative growth rates for each of the organisms, as a proxy of the community composition:"
   ]
  },
  {
   "cell_type": "code",
   "execution_count": 65,
   "id": "7ecc37ca",
   "metadata": {},
   "outputs": [],
   "source": [
    "community = CommunityModel([glc_ko, nh4_ko],\n",
    "                           add_compartments=True,\n",
    "                           merge_biomasses=True,\n",
    "                           flavor='cobra')"
   ]
  },
  {
   "cell_type": "code",
   "execution_count": 66,
   "id": "77f8eed9",
   "metadata": {},
   "outputs": [
    {
     "name": "stderr",
     "output_type": "stream",
     "text": [
      "Organism: 100%|███████████████████████████████████| 2/2 [00:00<00:00,  8.30it/s]\n"
     ]
    }
   ],
   "source": [
    "sim = community.get_community_model()\n",
    "sim.set_environmental_conditions(M9)"
   ]
  },
  {
   "cell_type": "code",
   "execution_count": 67,
   "id": "7d604601",
   "metadata": {},
   "outputs": [
    {
     "name": "stdout",
     "output_type": "stream",
     "text": [
      "objective: 0.4075720936398621\n",
      "Status: OPTIMAL\n",
      "Method:FBA\n"
     ]
    },
    {
     "data": {
      "text/html": [
       "<div>\n",
       "<style scoped>\n",
       "    .dataframe tbody tr th:only-of-type {\n",
       "        vertical-align: middle;\n",
       "    }\n",
       "\n",
       "    .dataframe tbody tr th {\n",
       "        vertical-align: top;\n",
       "    }\n",
       "\n",
       "    .dataframe thead th {\n",
       "        text-align: right;\n",
       "    }\n",
       "</style>\n",
       "<table border=\"1\" class=\"dataframe\">\n",
       "  <thead>\n",
       "    <tr style=\"text-align: right;\">\n",
       "      <th></th>\n",
       "      <th>Flux rate</th>\n",
       "    </tr>\n",
       "    <tr>\n",
       "      <th>Reaction ID</th>\n",
       "      <th></th>\n",
       "    </tr>\n",
       "  </thead>\n",
       "  <tbody>\n",
       "    <tr>\n",
       "      <th>BIOMASS_Ecoli_core_w_GAM_glc_ko</th>\n",
       "      <td>0.407572</td>\n",
       "    </tr>\n",
       "    <tr>\n",
       "      <th>BIOMASS_Ecoli_core_w_GAM_nh4_ko</th>\n",
       "      <td>0.407572</td>\n",
       "    </tr>\n",
       "  </tbody>\n",
       "</table>\n",
       "</div>"
      ],
      "text/plain": [
       "                                 Flux rate\n",
       "Reaction ID                               \n",
       "BIOMASS_Ecoli_core_w_GAM_glc_ko   0.407572\n",
       "BIOMASS_Ecoli_core_w_GAM_nh4_ko   0.407572"
      ]
     },
     "execution_count": 67,
     "metadata": {},
     "output_type": "execute_result"
    }
   ],
   "source": [
    "solution = sim.simulate()\n",
    "print(solution)\n",
    "solution.find('BIOMASS')"
   ]
  },
  {
   "cell_type": "code",
   "execution_count": 68,
   "id": "6402d86c",
   "metadata": {},
   "outputs": [
    {
     "data": {
      "text/html": [
       "<div>\n",
       "<style scoped>\n",
       "    .dataframe tbody tr th:only-of-type {\n",
       "        vertical-align: middle;\n",
       "    }\n",
       "\n",
       "    .dataframe tbody tr th {\n",
       "        vertical-align: top;\n",
       "    }\n",
       "\n",
       "    .dataframe thead th {\n",
       "        text-align: right;\n",
       "    }\n",
       "</style>\n",
       "<table border=\"1\" class=\"dataframe\">\n",
       "  <thead>\n",
       "    <tr style=\"text-align: right;\">\n",
       "      <th></th>\n",
       "      <th>name</th>\n",
       "      <th>lb</th>\n",
       "      <th>ub</th>\n",
       "      <th>stoichiometry</th>\n",
       "      <th>gpr</th>\n",
       "      <th>annotations</th>\n",
       "    </tr>\n",
       "    <tr>\n",
       "      <th>id</th>\n",
       "      <th></th>\n",
       "      <th></th>\n",
       "      <th></th>\n",
       "      <th></th>\n",
       "      <th></th>\n",
       "      <th></th>\n",
       "    </tr>\n",
       "  </thead>\n",
       "  <tbody>\n",
       "    <tr>\n",
       "      <th>community_growth</th>\n",
       "      <td>Community growth rate</td>\n",
       "      <td>0</td>\n",
       "      <td>inf</td>\n",
       "      <td>{'Biomass_glc_ko': -1, 'Biomass_nh4_ko': -1}</td>\n",
       "      <td></td>\n",
       "      <td>{}</td>\n",
       "    </tr>\n",
       "  </tbody>\n",
       "</table>\n",
       "</div>"
      ],
      "text/plain": [
       "                                   name  lb   ub  \\\n",
       "id                                                 \n",
       "community_growth  Community growth rate   0  inf   \n",
       "\n",
       "                                                 stoichiometry gpr annotations  \n",
       "id                                                                              \n",
       "community_growth  {'Biomass_glc_ko': -1, 'Biomass_nh4_ko': -1}              {}  "
      ]
     },
     "execution_count": 68,
     "metadata": {},
     "output_type": "execute_result"
    }
   ],
   "source": [
    "sim.find(community.biomass)"
   ]
  },
  {
   "cell_type": "markdown",
   "id": "d6dcc5da",
   "metadata": {},
   "source": [
    "The relative abundance (relative growth rates) are by default equal. We may though change these ratios:  "
   ]
  },
  {
   "cell_type": "code",
   "execution_count": 69,
   "id": "575721c6",
   "metadata": {},
   "outputs": [
    {
     "data": {
      "text/html": [
       "<div>\n",
       "<style scoped>\n",
       "    .dataframe tbody tr th:only-of-type {\n",
       "        vertical-align: middle;\n",
       "    }\n",
       "\n",
       "    .dataframe tbody tr th {\n",
       "        vertical-align: top;\n",
       "    }\n",
       "\n",
       "    .dataframe thead th {\n",
       "        text-align: right;\n",
       "    }\n",
       "</style>\n",
       "<table border=\"1\" class=\"dataframe\">\n",
       "  <thead>\n",
       "    <tr style=\"text-align: right;\">\n",
       "      <th></th>\n",
       "      <th>Flux rate</th>\n",
       "    </tr>\n",
       "    <tr>\n",
       "      <th>Reaction ID</th>\n",
       "      <th></th>\n",
       "    </tr>\n",
       "  </thead>\n",
       "  <tbody>\n",
       "    <tr>\n",
       "      <th>BIOMASS_Ecoli_core_w_GAM_glc_ko</th>\n",
       "      <td>0.105388</td>\n",
       "    </tr>\n",
       "    <tr>\n",
       "      <th>BIOMASS_Ecoli_core_w_GAM_nh4_ko</th>\n",
       "      <td>0.263471</td>\n",
       "    </tr>\n",
       "    <tr>\n",
       "      <th>community_growth</th>\n",
       "      <td>0.105388</td>\n",
       "    </tr>\n",
       "  </tbody>\n",
       "</table>\n",
       "</div>"
      ],
      "text/plain": [
       "                                 Flux rate\n",
       "Reaction ID                               \n",
       "BIOMASS_Ecoli_core_w_GAM_glc_ko   0.105388\n",
       "BIOMASS_Ecoli_core_w_GAM_nh4_ko   0.263471\n",
       "community_growth                  0.105388"
      ]
     },
     "execution_count": 69,
     "metadata": {},
     "output_type": "execute_result"
    }
   ],
   "source": [
    "community.set_abundance({'glc_ko':1,'nh4_ko':2.5})\n",
    "sim.simulate(method='pFBA').find('BIOMASS|growth')"
   ]
  },
  {
   "cell_type": "markdown",
   "id": "442759f3",
   "metadata": {},
   "source": [
    "## SMETANA\n",
    "\n",
    "**SMETANA** implements several algorithms to analyse cross-feeding interactions in microbial communities. These have been describe in [Zelezniak et al, PNAS (2015)](https://www.pnas.org/doi/abs/10.1073/pnas.1421834112). Please read the paper for a more detailed explanation."
   ]
  },
  {
   "cell_type": "markdown",
   "id": "3f23584e",
   "metadata": {},
   "source": [
    "SCS (species coupling score): measures the dependency of one species in the presence of the others to survive"
   ]
  },
  {
   "cell_type": "code",
   "execution_count": 70,
   "id": "45d28b6e",
   "metadata": {},
   "outputs": [
    {
     "name": "stderr",
     "output_type": "stream",
     "text": [
      "Organism: 100%|███████████████████████████████████| 2/2 [00:00<00:00,  8.69it/s]\n"
     ]
    },
    {
     "data": {
      "text/html": [
       "<div>\n",
       "<style scoped>\n",
       "    .dataframe tbody tr th:only-of-type {\n",
       "        vertical-align: middle;\n",
       "    }\n",
       "\n",
       "    .dataframe tbody tr th {\n",
       "        vertical-align: top;\n",
       "    }\n",
       "\n",
       "    .dataframe thead th {\n",
       "        text-align: right;\n",
       "    }\n",
       "</style>\n",
       "<table border=\"1\" class=\"dataframe\">\n",
       "  <thead>\n",
       "    <tr style=\"text-align: right;\">\n",
       "      <th></th>\n",
       "      <th>Value</th>\n",
       "    </tr>\n",
       "    <tr>\n",
       "      <th>Attribute</th>\n",
       "      <th></th>\n",
       "    </tr>\n",
       "  </thead>\n",
       "  <tbody>\n",
       "    <tr>\n",
       "      <th>glc_ko</th>\n",
       "      <td>{'nh4_ko': 1.0}</td>\n",
       "    </tr>\n",
       "    <tr>\n",
       "      <th>nh4_ko</th>\n",
       "      <td>{'glc_ko': 1.0}</td>\n",
       "    </tr>\n",
       "  </tbody>\n",
       "</table>\n",
       "</div>"
      ],
      "text/plain": [
       "                     Value\n",
       "Attribute                 \n",
       "glc_ko     {'nh4_ko': 1.0}\n",
       "nh4_ko     {'glc_ko': 1.0}"
      ]
     },
     "execution_count": 70,
     "metadata": {},
     "output_type": "execute_result"
    }
   ],
   "source": [
    "sc_score(community)"
   ]
  },
  {
   "cell_type": "markdown",
   "id": "2a521e6e",
   "metadata": {},
   "source": [
    "MUS (metabolite uptake score): measures how frequently a species needs to uptake a metabolite to survive"
   ]
  },
  {
   "cell_type": "code",
   "execution_count": 71,
   "id": "f779b482",
   "metadata": {},
   "outputs": [
    {
     "data": {
      "text/html": [
       "<div>\n",
       "<style scoped>\n",
       "    .dataframe tbody tr th:only-of-type {\n",
       "        vertical-align: middle;\n",
       "    }\n",
       "\n",
       "    .dataframe tbody tr th {\n",
       "        vertical-align: top;\n",
       "    }\n",
       "\n",
       "    .dataframe thead th {\n",
       "        text-align: right;\n",
       "    }\n",
       "</style>\n",
       "<table border=\"1\" class=\"dataframe\">\n",
       "  <thead>\n",
       "    <tr style=\"text-align: right;\">\n",
       "      <th></th>\n",
       "      <th>Value</th>\n",
       "    </tr>\n",
       "    <tr>\n",
       "      <th>Attribute</th>\n",
       "      <th></th>\n",
       "    </tr>\n",
       "  </thead>\n",
       "  <tbody>\n",
       "    <tr>\n",
       "      <th>glc_ko</th>\n",
       "      <td>{'ac_e': 0.18, 'acald_e': 0.26, 'akg_e': 0.1, ...</td>\n",
       "    </tr>\n",
       "    <tr>\n",
       "      <th>nh4_ko</th>\n",
       "      <td>{'ac_e': 0.07692307692307693, 'acald_e': 0.076...</td>\n",
       "    </tr>\n",
       "  </tbody>\n",
       "</table>\n",
       "</div>"
      ],
      "text/plain": [
       "                                                       Value\n",
       "Attribute                                                   \n",
       "glc_ko     {'ac_e': 0.18, 'acald_e': 0.26, 'akg_e': 0.1, ...\n",
       "nh4_ko     {'ac_e': 0.07692307692307693, 'acald_e': 0.076..."
      ]
     },
     "execution_count": 71,
     "metadata": {},
     "output_type": "execute_result"
    }
   ],
   "source": [
    "MUS = mu_score(community)\n",
    "MUS"
   ]
  },
  {
   "cell_type": "code",
   "execution_count": 38,
   "id": "d6175f02",
   "metadata": {},
   "outputs": [
    {
     "data": {
      "text/plain": [
       "{'ac_e': 0.18,\n",
       " 'acald_e': 0.26,\n",
       " 'akg_e': 0.1,\n",
       " 'co2_e': 0.0,\n",
       " 'etoh_e': 0.39,\n",
       " 'for_e': 0.0,\n",
       " 'fru_e': 0.0,\n",
       " 'fum_e': 0.0,\n",
       " 'glc__D_e': 0.0,\n",
       " 'gln__L_e': 0.0,\n",
       " 'glu__L_e': 0.0,\n",
       " 'h_e': 0.09,\n",
       " 'h2o_e': 0.13,\n",
       " 'lac__D_e': 0.25,\n",
       " 'mal__L_e': 0.0,\n",
       " 'nh4_e': 1.0,\n",
       " 'o2_e': 0.89,\n",
       " 'pi_e': 1.0,\n",
       " 'pyr_e': 0.27,\n",
       " 'succ_e': 0.03}"
      ]
     },
     "execution_count": 38,
     "metadata": {},
     "output_type": "execute_result"
    }
   ],
   "source": [
    "MUS.glc_ko"
   ]
  },
  {
   "cell_type": "code",
   "execution_count": 39,
   "id": "9449a68c",
   "metadata": {},
   "outputs": [
    {
     "data": {
      "text/plain": [
       "{'ac_e': 0.07692307692307693,\n",
       " 'acald_e': 0.07692307692307693,\n",
       " 'akg_e': 0.0,\n",
       " 'co2_e': 0.0,\n",
       " 'etoh_e': 0.0,\n",
       " 'for_e': 0.0,\n",
       " 'fru_e': 0.0,\n",
       " 'fum_e': 0.0,\n",
       " 'glc__D_e': 1.0,\n",
       " 'gln__L_e': 0.0,\n",
       " 'glu__L_e': 1.0,\n",
       " 'h_e': 0.0,\n",
       " 'h2o_e': 0.0,\n",
       " 'lac__D_e': 0.0,\n",
       " 'mal__L_e': 0.0,\n",
       " 'nh4_e': 0.0,\n",
       " 'o2_e': 0.07692307692307693,\n",
       " 'pi_e': 1.0,\n",
       " 'pyr_e': 0.07692307692307693,\n",
       " 'succ_e': 0.0}"
      ]
     },
     "execution_count": 39,
     "metadata": {},
     "output_type": "execute_result"
    }
   ],
   "source": [
    "MUS.nh4_ko"
   ]
  },
  {
   "cell_type": "markdown",
   "id": "19703e1f",
   "metadata": {},
   "source": [
    "MPS (metabolite production score): measures the ability of a species to produce a metabolite"
   ]
  },
  {
   "cell_type": "code",
   "execution_count": 40,
   "id": "095e8c80",
   "metadata": {},
   "outputs": [
    {
     "data": {
      "text/html": [
       "<div>\n",
       "<style scoped>\n",
       "    .dataframe tbody tr th:only-of-type {\n",
       "        vertical-align: middle;\n",
       "    }\n",
       "\n",
       "    .dataframe tbody tr th {\n",
       "        vertical-align: top;\n",
       "    }\n",
       "\n",
       "    .dataframe thead th {\n",
       "        text-align: right;\n",
       "    }\n",
       "</style>\n",
       "<table border=\"1\" class=\"dataframe\">\n",
       "  <thead>\n",
       "    <tr style=\"text-align: right;\">\n",
       "      <th></th>\n",
       "      <th>Value</th>\n",
       "    </tr>\n",
       "    <tr>\n",
       "      <th>Attribute</th>\n",
       "      <th></th>\n",
       "    </tr>\n",
       "  </thead>\n",
       "  <tbody>\n",
       "    <tr>\n",
       "      <th>glc_ko</th>\n",
       "      <td>{'etoh_e': 1, 'for_e': 1, 'h2o_e': 1, 'pyr_e':...</td>\n",
       "    </tr>\n",
       "    <tr>\n",
       "      <th>nh4_ko</th>\n",
       "      <td>{'etoh_e': 1, 'for_e': 1, 'h2o_e': 1, 'pyr_e':...</td>\n",
       "    </tr>\n",
       "  </tbody>\n",
       "</table>\n",
       "</div>"
      ],
      "text/plain": [
       "                                                       Value\n",
       "Attribute                                                   \n",
       "glc_ko     {'etoh_e': 1, 'for_e': 1, 'h2o_e': 1, 'pyr_e':...\n",
       "nh4_ko     {'etoh_e': 1, 'for_e': 1, 'h2o_e': 1, 'pyr_e':..."
      ]
     },
     "execution_count": 40,
     "metadata": {},
     "output_type": "execute_result"
    }
   ],
   "source": [
    "MPS = mp_score(community,environment=M9)\n",
    "MPS"
   ]
  },
  {
   "cell_type": "markdown",
   "id": "1fc8ec46",
   "metadata": {},
   "source": [
    "MRO (metabolic resource overlap): calculates how much the species compete for the same metabolites."
   ]
  },
  {
   "cell_type": "code",
   "execution_count": 41,
   "id": "761408d5",
   "metadata": {},
   "outputs": [
    {
     "name": "stdout",
     "output_type": "stream",
     "text": [
      "0.2857142857142857\n"
     ]
    },
    {
     "data": {
      "text/html": [
       "<div>\n",
       "<style scoped>\n",
       "    .dataframe tbody tr th:only-of-type {\n",
       "        vertical-align: middle;\n",
       "    }\n",
       "\n",
       "    .dataframe tbody tr th {\n",
       "        vertical-align: top;\n",
       "    }\n",
       "\n",
       "    .dataframe thead th {\n",
       "        text-align: right;\n",
       "    }\n",
       "</style>\n",
       "<table border=\"1\" class=\"dataframe\">\n",
       "  <thead>\n",
       "    <tr style=\"text-align: right;\">\n",
       "      <th></th>\n",
       "      <th>Value</th>\n",
       "    </tr>\n",
       "    <tr>\n",
       "      <th>Attribute</th>\n",
       "      <th></th>\n",
       "    </tr>\n",
       "  </thead>\n",
       "  <tbody>\n",
       "    <tr>\n",
       "      <th>community_medium</th>\n",
       "      <td>{o2, pi, glu}</td>\n",
       "    </tr>\n",
       "    <tr>\n",
       "      <th>individual_media</th>\n",
       "      <td>{'glc_ko': {'pi', 'pyr', 'nh4', 'o2'}, 'nh4_ko...</td>\n",
       "    </tr>\n",
       "  </tbody>\n",
       "</table>\n",
       "</div>"
      ],
      "text/plain": [
       "                                                              Value\n",
       "Attribute                                                          \n",
       "community_medium                                      {o2, pi, glu}\n",
       "individual_media  {'glc_ko': {'pi', 'pyr', 'nh4', 'o2'}, 'nh4_ko..."
      ]
     },
     "execution_count": 41,
     "metadata": {},
     "output_type": "execute_result"
    }
   ],
   "source": [
    "score, MRO = mro_score(community,environment=M9)\n",
    "print(score)\n",
    "MRO"
   ]
  },
  {
   "cell_type": "code",
   "execution_count": 42,
   "id": "2f72f3c5",
   "metadata": {},
   "outputs": [
    {
     "data": {
      "text/plain": [
       "{'nh4', 'o2', 'pi', 'pyr'}"
      ]
     },
     "execution_count": 42,
     "metadata": {},
     "output_type": "execute_result"
    }
   ],
   "source": [
    "MRO.individual_media.glc_ko"
   ]
  },
  {
   "cell_type": "code",
   "execution_count": 43,
   "id": "d5461666",
   "metadata": {},
   "outputs": [
    {
     "data": {
      "text/plain": [
       "{'glc', 'glu', 'pi'}"
      ]
     },
     "execution_count": 43,
     "metadata": {},
     "output_type": "execute_result"
    }
   ],
   "source": [
    "MRO.individual_media.nh4_ko"
   ]
  }
 ],
 "metadata": {
  "kernelspec": {
   "display_name": "Python 3 (ipykernel)",
   "language": "python",
   "name": "python3"
  },
  "language_info": {
   "codemirror_mode": {
    "name": "ipython",
    "version": 3
   },
   "file_extension": ".py",
   "mimetype": "text/x-python",
   "name": "python",
   "nbconvert_exporter": "python",
   "pygments_lexer": "ipython3",
   "version": "3.9.15"
  },
  "vscode": {
   "interpreter": {
    "hash": "53ddbca413d8c7d71c8bf00ad42e215a2a7a7728d07d0ca366dfc9251666779d"
   }
  }
 },
 "nbformat": 4,
 "nbformat_minor": 5
}
