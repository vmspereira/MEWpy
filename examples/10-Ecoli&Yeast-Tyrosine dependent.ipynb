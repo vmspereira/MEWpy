{
 "cells": [
  {
   "cell_type": "markdown",
   "id": "964f21d0",
   "metadata": {},
   "source": [
    "# Escherichia coli and Saccharomices cerevisiae co-culture\n",
    "\n",
    "The notebook illustrates how to \n",
    "- construct a community model representing the co-culture of Escherichia coli and Saccharomices cerevisiae from models of each single organism,\n",
    "- run FBA on the community model\n",
    "- optimize the co-culture for the production of a naringenin."
   ]
  },
  {
   "cell_type": "code",
   "execution_count": 1,
   "id": "671b4784",
   "metadata": {},
   "outputs": [],
   "source": [
    "from cobra.io import read_sbml_model\n",
    "\n",
    "from mewpy.optimization import EA\n",
    "from mewpy.optimization.evaluation import TargetFlux, BPCY\n",
    "from mewpy.problems import RKOProblem\n",
    "from mewpy import get_simulator\n",
    "from mewpy.com import *"
   ]
  },
  {
   "cell_type": "markdown",
   "id": "744898e7",
   "metadata": {},
   "source": [
    "## Load individual organism model"
   ]
  },
  {
   "cell_type": "code",
   "execution_count": 2,
   "id": "230f1c74",
   "metadata": {},
   "outputs": [
    {
     "name": "stdout",
     "output_type": "stream",
     "text": [
      "Set parameter Username\n",
      "Academic license - for non-commercial use only - expires 2024-12-11\n"
     ]
    },
    {
     "name": "stderr",
     "output_type": "stream",
     "text": [
      "No objective coefficients in model. Unclear what should be optimized\n"
     ]
    }
   ],
   "source": [
    "sc = read_sbml_model('models/yeast/iMM904.xml.gz')\n",
    "ec = read_sbml_model('models/ec/iAF1260.xml')\n",
    "get_simulator(ec).objective='BIOMASS'"
   ]
  },
  {
   "cell_type": "markdown",
   "id": "7ee03f89",
   "metadata": {},
   "source": [
    "# Community Model and Medium"
   ]
  },
  {
   "cell_type": "code",
   "execution_count": 3,
   "id": "46a6450f",
   "metadata": {},
   "outputs": [
    {
     "name": "stderr",
     "output_type": "stream",
     "text": [
      "Organism:   0%|                                                                      | 0/2 [00:00<?, ?it/s]Could not identify an external compartment by name and choosing one with the most boundary reactions. That might be complete nonsense or change suddenly. Consider renaming your compartments using `Model.compartments` to fix this.\n",
      "Could not identify an external compartment by name and choosing one with the most boundary reactions. That might be complete nonsense or change suddenly. Consider renaming your compartments using `Model.compartments` to fix this.\n",
      "Could not identify an external compartment by name and choosing one with the most boundary reactions. That might be complete nonsense or change suddenly. Consider renaming your compartments using `Model.compartments` to fix this.\n",
      "Could not identify an external compartment by name and choosing one with the most boundary reactions. That might be complete nonsense or change suddenly. Consider renaming your compartments using `Model.compartments` to fix this.\n",
      "Organism: 100%|██████████████████████████████████████████████████████████████| 2/2 [00:28<00:00, 14.37s/it]\n"
     ]
    }
   ],
   "source": [
    "community = CommunityModel([ec,sc])\n",
    "cmodel = community.merged_model"
   ]
  },
  {
   "cell_type": "code",
   "execution_count": 4,
   "id": "f94cee6c",
   "metadata": {},
   "outputs": [],
   "source": [
    "for rx in cmodel.get_exchange_reactions():\n",
    "    cmodel.set_reaction_bounds(rx,0,1000,False)"
   ]
  },
  {
   "cell_type": "code",
   "execution_count": 5,
   "id": "c90ed63c",
   "metadata": {},
   "outputs": [],
   "source": [
    "medium = dict()\n",
    "\n",
    "minimal_medium = ['R_EX_xyl__D_e', 'R_EX_ac_e_iMM904', 'R_EX_mobd_e', 'R_EX_cl_e', \n",
    "                  'R_EX_cobalt2_e','R_EX_mn2_e', 'R_EX_mg2_e', 'R_EX_ca2_e', 'R_EX_k_e', \n",
    "                  'R_EX_zn2_e', 'R_EX_xyl__D_e_iAF1260', 'R_EX_so4_e', \n",
    "                  'R_EX_cu_e', 'R_EX_fe3_e', 'R_EX_o2_e', 'R_EX_pi_e', \n",
    "                  'R_EX_nh4_e']\n",
    "\n",
    "# Carbon sources are constrained\n",
    "for exchange in minimal_medium:\n",
    "    if exchange != 'R_EX_xyl__D_e' and exchange != 'R_EX_ac_e_iMM904':\n",
    "        medium[exchange]=(-1000, 0)\n",
    "    else:\n",
    "        medium[exchange]=(-10, 1000)\n",
    "\n",
    "# Guarantee that L-Tyrosine is only produced by the organisms\n",
    "medium['R_EX_tyr__L_e'] = 0\n",
    "\n",
    "cmodel.set_environmental_conditions(medium)"
   ]
  },
  {
   "cell_type": "code",
   "execution_count": 6,
   "id": "4b8bd0df",
   "metadata": {},
   "outputs": [],
   "source": [
    "res = cmodel.simulate(method='pFBA')"
   ]
  },
  {
   "cell_type": "code",
   "execution_count": 7,
   "id": "8ddc4dc8",
   "metadata": {},
   "outputs": [
    {
     "data": {
      "text/html": [
       "<div>\n",
       "<style scoped>\n",
       "    .dataframe tbody tr th:only-of-type {\n",
       "        vertical-align: middle;\n",
       "    }\n",
       "\n",
       "    .dataframe tbody tr th {\n",
       "        vertical-align: top;\n",
       "    }\n",
       "\n",
       "    .dataframe thead th {\n",
       "        text-align: right;\n",
       "    }\n",
       "</style>\n",
       "<table border=\"1\" class=\"dataframe\">\n",
       "  <thead>\n",
       "    <tr style=\"text-align: right;\">\n",
       "      <th></th>\n",
       "      <th>Value</th>\n",
       "    </tr>\n",
       "    <tr>\n",
       "      <th>Reaction</th>\n",
       "      <th></th>\n",
       "    </tr>\n",
       "  </thead>\n",
       "  <tbody>\n",
       "    <tr>\n",
       "      <th>R_EX_tyr__L_e_iAF1260</th>\n",
       "      <td>-0.057137</td>\n",
       "    </tr>\n",
       "    <tr>\n",
       "      <th>R_EX_tyr__L_e_iMM904</th>\n",
       "      <td>0.057137</td>\n",
       "    </tr>\n",
       "    <tr>\n",
       "      <th>R_EX_tyr__L_e</th>\n",
       "      <td>-0.000000</td>\n",
       "    </tr>\n",
       "  </tbody>\n",
       "</table>\n",
       "</div>"
      ],
      "text/plain": [
       "                          Value\n",
       "Reaction                       \n",
       "R_EX_tyr__L_e_iAF1260 -0.057137\n",
       "R_EX_tyr__L_e_iMM904   0.057137\n",
       "R_EX_tyr__L_e         -0.000000"
      ]
     },
     "execution_count": 7,
     "metadata": {},
     "output_type": "execute_result"
    }
   ],
   "source": [
    "res.get_metabolite('M_tyr__L_e')"
   ]
  },
  {
   "cell_type": "code",
   "execution_count": 8,
   "id": "c54dda6d",
   "metadata": {},
   "outputs": [
    {
     "data": {
      "text/plain": [
       "{'R_EX_tyr__L_e_iAF1260': [-0.06201572827296663, 0.4629281063033095],\n",
       " 'R_EX_tyr__L_e_iMM904': [-0.46292810649603566, 0.062015728275737037]}"
      ]
     },
     "execution_count": 8,
     "metadata": {},
     "output_type": "execute_result"
    }
   ],
   "source": [
    "cmodel.FVA(reactions=['R_EX_tyr__L_e_iAF1260','R_EX_tyr__L_e_iMM904'])"
   ]
  },
  {
   "cell_type": "markdown",
   "id": "eb3d0ccb",
   "metadata": {},
   "source": [
    "## Optimization"
   ]
  },
  {
   "cell_type": "code",
   "execution_count": 10,
   "id": "d3e3b08c",
   "metadata": {},
   "outputs": [],
   "source": [
    "TARGET = 'R_EX_tyr__L_e_iAF1260'"
   ]
  },
  {
   "cell_type": "code",
   "execution_count": 11,
   "id": "08757ac8",
   "metadata": {},
   "outputs": [
    {
     "data": {
      "text/plain": [
       "'community_growth'"
      ]
     },
     "execution_count": 11,
     "metadata": {},
     "output_type": "execute_result"
    }
   ],
   "source": [
    "BIOMASS = list(cmodel.objective.keys())[0]\n",
    "BIOMASS"
   ]
  },
  {
   "cell_type": "code",
   "execution_count": 12,
   "id": "ef387529",
   "metadata": {},
   "outputs": [],
   "source": [
    "f1 = BPCY(BIOMASS,TARGET)\n",
    "f2 = TargetFlux(TARGET)"
   ]
  },
  {
   "cell_type": "code",
   "execution_count": 13,
   "id": "fb9dedf8",
   "metadata": {},
   "outputs": [
    {
     "name": "stderr",
     "output_type": "stream",
     "text": [
      "100%|██████████████████████████████████████████████████████████████████| 4320/4320 [06:58<00:00, 10.32it/s]\n"
     ]
    }
   ],
   "source": [
    "essential = cmodel.essential_reactions()"
   ]
  },
  {
   "cell_type": "code",
   "execution_count": 14,
   "id": "52d72fd4",
   "metadata": {},
   "outputs": [],
   "source": [
    "KO_targets = []\n",
    "\n",
    "for rxn in cmodel.reactions:\n",
    "        if rxn.endswith('iAF1260') and rxn not in essential:\n",
    "            if (rxn == 'R_ATPM_iAF1260'\n",
    "                or rxn.startswith('R_EX_') \n",
    "                or rxn.startswith('R_ATPS')\n",
    "                or rxn.endswith('tex_iAF1260')\n",
    "                or rxn.endswith('pp_iAF1260')\n",
    "                or rxn.endswith('exi_iAF1260')):\n",
    "                continue\n",
    "            else:\n",
    "                KO_targets.append(rxn)"
   ]
  },
  {
   "cell_type": "code",
   "execution_count": 15,
   "id": "1738198b",
   "metadata": {},
   "outputs": [
    {
     "data": {
      "text/plain": [
       "1038"
      ]
     },
     "execution_count": 15,
     "metadata": {},
     "output_type": "execute_result"
    }
   ],
   "source": [
    "len(KO_targets)"
   ]
  },
  {
   "cell_type": "code",
   "execution_count": 16,
   "id": "5c7994cd",
   "metadata": {},
   "outputs": [],
   "source": [
    "problem = RKOProblem(cmodel, \n",
    "                     fevaluation=[f1,f2],\n",
    "                     target=KO_targets,\n",
    "                     candidate_max_size=2)\n",
    "\n",
    "ea = EA(problem, max_generations = 10)"
   ]
  },
  {
   "cell_type": "code",
   "execution_count": 17,
   "id": "e5a3d000",
   "metadata": {},
   "outputs": [
    {
     "name": "stdout",
     "output_type": "stream",
     "text": [
      "Running NSGAII\n",
      "Eval(s)|     Worst      Best    Median   Average   Std Dev|     Worst      Best    Median   Average   Std Dev|\n",
      "    100|  -0.023636  -0.022767  -0.023636  -0.023596  0.000149|  -0.057137  -0.056078  -0.057137  -0.057089  0.000181|\n",
      "    200|  -0.023636  -0.022767  -0.023636  -0.023579  0.000167|  -0.057137  -0.056078  -0.057137  -0.057068  0.000203|\n",
      "    300|  -0.023636  -0.022746  -0.023614  -0.023511  0.000222|  -0.057137  -0.056051  -0.057111  -0.056985  0.000271|\n",
      "    400|  -0.023601  -0.022582  -0.023396  -0.023312  0.000289|  -0.057095  -0.055849  -0.056847  -0.056743  0.000352|\n",
      "    500|  -0.023167  -0.015257  -0.023053  -0.022875  0.000788|  -0.056568  -0.037559  -0.056428  -0.056117  0.001879|\n",
      "    600|  -0.022953  -0.015257  -0.022797  -0.022507  0.001291|  -0.056306  -0.037559  -0.056114  -0.055479  0.003162|\n",
      "    700|  -0.022767  -0.015257  -0.022491  -0.022096  0.001744|  -0.056078  -0.037559  -0.055736  -0.054693  0.004339|\n",
      "    800|  -0.022400  0.016952  -0.022241  -0.020890  0.004514|  -0.055623  0.041582  -0.055426  -0.051977  0.011266|\n",
      "    900|  -0.022241  0.016952  -0.022025  -0.017690  0.007824|  -0.055426  0.041582  -0.055156  -0.043979  0.019480|\n",
      "   1000|  -0.015257  0.016952  -0.015257  -0.011392  0.010467|  -0.037559  0.041582  -0.037559  -0.028062  0.025718|\n"
     ]
    },
    {
     "data": {
      "text/plain": [
       "[[0.016951661844721137, 0.041582081575620475];{'R_CS_iAF1260': 0, 'R_PPM_iAF1260': 0},\n",
       " [-0.015257349329576394, -0.03755919954146343];{'R_3OAR80_iAF1260': 0, 'R_PPM_iAF1260': 0},\n",
       " [-0.015257349329576394, -0.03755919954146343];{'R_3OAS60_iAF1260': 0, 'R_PPM_iAF1260': 0}]"
      ]
     },
     "execution_count": 17,
     "metadata": {},
     "output_type": "execute_result"
    }
   ],
   "source": [
    "ea.run(simplify=False)"
   ]
  },
  {
   "cell_type": "code",
   "execution_count": 18,
   "id": "aa6f0b3b",
   "metadata": {},
   "outputs": [
    {
     "data": {
      "text/html": [
       "<div>\n",
       "<style scoped>\n",
       "    .dataframe tbody tr th:only-of-type {\n",
       "        vertical-align: middle;\n",
       "    }\n",
       "\n",
       "    .dataframe tbody tr th {\n",
       "        vertical-align: top;\n",
       "    }\n",
       "\n",
       "    .dataframe thead th {\n",
       "        text-align: right;\n",
       "    }\n",
       "</style>\n",
       "<table border=\"1\" class=\"dataframe\">\n",
       "  <thead>\n",
       "    <tr style=\"text-align: right;\">\n",
       "      <th></th>\n",
       "      <th>Modification</th>\n",
       "      <th>MSize</th>\n",
       "      <th>BPCY</th>\n",
       "      <th>TargetFlux</th>\n",
       "    </tr>\n",
       "  </thead>\n",
       "  <tbody>\n",
       "    <tr>\n",
       "      <th>0</th>\n",
       "      <td>{'R_CS_iAF1260': 0, 'R_PPM_iAF1260': 0}</td>\n",
       "      <td>2</td>\n",
       "      <td>0.016952</td>\n",
       "      <td>0.041582</td>\n",
       "    </tr>\n",
       "    <tr>\n",
       "      <th>1</th>\n",
       "      <td>{'R_3OAR80_iAF1260': 0, 'R_PPM_iAF1260': 0}</td>\n",
       "      <td>2</td>\n",
       "      <td>-0.015257</td>\n",
       "      <td>-0.037559</td>\n",
       "    </tr>\n",
       "    <tr>\n",
       "      <th>2</th>\n",
       "      <td>{'R_3OAS60_iAF1260': 0, 'R_PPM_iAF1260': 0}</td>\n",
       "      <td>2</td>\n",
       "      <td>-0.015257</td>\n",
       "      <td>-0.037559</td>\n",
       "    </tr>\n",
       "  </tbody>\n",
       "</table>\n",
       "</div>"
      ],
      "text/plain": [
       "                                  Modification  MSize      BPCY  TargetFlux\n",
       "0      {'R_CS_iAF1260': 0, 'R_PPM_iAF1260': 0}      2  0.016952    0.041582\n",
       "1  {'R_3OAR80_iAF1260': 0, 'R_PPM_iAF1260': 0}      2 -0.015257   -0.037559\n",
       "2  {'R_3OAS60_iAF1260': 0, 'R_PPM_iAF1260': 0}      2 -0.015257   -0.037559"
      ]
     },
     "execution_count": 18,
     "metadata": {},
     "output_type": "execute_result"
    }
   ],
   "source": [
    "ea.dataframe()"
   ]
  },
  {
   "cell_type": "markdown",
   "id": "ccd4346f",
   "metadata": {},
   "source": [
    "# Evaluate solutions"
   ]
  },
  {
   "cell_type": "code",
   "execution_count": 19,
   "id": "8734a2b7",
   "metadata": {},
   "outputs": [],
   "source": [
    "solution = {'R_PYK_iAF1260':0, 'R_PPNDH_iAF1260':0}\n",
    "res = cmodel.simulate(method='pFBA',constraints=solution)"
   ]
  },
  {
   "cell_type": "code",
   "execution_count": 20,
   "id": "0d941ae2",
   "metadata": {},
   "outputs": [
    {
     "data": {
      "text/html": [
       "<div>\n",
       "<style scoped>\n",
       "    .dataframe tbody tr th:only-of-type {\n",
       "        vertical-align: middle;\n",
       "    }\n",
       "\n",
       "    .dataframe tbody tr th {\n",
       "        vertical-align: top;\n",
       "    }\n",
       "\n",
       "    .dataframe thead th {\n",
       "        text-align: right;\n",
       "    }\n",
       "</style>\n",
       "<table border=\"1\" class=\"dataframe\">\n",
       "  <thead>\n",
       "    <tr style=\"text-align: right;\">\n",
       "      <th></th>\n",
       "      <th>Flux rate</th>\n",
       "    </tr>\n",
       "    <tr>\n",
       "      <th>Reaction ID</th>\n",
       "      <th></th>\n",
       "    </tr>\n",
       "  </thead>\n",
       "  <tbody>\n",
       "    <tr>\n",
       "      <th>R_EX_tyr__L_e_iAF1260</th>\n",
       "      <td>0.041595</td>\n",
       "    </tr>\n",
       "    <tr>\n",
       "      <th>R_EX_tyr__L_e_iMM904</th>\n",
       "      <td>-0.041595</td>\n",
       "    </tr>\n",
       "  </tbody>\n",
       "</table>\n",
       "</div>"
      ],
      "text/plain": [
       "                       Flux rate\n",
       "Reaction ID                     \n",
       "R_EX_tyr__L_e_iAF1260   0.041595\n",
       "R_EX_tyr__L_e_iMM904   -0.041595"
      ]
     },
     "execution_count": 20,
     "metadata": {},
     "output_type": "execute_result"
    }
   ],
   "source": [
    "res.find('tyr')"
   ]
  },
  {
   "cell_type": "code",
   "execution_count": 21,
   "id": "f89cee61",
   "metadata": {},
   "outputs": [
    {
     "data": {
      "text/html": [
       "<div>\n",
       "<style scoped>\n",
       "    .dataframe tbody tr th:only-of-type {\n",
       "        vertical-align: middle;\n",
       "    }\n",
       "\n",
       "    .dataframe tbody tr th {\n",
       "        vertical-align: top;\n",
       "    }\n",
       "\n",
       "    .dataframe thead th {\n",
       "        text-align: right;\n",
       "    }\n",
       "</style>\n",
       "<table border=\"1\" class=\"dataframe\">\n",
       "  <thead>\n",
       "    <tr style=\"text-align: right;\">\n",
       "      <th></th>\n",
       "      <th>Flux rate</th>\n",
       "    </tr>\n",
       "    <tr>\n",
       "      <th>Reaction ID</th>\n",
       "      <th></th>\n",
       "    </tr>\n",
       "  </thead>\n",
       "  <tbody>\n",
       "    <tr>\n",
       "      <th>R_BIOMASS_iAF1260</th>\n",
       "      <td>0.407792</td>\n",
       "    </tr>\n",
       "    <tr>\n",
       "      <th>R_BIOMASS_SC5_notrace_iMM904</th>\n",
       "      <td>0.407792</td>\n",
       "    </tr>\n",
       "  </tbody>\n",
       "</table>\n",
       "</div>"
      ],
      "text/plain": [
       "                              Flux rate\n",
       "Reaction ID                            \n",
       "R_BIOMASS_iAF1260              0.407792\n",
       "R_BIOMASS_SC5_notrace_iMM904   0.407792"
      ]
     },
     "execution_count": 21,
     "metadata": {},
     "output_type": "execute_result"
    }
   ],
   "source": [
    "res.find('BIO')"
   ]
  },
  {
   "cell_type": "markdown",
   "id": "e81c92c6",
   "metadata": {},
   "source": [
    "Identify additional interactions:"
   ]
  },
  {
   "cell_type": "code",
   "execution_count": 22,
   "id": "18295c6c",
   "metadata": {},
   "outputs": [
    {
     "data": {
      "text/html": [
       "<div>\n",
       "<style scoped>\n",
       "    .dataframe tbody tr th:only-of-type {\n",
       "        vertical-align: middle;\n",
       "    }\n",
       "\n",
       "    .dataframe tbody tr th {\n",
       "        vertical-align: top;\n",
       "    }\n",
       "\n",
       "    .dataframe thead th {\n",
       "        text-align: right;\n",
       "    }\n",
       "</style>\n",
       "<table border=\"1\" class=\"dataframe\">\n",
       "  <thead>\n",
       "    <tr style=\"text-align: right;\">\n",
       "      <th></th>\n",
       "      <th>iAF1260</th>\n",
       "      <th>iMM904</th>\n",
       "      <th>Total Net</th>\n",
       "    </tr>\n",
       "    <tr>\n",
       "      <th>Metabolite</th>\n",
       "      <th></th>\n",
       "      <th></th>\n",
       "      <th></th>\n",
       "    </tr>\n",
       "  </thead>\n",
       "  <tbody>\n",
       "    <tr>\n",
       "      <th>M_pro__L_e</th>\n",
       "      <td>-0.090163</td>\n",
       "      <td>0.090163</td>\n",
       "      <td>0.00000</td>\n",
       "    </tr>\n",
       "    <tr>\n",
       "      <th>M_mobd_e</th>\n",
       "      <td>-0.001288</td>\n",
       "      <td>0.000000</td>\n",
       "      <td>-0.00129</td>\n",
       "    </tr>\n",
       "    <tr>\n",
       "      <th>M_cl_e</th>\n",
       "      <td>-0.001932</td>\n",
       "      <td>0.000000</td>\n",
       "      <td>-0.00193</td>\n",
       "    </tr>\n",
       "    <tr>\n",
       "      <th>M_asn__L_e</th>\n",
       "      <td>0.041472</td>\n",
       "      <td>-0.041472</td>\n",
       "      <td>0.00000</td>\n",
       "    </tr>\n",
       "    <tr>\n",
       "      <th>M_cobalt2_e</th>\n",
       "      <td>-0.001288</td>\n",
       "      <td>0.000000</td>\n",
       "      <td>-0.00129</td>\n",
       "    </tr>\n",
       "    <tr>\n",
       "      <th>M_orn_e</th>\n",
       "      <td>-0.186157</td>\n",
       "      <td>0.186157</td>\n",
       "      <td>0.00000</td>\n",
       "    </tr>\n",
       "    <tr>\n",
       "      <th>M_h2o_e</th>\n",
       "      <td>22.699018</td>\n",
       "      <td>11.551667</td>\n",
       "      <td>34.25068</td>\n",
       "    </tr>\n",
       "    <tr>\n",
       "      <th>M_co2_e</th>\n",
       "      <td>10.161833</td>\n",
       "      <td>8.482286</td>\n",
       "      <td>18.64412</td>\n",
       "    </tr>\n",
       "    <tr>\n",
       "      <th>M_fum_e</th>\n",
       "      <td>-14.169094</td>\n",
       "      <td>14.169094</td>\n",
       "      <td>0.00000</td>\n",
       "    </tr>\n",
       "    <tr>\n",
       "      <th>M_cu_e</th>\n",
       "      <td>-0.001288</td>\n",
       "      <td>0.000000</td>\n",
       "      <td>-0.00129</td>\n",
       "    </tr>\n",
       "    <tr>\n",
       "      <th>M_met__L_e</th>\n",
       "      <td>-0.062769</td>\n",
       "      <td>0.062769</td>\n",
       "      <td>0.00000</td>\n",
       "    </tr>\n",
       "    <tr>\n",
       "      <th>M_mn2_e</th>\n",
       "      <td>-0.001288</td>\n",
       "      <td>0.000000</td>\n",
       "      <td>-0.00129</td>\n",
       "    </tr>\n",
       "    <tr>\n",
       "      <th>M_phe__L_e</th>\n",
       "      <td>-0.071731</td>\n",
       "      <td>0.071731</td>\n",
       "      <td>0.00000</td>\n",
       "    </tr>\n",
       "    <tr>\n",
       "      <th>M_hxan_e</th>\n",
       "      <td>-6.753713</td>\n",
       "      <td>6.753713</td>\n",
       "      <td>0.00000</td>\n",
       "    </tr>\n",
       "    <tr>\n",
       "      <th>M_pi_e</th>\n",
       "      <td>-0.392017</td>\n",
       "      <td>-0.080620</td>\n",
       "      <td>-0.47264</td>\n",
       "    </tr>\n",
       "    <tr>\n",
       "      <th>M_thr__L_e</th>\n",
       "      <td>-0.230337</td>\n",
       "      <td>0.230337</td>\n",
       "      <td>0.00000</td>\n",
       "    </tr>\n",
       "    <tr>\n",
       "      <th>M_acald_e</th>\n",
       "      <td>0.373422</td>\n",
       "      <td>-0.373422</td>\n",
       "      <td>0.00000</td>\n",
       "    </tr>\n",
       "    <tr>\n",
       "      <th>M_ins_e</th>\n",
       "      <td>6.753713</td>\n",
       "      <td>-6.753713</td>\n",
       "      <td>0.00000</td>\n",
       "    </tr>\n",
       "    <tr>\n",
       "      <th>M_ile__L_e</th>\n",
       "      <td>0.038219</td>\n",
       "      <td>-0.038219</td>\n",
       "      <td>0.00000</td>\n",
       "    </tr>\n",
       "    <tr>\n",
       "      <th>M_mg2_e</th>\n",
       "      <td>-0.003220</td>\n",
       "      <td>0.000000</td>\n",
       "      <td>-0.00322</td>\n",
       "    </tr>\n",
       "    <tr>\n",
       "      <th>M_for_e</th>\n",
       "      <td>-0.002108</td>\n",
       "      <td>0.002108</td>\n",
       "      <td>0.00000</td>\n",
       "    </tr>\n",
       "    <tr>\n",
       "      <th>M_gua_e</th>\n",
       "      <td>0.014300</td>\n",
       "      <td>-0.014300</td>\n",
       "      <td>0.00000</td>\n",
       "    </tr>\n",
       "    <tr>\n",
       "      <th>M_succ_e</th>\n",
       "      <td>14.169094</td>\n",
       "      <td>-14.169094</td>\n",
       "      <td>0.00000</td>\n",
       "    </tr>\n",
       "    <tr>\n",
       "      <th>M_fe3_e</th>\n",
       "      <td>-0.005977</td>\n",
       "      <td>0.000000</td>\n",
       "      <td>-0.00598</td>\n",
       "    </tr>\n",
       "    <tr>\n",
       "      <th>M_tyr__L_e</th>\n",
       "      <td>0.041595</td>\n",
       "      <td>-0.041595</td>\n",
       "      <td>0.00000</td>\n",
       "    </tr>\n",
       "    <tr>\n",
       "      <th>M_ca2_e</th>\n",
       "      <td>-0.001932</td>\n",
       "      <td>0.000000</td>\n",
       "      <td>-0.00193</td>\n",
       "    </tr>\n",
       "    <tr>\n",
       "      <th>M_k_e</th>\n",
       "      <td>-0.072424</td>\n",
       "      <td>0.000000</td>\n",
       "      <td>-0.07242</td>\n",
       "    </tr>\n",
       "    <tr>\n",
       "      <th>M_ac_e</th>\n",
       "      <td>0.184974</td>\n",
       "      <td>-0.184974</td>\n",
       "      <td>0.00000</td>\n",
       "    </tr>\n",
       "    <tr>\n",
       "      <th>M_arg__L_e</th>\n",
       "      <td>0.065532</td>\n",
       "      <td>-0.065532</td>\n",
       "      <td>0.00000</td>\n",
       "    </tr>\n",
       "    <tr>\n",
       "      <th>M_ala__L_e</th>\n",
       "      <td>-0.082726</td>\n",
       "      <td>0.082726</td>\n",
       "      <td>0.00000</td>\n",
       "    </tr>\n",
       "    <tr>\n",
       "      <th>M_so4_e</th>\n",
       "      <td>-0.001610</td>\n",
       "      <td>-0.131962</td>\n",
       "      <td>-0.13357</td>\n",
       "    </tr>\n",
       "    <tr>\n",
       "      <th>M_xyl__D_e</th>\n",
       "      <td>-10.000000</td>\n",
       "      <td>0.000000</td>\n",
       "      <td>-10.00000</td>\n",
       "    </tr>\n",
       "    <tr>\n",
       "      <th>M_nh4_e</th>\n",
       "      <td>-4.869143</td>\n",
       "      <td>-1.810687</td>\n",
       "      <td>-6.67983</td>\n",
       "    </tr>\n",
       "    <tr>\n",
       "      <th>M_zn2_e</th>\n",
       "      <td>-0.001288</td>\n",
       "      <td>0.000000</td>\n",
       "      <td>-0.00129</td>\n",
       "    </tr>\n",
       "    <tr>\n",
       "      <th>M_h_e</th>\n",
       "      <td>5.625330</td>\n",
       "      <td>0.173067</td>\n",
       "      <td>5.79840</td>\n",
       "    </tr>\n",
       "    <tr>\n",
       "      <th>M_lys__L_e</th>\n",
       "      <td>0.116710</td>\n",
       "      <td>-0.116710</td>\n",
       "      <td>0.00000</td>\n",
       "    </tr>\n",
       "    <tr>\n",
       "      <th>M_his__L_e</th>\n",
       "      <td>0.027037</td>\n",
       "      <td>-0.027037</td>\n",
       "      <td>0.00000</td>\n",
       "    </tr>\n",
       "    <tr>\n",
       "      <th>M_akg_e</th>\n",
       "      <td>0.509536</td>\n",
       "      <td>-0.509536</td>\n",
       "      <td>0.00000</td>\n",
       "    </tr>\n",
       "    <tr>\n",
       "      <th>M_trp__L_e</th>\n",
       "      <td>0.011581</td>\n",
       "      <td>-0.011581</td>\n",
       "      <td>0.00000</td>\n",
       "    </tr>\n",
       "    <tr>\n",
       "      <th>M_ade_e</th>\n",
       "      <td>0.000182</td>\n",
       "      <td>-0.000182</td>\n",
       "      <td>0.00000</td>\n",
       "    </tr>\n",
       "    <tr>\n",
       "      <th>M_cys__L_e</th>\n",
       "      <td>-0.037671</td>\n",
       "      <td>0.037671</td>\n",
       "      <td>0.00000</td>\n",
       "    </tr>\n",
       "    <tr>\n",
       "      <th>M_leu__L_e</th>\n",
       "      <td>0.120869</td>\n",
       "      <td>-0.120869</td>\n",
       "      <td>0.00000</td>\n",
       "    </tr>\n",
       "    <tr>\n",
       "      <th>M_o2_e</th>\n",
       "      <td>-10.376920</td>\n",
       "      <td>-7.107278</td>\n",
       "      <td>-17.48420</td>\n",
       "    </tr>\n",
       "    <tr>\n",
       "      <th>M_ser__L_e</th>\n",
       "      <td>0.265250</td>\n",
       "      <td>-0.265250</td>\n",
       "      <td>0.00000</td>\n",
       "    </tr>\n",
       "    <tr>\n",
       "      <th>M_val__L_e</th>\n",
       "      <td>0.107902</td>\n",
       "      <td>-0.107902</td>\n",
       "      <td>0.00000</td>\n",
       "    </tr>\n",
       "    <tr>\n",
       "      <th>M_ura_e</th>\n",
       "      <td>0.045102</td>\n",
       "      <td>-0.045102</td>\n",
       "      <td>0.00000</td>\n",
       "    </tr>\n",
       "    <tr>\n",
       "      <th>M_etoh_e</th>\n",
       "      <td>-7.567070</td>\n",
       "      <td>7.567070</td>\n",
       "      <td>0.00000</td>\n",
       "    </tr>\n",
       "  </tbody>\n",
       "</table>\n",
       "</div>"
      ],
      "text/plain": [
       "               iAF1260     iMM904  Total Net\n",
       "Metabolite                                  \n",
       "M_pro__L_e   -0.090163   0.090163    0.00000\n",
       "M_mobd_e     -0.001288   0.000000   -0.00129\n",
       "M_cl_e       -0.001932   0.000000   -0.00193\n",
       "M_asn__L_e    0.041472  -0.041472    0.00000\n",
       "M_cobalt2_e  -0.001288   0.000000   -0.00129\n",
       "M_orn_e      -0.186157   0.186157    0.00000\n",
       "M_h2o_e      22.699018  11.551667   34.25068\n",
       "M_co2_e      10.161833   8.482286   18.64412\n",
       "M_fum_e     -14.169094  14.169094    0.00000\n",
       "M_cu_e       -0.001288   0.000000   -0.00129\n",
       "M_met__L_e   -0.062769   0.062769    0.00000\n",
       "M_mn2_e      -0.001288   0.000000   -0.00129\n",
       "M_phe__L_e   -0.071731   0.071731    0.00000\n",
       "M_hxan_e     -6.753713   6.753713    0.00000\n",
       "M_pi_e       -0.392017  -0.080620   -0.47264\n",
       "M_thr__L_e   -0.230337   0.230337    0.00000\n",
       "M_acald_e     0.373422  -0.373422    0.00000\n",
       "M_ins_e       6.753713  -6.753713    0.00000\n",
       "M_ile__L_e    0.038219  -0.038219    0.00000\n",
       "M_mg2_e      -0.003220   0.000000   -0.00322\n",
       "M_for_e      -0.002108   0.002108    0.00000\n",
       "M_gua_e       0.014300  -0.014300    0.00000\n",
       "M_succ_e     14.169094 -14.169094    0.00000\n",
       "M_fe3_e      -0.005977   0.000000   -0.00598\n",
       "M_tyr__L_e    0.041595  -0.041595    0.00000\n",
       "M_ca2_e      -0.001932   0.000000   -0.00193\n",
       "M_k_e        -0.072424   0.000000   -0.07242\n",
       "M_ac_e        0.184974  -0.184974    0.00000\n",
       "M_arg__L_e    0.065532  -0.065532    0.00000\n",
       "M_ala__L_e   -0.082726   0.082726    0.00000\n",
       "M_so4_e      -0.001610  -0.131962   -0.13357\n",
       "M_xyl__D_e  -10.000000   0.000000  -10.00000\n",
       "M_nh4_e      -4.869143  -1.810687   -6.67983\n",
       "M_zn2_e      -0.001288   0.000000   -0.00129\n",
       "M_h_e         5.625330   0.173067    5.79840\n",
       "M_lys__L_e    0.116710  -0.116710    0.00000\n",
       "M_his__L_e    0.027037  -0.027037    0.00000\n",
       "M_akg_e       0.509536  -0.509536    0.00000\n",
       "M_trp__L_e    0.011581  -0.011581    0.00000\n",
       "M_ade_e       0.000182  -0.000182    0.00000\n",
       "M_cys__L_e   -0.037671   0.037671    0.00000\n",
       "M_leu__L_e    0.120869  -0.120869    0.00000\n",
       "M_o2_e      -10.376920  -7.107278  -17.48420\n",
       "M_ser__L_e    0.265250  -0.265250    0.00000\n",
       "M_val__L_e    0.107902  -0.107902    0.00000\n",
       "M_ura_e       0.045102  -0.045102    0.00000\n",
       "M_etoh_e     -7.567070   7.567070    0.00000"
      ]
     },
     "execution_count": 22,
     "metadata": {},
     "output_type": "execute_result"
    }
   ],
   "source": [
    "exchanges(community,res)"
   ]
  }
 ],
 "metadata": {
  "kernelspec": {
   "display_name": "cobra",
   "language": "python",
   "name": "cobra"
  },
  "language_info": {
   "codemirror_mode": {
    "name": "ipython",
    "version": 3
   },
   "file_extension": ".py",
   "mimetype": "text/x-python",
   "name": "python",
   "nbconvert_exporter": "python",
   "pygments_lexer": "ipython3",
   "version": "3.9.15"
  }
 },
 "nbformat": 4,
 "nbformat_minor": 5
}
