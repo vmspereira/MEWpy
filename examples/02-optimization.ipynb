{
 "cells": [
  {
   "cell_type": "markdown",
   "metadata": {},
   "source": [
    "# Strain Optimization in MEWpy\n",
    "\n",
    "This notebook exemplifies how MEWpy may be used in strain optimization tasks.\n",
    "We will consider the as goal to increase the production of succinate in E. coli in anaerobic conditions."
   ]
  },
  {
   "cell_type": "code",
   "execution_count": 1,
   "metadata": {},
   "outputs": [
    {
     "name": "stdout",
     "output_type": "stream",
     "text": [
      "Set parameter Username\n",
      "Academic license - for non-commercial use only - expires 2024-12-11\n"
     ]
    }
   ],
   "source": [
    "import pandas as pd\n",
    "pd.set_option(\"max_colwidth\", None)\n",
    "\n",
    "%matplotlib inline\n",
    "from cobra.io.sbml import read_sbml_model\n",
    "model = read_sbml_model(\"models/ec/e_coli_core.xml.gz\")"
   ]
  },
  {
   "cell_type": "markdown",
   "metadata": {},
   "source": [
    "Analyse the model's default medium"
   ]
  },
  {
   "cell_type": "code",
   "execution_count": 2,
   "metadata": {},
   "outputs": [
    {
     "data": {
      "text/html": [
       "<table border=\"1\" class=\"dataframe\">\n",
       "  <thead>\n",
       "    <tr style=\"text-align: right;\">\n",
       "      <th></th>\n",
       "      <th>lb</th>\n",
       "      <th>ub</th>\n",
       "    </tr>\n",
       "  </thead>\n",
       "  <tbody>\n",
       "    <tr>\n",
       "      <th>EX_co2_e</th>\n",
       "      <td>-10.0</td>\n",
       "      <td>inf</td>\n",
       "    </tr>\n",
       "    <tr>\n",
       "      <th>EX_glc__D_e</th>\n",
       "      <td>-10.0</td>\n",
       "      <td>inf</td>\n",
       "    </tr>\n",
       "    <tr>\n",
       "      <th>EX_h_e</th>\n",
       "      <td>-10.0</td>\n",
       "      <td>inf</td>\n",
       "    </tr>\n",
       "    <tr>\n",
       "      <th>EX_h2o_e</th>\n",
       "      <td>-10.0</td>\n",
       "      <td>inf</td>\n",
       "    </tr>\n",
       "    <tr>\n",
       "      <th>EX_nh4_e</th>\n",
       "      <td>-10.0</td>\n",
       "      <td>inf</td>\n",
       "    </tr>\n",
       "    <tr>\n",
       "      <th>EX_o2_e</th>\n",
       "      <td>-10.0</td>\n",
       "      <td>inf</td>\n",
       "    </tr>\n",
       "    <tr>\n",
       "      <th>EX_pi_e</th>\n",
       "      <td>-10.0</td>\n",
       "      <td>inf</td>\n",
       "    </tr>\n",
       "  </tbody>\n",
       "</table>"
      ],
      "text/plain": [
       "EX_co2_e\t-10.0\tinf\n",
       "EX_glc__D_e\t-10.0\tinf\n",
       "EX_h_e\t-10.0\tinf\n",
       "EX_h2o_e\t-10.0\tinf\n",
       "EX_nh4_e\t-10.0\tinf\n",
       "EX_o2_e\t-10.0\tinf\n",
       "EX_pi_e\t-10.0\tinf"
      ]
     },
     "execution_count": 2,
     "metadata": {},
     "output_type": "execute_result"
    }
   ],
   "source": [
    "from mewpy.simulation.environment import Environment\n",
    "import pandas as pd\n",
    "\n",
    "medium = Environment.from_model(model).get_compounds()\n",
    "env = Environment.from_compounds(medium)\n",
    "env"
   ]
  },
  {
   "cell_type": "markdown",
   "metadata": {},
   "source": [
    "Commercial solvers are better suited to address optimization tasks, such, as stain designs. As such, you might want to check the linear programming solvers available on your system:"
   ]
  },
  {
   "cell_type": "markdown",
   "metadata": {},
   "source": [
    "## Optimization problem\n",
    "\n",
    "Before running any optimization let us verify the production rate as well as the theoretic maximum rate of succinate in anaerobic conditions.\n",
    "To ease the script reutilization we will define some reaction identifiers as constants:"
   ]
  },
  {
   "cell_type": "code",
   "execution_count": 3,
   "metadata": {},
   "outputs": [],
   "source": [
    "BIOMASS = 'BIOMASS_Ecoli_core_w_GAM'\n",
    "PRODUCT = 'EX_succ_e'\n",
    "O2 = 'EX_o2_e'\n",
    "GLC = 'EX_glc__D_e'"
   ]
  },
  {
   "cell_type": "code",
   "execution_count": 4,
   "metadata": {},
   "outputs": [],
   "source": [
    "anaerobic = {O2: (0, 0)}"
   ]
  },
  {
   "cell_type": "code",
   "execution_count": 5,
   "metadata": {},
   "outputs": [
    {
     "data": {
      "text/html": [
       "<div>\n",
       "<style scoped>\n",
       "    .dataframe tbody tr th:only-of-type {\n",
       "        vertical-align: middle;\n",
       "    }\n",
       "\n",
       "    .dataframe tbody tr th {\n",
       "        vertical-align: top;\n",
       "    }\n",
       "\n",
       "    .dataframe thead th {\n",
       "        text-align: right;\n",
       "    }\n",
       "</style>\n",
       "<table border=\"1\" class=\"dataframe\">\n",
       "  <thead>\n",
       "    <tr style=\"text-align: right;\">\n",
       "      <th></th>\n",
       "      <th>Minimum</th>\n",
       "      <th>Maximum</th>\n",
       "    </tr>\n",
       "    <tr>\n",
       "      <th>Reaction ID</th>\n",
       "      <th></th>\n",
       "      <th></th>\n",
       "    </tr>\n",
       "  </thead>\n",
       "  <tbody>\n",
       "    <tr>\n",
       "      <th>EX_succ_e</th>\n",
       "      <td>0.0</td>\n",
       "      <td>1.911</td>\n",
       "    </tr>\n",
       "  </tbody>\n",
       "</table>\n",
       "</div>"
      ],
      "text/plain": [
       "             Minimum  Maximum\n",
       "Reaction ID                  \n",
       "EX_succ_e        0.0    1.911"
      ]
     },
     "execution_count": 5,
     "metadata": {},
     "output_type": "execute_result"
    }
   ],
   "source": [
    "from mewpy.simulation import get_simulator\n",
    "sim = get_simulator(model,envcond=anaerobic)\n",
    "sim.FVA(reactions=[PRODUCT],format='df')"
   ]
  },
  {
   "cell_type": "code",
   "execution_count": 6,
   "metadata": {},
   "outputs": [
    {
     "data": {
      "text/html": [
       "<div>\n",
       "<style scoped>\n",
       "    .dataframe tbody tr th:only-of-type {\n",
       "        vertical-align: middle;\n",
       "    }\n",
       "\n",
       "    .dataframe tbody tr th {\n",
       "        vertical-align: top;\n",
       "    }\n",
       "\n",
       "    .dataframe thead th {\n",
       "        text-align: right;\n",
       "    }\n",
       "</style>\n",
       "<table border=\"1\" class=\"dataframe\">\n",
       "  <thead>\n",
       "    <tr style=\"text-align: right;\">\n",
       "      <th></th>\n",
       "      <th>Flux rate</th>\n",
       "    </tr>\n",
       "    <tr>\n",
       "      <th>Reaction ID</th>\n",
       "      <th></th>\n",
       "    </tr>\n",
       "  </thead>\n",
       "  <tbody>\n",
       "    <tr>\n",
       "      <th>BIOMASS_Ecoli_core_w_GAM</th>\n",
       "      <td>0.211663</td>\n",
       "    </tr>\n",
       "  </tbody>\n",
       "</table>\n",
       "</div>"
      ],
      "text/plain": [
       "                          Flux rate\n",
       "Reaction ID                        \n",
       "BIOMASS_Ecoli_core_w_GAM   0.211663"
      ]
     },
     "execution_count": 6,
     "metadata": {},
     "output_type": "execute_result"
    }
   ],
   "source": [
    "sim.simulate(method='pFBA').find([BIOMASS,PRODUCT])"
   ]
  },
  {
   "cell_type": "markdown",
   "metadata": {},
   "source": [
    "The optimization problem requires the definition of one or more objective functions.\n",
    "In the next example, we define as objective the maximization of the Biomass-Product coupled yield and the maximization of the targeted product. MEWpy makes available other optimization objectives, please refer to the documentation."
   ]
  },
  {
   "cell_type": "code",
   "execution_count": 7,
   "metadata": {},
   "outputs": [],
   "source": [
    "from mewpy.optimization.evaluation import BPCY, TargetFlux\n",
    "\n",
    "objs = [ \n",
    "    BPCY(BIOMASS, PRODUCT),\n",
    "    TargetFlux(PRODUCT)\n",
    "]"
   ]
  },
  {
   "cell_type": "markdown",
   "metadata": {},
   "source": [
    "We can now define the growth medium and select the type of modification.\n",
    "We will begin by performing gene deletion (GKO) by selecting the appropriate problem instance, GKOProblem. "
   ]
  },
  {
   "cell_type": "code",
   "execution_count": 8,
   "metadata": {},
   "outputs": [],
   "source": [
    "from mewpy.problems import GKOProblem, GOUProblem\n",
    "\n",
    "problem = GOUProblem(model, objs, envcond=anaerobic, candidate_max_size=6)"
   ]
  },
  {
   "cell_type": "markdown",
   "metadata": {},
   "source": [
    "Other optimization methods/strategies may be used:\n",
    "* Reaction deletion: *RKOProblem*\n",
    "* Reaction under or over expression: *ROUProblem*\n",
    "* Gene under or over expression: *GOUProblem*\n",
    "\n",
    "A problem may include other parameters, such as the maximum number of genetic modification, a list of specitic targets, or non-targets (reactions/genes not to be modified). "
   ]
  },
  {
   "cell_type": "markdown",
   "metadata": {},
   "source": [
    "## Optimization algorithm\n",
    "\n",
    "An optimization engine to solve the problem need to be instanciated. MEWpy uses Evolutionary Algorithms (EA) for this task.\n",
    "\n",
    "EAs are algorithms that mimic the Darwinian evolutionary process, where a population of solutions evolves generation after generation. In the example we define a maximum of 50 generations.  "
   ]
  },
  {
   "cell_type": "code",
   "execution_count": 9,
   "metadata": {},
   "outputs": [],
   "source": [
    "from mewpy.optimization import EA\n",
    "ea = EA(problem, max_generations=50)"
   ]
  },
  {
   "cell_type": "markdown",
   "metadata": {},
   "source": [
    "For informations on additional options you may use the `help` command"
   ]
  },
  {
   "cell_type": "code",
   "execution_count": 10,
   "metadata": {},
   "outputs": [
    {
     "name": "stdout",
     "output_type": "stream",
     "text": [
      "Help on function EA in module mewpy.optimization:\n",
      "\n",
      "EA(problem, initial_population=[], max_generations=100, mp=True, visualizer=False, algorithm=None, **kwargs)\n",
      "    EA running helper. Returns an instance of the EA that reflects the global user configuration settings\n",
      "    such as preferred engine and algorithm.\n",
      "    \n",
      "    :param problem: The optimization problem.\n",
      "    :param list initial_population: The EA initial population. Default [].\n",
      "    :param int max_generations: The number of iterations of the EA (stopping criteria). Default globally defined.\n",
      "    :param bool mp: If multiprocessing should be used. Default True.\n",
      "    :param bool visualizer: If the pareto font should be displayed. Requires a graphic environment. Default False.\n",
      "    \n",
      "    Additional optional arguments:\n",
      "    \n",
      "    :param int population_size: EA population size.\n",
      "    \n",
      "    :returns: An instance of an EA optimizer.\n",
      "\n"
     ]
    }
   ],
   "source": [
    "help(EA)"
   ]
  },
  {
   "cell_type": "markdown",
   "metadata": {},
   "source": [
    "The EA may contemplate aditional parameters such as the identification of a specific algorithm (e.g. SPEA2, NSGAII, NSGAIII, GDE3, etc.), multiprocessing options, initial seeding, etc.\n",
    "\n",
    "To start the optimization process invoke the run method (Optionaly you may define if the final solutions are to be simplified or not):"
   ]
  },
  {
   "cell_type": "code",
   "execution_count": 11,
   "metadata": {},
   "outputs": [
    {
     "name": "stdout",
     "output_type": "stream",
     "text": [
      "Running NSGAII\n",
      "Eval(s)|     Worst      Best    Median   Average   Std Dev|     Worst      Best    Median   Average   Std Dev|\n",
      "    100|  -0.000000  0.266637  0.000000  0.004811  0.031423|  -0.000000  1.688172  0.000000  0.035772  0.234727|\n",
      "    200|  -0.000000  0.266637  0.000000  0.005777  0.031997|  -0.000000  1.688172  0.000000  0.040494  0.236329|\n",
      "    300|  -0.000000  0.266637  0.000000  0.017369  0.057077|  -0.000000  1.688172  0.000000  0.116406  0.395763|\n",
      "    400|  -0.000000  0.266637  0.000000  0.043143  0.081472|  -0.000000  1.688172  0.000000  0.294911  0.583516|\n",
      "    500|  -0.000000  0.266637  0.048280  0.113694  0.102973|  -0.000000  1.688172  0.236123  0.781527  0.742375|\n",
      "    600|  0.019083  0.266637  0.266637  0.223272  0.056129|  0.236123  1.688172  1.652859  1.629045  0.210819|\n",
      "    700|  0.166214  0.266637  0.266637  0.264495  0.014071|  1.652859  1.688172  1.652859  1.653662  0.004977|\n",
      "    800|  0.166214  0.266637  0.266637  0.264344  0.014080|  1.652859  1.688172  1.652859  1.653772  0.005006|\n",
      "    900|  0.166214  0.266637  0.266637  0.263926  0.014102|  1.652859  1.688172  1.652859  1.654076  0.005084|\n",
      "   1000|  0.166214  0.266637  0.266637  0.262903  0.014083|  1.652859  1.688172  1.652859  1.654820  0.005166|\n",
      "   1100|  0.166214  0.266637  0.259961  0.260376  0.013973|  1.652859  1.688172  1.657713  1.656655  0.005267|\n",
      "   1200|  0.166214  0.266637  0.259961  0.259817  0.010806|  1.652859  1.688172  1.657713  1.657432  0.004918|\n",
      "   1300|  0.166214  0.266637  0.259961  0.259947  0.010829|  1.652859  1.688172  1.657713  1.657338  0.004937|\n",
      "   1400|  0.166214  0.266637  0.259961  0.260656  0.010091|  1.652859  1.688172  1.657713  1.656829  0.004005|\n",
      "   1500|  0.166214  0.266637  0.259961  0.260742  0.010105|  1.652859  1.688172  1.657713  1.656767  0.004018|\n",
      "   1600|  0.166214  0.266637  0.259961  0.260777  0.010111|  1.652859  1.688172  1.657713  1.656741  0.004023|\n",
      "   1700|  0.166214  0.266637  0.259961  0.260813  0.010116|  1.652859  1.688172  1.657713  1.656715  0.004028|\n",
      "   1800|  0.166214  0.266637  0.263788  0.260569  0.014166|  1.652859  1.688172  1.654934  1.656513  0.005507|\n",
      "   1900|  0.166214  0.266637  0.263722  0.261677  0.010230|  1.652859  1.688172  1.654982  1.656087  0.004119|\n",
      "   2000|  0.166214  0.266637  0.263722  0.261187  0.010822|  1.652859  1.688172  1.654982  1.656439  0.004863|\n",
      "   2100|  0.166214  0.266637  0.263656  0.260847  0.011133|  1.652859  1.688172  1.655030  1.656683  0.005230|\n",
      "   2200|  0.166214  0.266637  0.263656  0.260501  0.011411|  1.652859  1.688172  1.655030  1.656932  0.005547|\n",
      "   2300|  0.166214  0.266637  0.263788  0.260662  0.011773|  1.652859  1.688172  1.654934  1.656813  0.005917|\n",
      "   2400|  0.166214  0.266637  0.263788  0.259894  0.012303|  1.652859  1.688172  1.654934  1.657365  0.006482|\n",
      "   2500|  0.166214  0.266637  0.263788  0.259444  0.012329|  1.652859  1.688172  1.654934  1.657691  0.006527|\n",
      "   2600|  0.166214  0.266637  0.262786  0.258491  0.012477|  1.652859  1.688172  1.655662  1.658380  0.006709|\n",
      "   2700|  0.166214  0.266637  0.261982  0.257523  0.012590|  1.652859  1.688172  1.656247  1.659079  0.006854|\n",
      "   2800|  0.166214  0.266637  0.261982  0.257289  0.012703|  1.652859  1.688172  1.656247  1.659247  0.006969|\n",
      "   2900|  0.166214  0.266637  0.260873  0.256565  0.012312|  1.652859  1.688172  1.657052  1.659774  0.006624|\n",
      "   3000|  0.166214  0.266637  0.259745  0.257269  0.011427|  1.652859  1.688172  1.657870  1.659272  0.005721|\n",
      "   3100|  0.166214  0.266637  0.258360  0.256199  0.011850|  1.652859  1.688172  1.658873  1.660042  0.006192|\n",
      "   3200|  0.166214  0.266637  0.258162  0.255756  0.011817|  1.652859  2.975636  1.659016  1.673584  0.131005|\n",
      "   3300|  0.166214  0.266637  0.258459  0.256148  0.012378|  1.652859  2.975636  1.659470  1.739404  0.312396|\n",
      "   3400|  0.166214  0.266637  0.261676  0.257592  0.012541|  1.652859  2.975636  1.661068  1.909933  0.515393|\n",
      "   3500|  0.166214  0.266637  0.265801  0.260527  0.012466|  1.652859  2.975636  1.681848  2.304150  0.656976|\n",
      "   3600|  0.048147  0.268048  0.265801  0.263699  0.021666|  1.652859  3.639538  2.975636  2.965322  0.148680|\n",
      "   3700|  0.048147  0.268048  0.265801  0.257289  0.042694|  1.652859  3.639538  2.975636  2.978337  0.190058|\n",
      "   3800|  0.048147  0.268048  0.265801  0.250902  0.055630|  1.652859  3.639538  2.975636  2.989388  0.224350|\n",
      "   3900|  0.048147  0.268048  0.266421  0.236147  0.075857|  1.652859  3.639538  2.944356  2.995012  0.318456|\n",
      "   4000|  0.048147  0.268048  0.266219  0.194576  0.102766|  2.832472  3.639538  2.954783  3.161330  0.337180|\n",
      "   4100|  0.024121  0.268048  0.266421  0.172516  0.108533|  2.832472  3.646674  2.944356  3.231834  0.354786|\n",
      "   4200|  0.024121  0.268048  0.266421  0.181015  0.107276|  2.832472  3.646674  2.944356  3.203576  0.349486|\n",
      "   4300|  0.024121  0.268048  0.266421  0.187310  0.105949|  2.832472  3.646674  2.944356  3.183433  0.343215|\n",
      "   4400|  0.024121  0.268048  0.266421  0.196044  0.103078|  2.832472  3.646674  2.944356  3.155358  0.333396|\n",
      "   4500|  0.024121  0.268048  0.266280  0.182984  0.107122|  2.832472  3.646674  2.951807  3.194849  0.349360|\n",
      "   4600|  0.105311  0.268048  0.267136  0.265213  0.016078|  2.832472  7.960626  2.902648  2.970103  0.502413|\n",
      "   4700|  0.105311  0.268048  0.266683  0.263589  0.022617|  2.832472  7.960626  2.929948  3.020956  0.706284|\n",
      "   4800|  0.105311  0.268048  0.266683  0.261912  0.027547|  2.832472  7.960626  2.929948  3.074450  0.859947|\n",
      "   4900|  0.105311  0.268048  0.266683  0.260233  0.031631|  2.832472  7.960626  2.929948  3.128158  0.987076|\n",
      "   5000|  0.105311  0.268048  0.266683  0.258560  0.035166|  2.832472  7.960626  2.929948  3.181409  1.097112|\n"
     ]
    },
    {
     "data": {
      "text/plain": [
       "[[0.26804789391240197, 2.8324723126768676];{'b1761': 0.5, 'b1276': 16},\n",
       " [0.10531059695351266, 7.960625859949961];{'b1136': 0.0625, 'b1276': 16},\n",
       " [0.2634477458282576, 3.071447050282778];{'b1761': 0.0625, 'b1297': 16, 'b1276': 16},\n",
       " [0.2658006440678183, 2.975636281071825];{'b1761': 0.03125, 'b1276': 16},\n",
       " [0.2674935834392603, 2.878325079562207];{'b1761': 0.5, 'b1297': 4, 'b1276': 16},\n",
       " [0.2671362515688754, 2.902648399676724];{'b1761': 0.25, 'b1276': 16},\n",
       " [0.26668294257033986, 2.92994795647064];{'b1761': 0.5, 'b1297': 8, 'b1276': 16},\n",
       " [0.2664214204053249, 2.9443557604738686];{'b1761': 0.125, 'b1276': 16},\n",
       " [0.2662801304743661, 2.9518070078965053];{'b1297': 8, 'b1276': 16, 'b1761': 0.25},\n",
       " [0.2660654369859636, 2.962736533609505];{'b1297': 8, 'b1761': 0.125, 'b1276': 16},\n",
       " [0.265954768381649, 2.968201296465923];{'b1297': 8, 'b1761': 0.0625, 'b1276': 16},\n",
       " [0.2660156317007702, 2.965209440872367];{'b1761': 0.0625, 'b1276': 16}]"
      ]
     },
     "execution_count": 11,
     "metadata": {},
     "output_type": "execute_result"
    }
   ],
   "source": [
    "ea.run(simplify=True)"
   ]
  },
  {
   "cell_type": "markdown",
   "metadata": {},
   "source": [
    "We can now list the set of solutions:"
   ]
  },
  {
   "cell_type": "code",
   "execution_count": 12,
   "metadata": {},
   "outputs": [
    {
     "data": {
      "text/html": [
       "<div>\n",
       "<style scoped>\n",
       "    .dataframe tbody tr th:only-of-type {\n",
       "        vertical-align: middle;\n",
       "    }\n",
       "\n",
       "    .dataframe tbody tr th {\n",
       "        vertical-align: top;\n",
       "    }\n",
       "\n",
       "    .dataframe thead th {\n",
       "        text-align: right;\n",
       "    }\n",
       "</style>\n",
       "<table border=\"1\" class=\"dataframe\">\n",
       "  <thead>\n",
       "    <tr style=\"text-align: right;\">\n",
       "      <th></th>\n",
       "      <th>Modification</th>\n",
       "      <th>Size</th>\n",
       "      <th>BPCY</th>\n",
       "      <th>TargetFlux</th>\n",
       "    </tr>\n",
       "  </thead>\n",
       "  <tbody>\n",
       "    <tr>\n",
       "      <th>0</th>\n",
       "      <td>{'b1761': 0.5, 'b1276': 16}</td>\n",
       "      <td>2</td>\n",
       "      <td>0.268048</td>\n",
       "      <td>2.832472</td>\n",
       "    </tr>\n",
       "    <tr>\n",
       "      <th>1</th>\n",
       "      <td>{'b1136': 0.0625, 'b1276': 16}</td>\n",
       "      <td>2</td>\n",
       "      <td>0.105311</td>\n",
       "      <td>7.960626</td>\n",
       "    </tr>\n",
       "    <tr>\n",
       "      <th>2</th>\n",
       "      <td>{'b1761': 0.0625, 'b1297': 16, 'b1276': 16}</td>\n",
       "      <td>3</td>\n",
       "      <td>0.263448</td>\n",
       "      <td>3.071447</td>\n",
       "    </tr>\n",
       "    <tr>\n",
       "      <th>3</th>\n",
       "      <td>{'b1761': 0.03125, 'b1276': 16}</td>\n",
       "      <td>2</td>\n",
       "      <td>0.265801</td>\n",
       "      <td>2.975636</td>\n",
       "    </tr>\n",
       "    <tr>\n",
       "      <th>4</th>\n",
       "      <td>{'b1761': 0.5, 'b1297': 4, 'b1276': 16}</td>\n",
       "      <td>3</td>\n",
       "      <td>0.267494</td>\n",
       "      <td>2.878325</td>\n",
       "    </tr>\n",
       "    <tr>\n",
       "      <th>5</th>\n",
       "      <td>{'b1761': 0.25, 'b1276': 16}</td>\n",
       "      <td>2</td>\n",
       "      <td>0.267136</td>\n",
       "      <td>2.902648</td>\n",
       "    </tr>\n",
       "    <tr>\n",
       "      <th>6</th>\n",
       "      <td>{'b1761': 0.5, 'b1297': 8, 'b1276': 16}</td>\n",
       "      <td>3</td>\n",
       "      <td>0.266683</td>\n",
       "      <td>2.929948</td>\n",
       "    </tr>\n",
       "    <tr>\n",
       "      <th>7</th>\n",
       "      <td>{'b1761': 0.125, 'b1276': 16}</td>\n",
       "      <td>2</td>\n",
       "      <td>0.266421</td>\n",
       "      <td>2.944356</td>\n",
       "    </tr>\n",
       "    <tr>\n",
       "      <th>8</th>\n",
       "      <td>{'b1297': 8, 'b1276': 16, 'b1761': 0.25}</td>\n",
       "      <td>3</td>\n",
       "      <td>0.266280</td>\n",
       "      <td>2.951807</td>\n",
       "    </tr>\n",
       "    <tr>\n",
       "      <th>9</th>\n",
       "      <td>{'b1297': 8, 'b1761': 0.125, 'b1276': 16}</td>\n",
       "      <td>3</td>\n",
       "      <td>0.266065</td>\n",
       "      <td>2.962737</td>\n",
       "    </tr>\n",
       "    <tr>\n",
       "      <th>10</th>\n",
       "      <td>{'b1297': 8, 'b1761': 0.0625, 'b1276': 16}</td>\n",
       "      <td>3</td>\n",
       "      <td>0.265955</td>\n",
       "      <td>2.968201</td>\n",
       "    </tr>\n",
       "    <tr>\n",
       "      <th>11</th>\n",
       "      <td>{'b1761': 0.0625, 'b1276': 16}</td>\n",
       "      <td>2</td>\n",
       "      <td>0.266016</td>\n",
       "      <td>2.965209</td>\n",
       "    </tr>\n",
       "  </tbody>\n",
       "</table>\n",
       "</div>"
      ],
      "text/plain": [
       "                                   Modification  Size      BPCY  TargetFlux\n",
       "0                   {'b1761': 0.5, 'b1276': 16}     2  0.268048    2.832472\n",
       "1                {'b1136': 0.0625, 'b1276': 16}     2  0.105311    7.960626\n",
       "2   {'b1761': 0.0625, 'b1297': 16, 'b1276': 16}     3  0.263448    3.071447\n",
       "3               {'b1761': 0.03125, 'b1276': 16}     2  0.265801    2.975636\n",
       "4       {'b1761': 0.5, 'b1297': 4, 'b1276': 16}     3  0.267494    2.878325\n",
       "5                  {'b1761': 0.25, 'b1276': 16}     2  0.267136    2.902648\n",
       "6       {'b1761': 0.5, 'b1297': 8, 'b1276': 16}     3  0.266683    2.929948\n",
       "7                 {'b1761': 0.125, 'b1276': 16}     2  0.266421    2.944356\n",
       "8      {'b1297': 8, 'b1276': 16, 'b1761': 0.25}     3  0.266280    2.951807\n",
       "9     {'b1297': 8, 'b1761': 0.125, 'b1276': 16}     3  0.266065    2.962737\n",
       "10   {'b1297': 8, 'b1761': 0.0625, 'b1276': 16}     3  0.265955    2.968201\n",
       "11               {'b1761': 0.0625, 'b1276': 16}     2  0.266016    2.965209"
      ]
     },
     "execution_count": 12,
     "metadata": {},
     "output_type": "execute_result"
    }
   ],
   "source": [
    "df=ea.dataframe()\n",
    "df"
   ]
  },
  {
   "cell_type": "markdown",
   "metadata": {},
   "source": [
    "Or view the best solutions on the objective space, the so called Pareto front:"
   ]
  },
  {
   "cell_type": "code",
   "execution_count": 13,
   "metadata": {},
   "outputs": [
    {
     "data": {
      "text/plain": [
       "[[0.26804789391240197, 2.8324723126768676];{'b1761': 0.5, 'b1276': 16},\n",
       " [0.10531059695351266, 7.960625859949961];{'b1136': 0.0625, 'b1276': 16},\n",
       " [0.2634477458282576, 3.071447050282778];{'b1761': 0.0625, 'b1297': 16, 'b1276': 16},\n",
       " [0.2658006440678183, 2.975636281071825];{'b1761': 0.03125, 'b1276': 16},\n",
       " [0.2674935834392603, 2.878325079562207];{'b1761': 0.5, 'b1297': 4, 'b1276': 16},\n",
       " [0.2671362515688754, 2.902648399676724];{'b1761': 0.25, 'b1276': 16},\n",
       " [0.26668294257033986, 2.92994795647064];{'b1761': 0.5, 'b1297': 8, 'b1276': 16},\n",
       " [0.2664214204053249, 2.9443557604738686];{'b1761': 0.125, 'b1276': 16},\n",
       " [0.2662801304743661, 2.9518070078965053];{'b1297': 8, 'b1276': 16, 'b1761': 0.25},\n",
       " [0.2660654369859636, 2.962736533609505];{'b1297': 8, 'b1761': 0.125, 'b1276': 16},\n",
       " [0.265954768381649, 2.968201296465923];{'b1297': 8, 'b1761': 0.0625, 'b1276': 16},\n",
       " [0.2660156317007702, 2.965209440872367];{'b1761': 0.0625, 'b1276': 16}]"
      ]
     },
     "execution_count": 13,
     "metadata": {},
     "output_type": "execute_result"
    }
   ],
   "source": [
    "ea.final_population"
   ]
  },
  {
   "cell_type": "markdown",
   "metadata": {},
   "source": [
    "We can save the solutions to file:"
   ]
  },
  {
   "cell_type": "code",
   "execution_count": 14,
   "metadata": {},
   "outputs": [],
   "source": [
    "df.to_csv('solutions.csv')"
   ]
  },
  {
   "cell_type": "markdown",
   "metadata": {},
   "source": [
    "or performe additional analysis on the solutions by retreiving the simulator used during the optimization.\n",
    " "
   ]
  },
  {
   "cell_type": "markdown",
   "metadata": {},
   "source": [
    "## Working with solutions\n",
    "\n",
    "Let us select the first solution:"
   ]
  },
  {
   "cell_type": "code",
   "execution_count": 16,
   "metadata": {},
   "outputs": [
    {
     "data": {
      "text/plain": [
       "[0.10531059695351266, 7.960625859949961];{'b1136': 0.0625, 'b1276': 16}"
      ]
     },
     "execution_count": 16,
     "metadata": {},
     "output_type": "execute_result"
    }
   ],
   "source": [
    "solution = ea.final_population[1]\n",
    "solution"
   ]
  },
  {
   "cell_type": "markdown",
   "metadata": {},
   "source": [
    "The solution is converted to metabolict constraints to be applied to the model. We can access these constrains using *solution.constraints*"
   ]
  },
  {
   "cell_type": "code",
   "execution_count": 17,
   "metadata": {},
   "outputs": [
    {
     "data": {
      "text/plain": [
       "{'ACONTa': (3.653810503510826, 10000),\n",
       " 'ACONTb': (3.653810503510826, 10000),\n",
       " 'ICDHyr': (0, 0.014272697279339164)}"
      ]
     },
     "execution_count": 17,
     "metadata": {},
     "output_type": "execute_result"
    }
   ],
   "source": [
    "solution.constraints"
   ]
  },
  {
   "cell_type": "markdown",
   "metadata": {},
   "source": [
    "We may run phenotypic simulations with the solution using those constraints. Note that there is no need to redefine the medium as they are persistent in the simulator instance."
   ]
  },
  {
   "cell_type": "code",
   "execution_count": 18,
   "metadata": {},
   "outputs": [
    {
     "data": {
      "text/plain": [
       "objective: 0.0\n",
       "Status: OPTIMAL\n",
       "Method:ROOM"
      ]
     },
     "execution_count": 18,
     "metadata": {},
     "output_type": "execute_result"
    }
   ],
   "source": [
    "sim = problem.simulator\n",
    "res=sim.simulate(constraints=solution.constraints,method='ROOM')\n",
    "res"
   ]
  },
  {
   "cell_type": "code",
   "execution_count": 19,
   "metadata": {},
   "outputs": [
    {
     "data": {
      "text/html": [
       "<div>\n",
       "<style scoped>\n",
       "    .dataframe tbody tr th:only-of-type {\n",
       "        vertical-align: middle;\n",
       "    }\n",
       "\n",
       "    .dataframe tbody tr th {\n",
       "        vertical-align: top;\n",
       "    }\n",
       "\n",
       "    .dataframe thead th {\n",
       "        text-align: right;\n",
       "    }\n",
       "</style>\n",
       "<table border=\"1\" class=\"dataframe\">\n",
       "  <thead>\n",
       "    <tr style=\"text-align: right;\">\n",
       "      <th></th>\n",
       "      <th>Flux rate</th>\n",
       "    </tr>\n",
       "    <tr>\n",
       "      <th>Reaction ID</th>\n",
       "      <th></th>\n",
       "    </tr>\n",
       "  </thead>\n",
       "  <tbody>\n",
       "    <tr>\n",
       "      <th>ACALD</th>\n",
       "      <td>-6.612803</td>\n",
       "    </tr>\n",
       "    <tr>\n",
       "      <th>ACALDt</th>\n",
       "      <td>-0.001000</td>\n",
       "    </tr>\n",
       "    <tr>\n",
       "      <th>ACKr</th>\n",
       "      <td>-0.001000</td>\n",
       "    </tr>\n",
       "    <tr>\n",
       "      <th>ACONTa</th>\n",
       "      <td>3.653811</td>\n",
       "    </tr>\n",
       "    <tr>\n",
       "      <th>ACONTb</th>\n",
       "      <td>3.653811</td>\n",
       "    </tr>\n",
       "    <tr>\n",
       "      <th>...</th>\n",
       "      <td>...</td>\n",
       "    </tr>\n",
       "    <tr>\n",
       "      <th>TALA</th>\n",
       "      <td>-0.002290</td>\n",
       "    </tr>\n",
       "    <tr>\n",
       "      <th>THD2</th>\n",
       "      <td>0.219020</td>\n",
       "    </tr>\n",
       "    <tr>\n",
       "      <th>TKT1</th>\n",
       "      <td>-0.002290</td>\n",
       "    </tr>\n",
       "    <tr>\n",
       "      <th>TKT2</th>\n",
       "      <td>-0.006911</td>\n",
       "    </tr>\n",
       "    <tr>\n",
       "      <th>TPI</th>\n",
       "      <td>9.180765</td>\n",
       "    </tr>\n",
       "  </tbody>\n",
       "</table>\n",
       "<p>72 rows × 1 columns</p>\n",
       "</div>"
      ],
      "text/plain": [
       "             Flux rate\n",
       "Reaction ID           \n",
       "ACALD        -6.612803\n",
       "ACALDt       -0.001000\n",
       "ACKr         -0.001000\n",
       "ACONTa        3.653811\n",
       "ACONTb        3.653811\n",
       "...                ...\n",
       "TALA         -0.002290\n",
       "THD2          0.219020\n",
       "TKT1         -0.002290\n",
       "TKT2         -0.006911\n",
       "TPI           9.180765\n",
       "\n",
       "[72 rows x 1 columns]"
      ]
     },
     "execution_count": 19,
     "metadata": {},
     "output_type": "execute_result"
    }
   ],
   "source": [
    "res.dataframe"
   ]
  },
  {
   "cell_type": "code",
   "execution_count": 20,
   "metadata": {},
   "outputs": [
    {
     "data": {
      "text/html": [
       "<div>\n",
       "<style scoped>\n",
       "    .dataframe tbody tr th:only-of-type {\n",
       "        vertical-align: middle;\n",
       "    }\n",
       "\n",
       "    .dataframe tbody tr th {\n",
       "        vertical-align: top;\n",
       "    }\n",
       "\n",
       "    .dataframe thead th {\n",
       "        text-align: right;\n",
       "    }\n",
       "</style>\n",
       "<table border=\"1\" class=\"dataframe\">\n",
       "  <thead>\n",
       "    <tr style=\"text-align: right;\">\n",
       "      <th></th>\n",
       "      <th>Flux rate</th>\n",
       "    </tr>\n",
       "    <tr>\n",
       "      <th>Reaction ID</th>\n",
       "      <th></th>\n",
       "    </tr>\n",
       "  </thead>\n",
       "  <tbody>\n",
       "    <tr>\n",
       "      <th>BIOMASS_Ecoli_core_w_GAM</th>\n",
       "      <td>0.012801</td>\n",
       "    </tr>\n",
       "    <tr>\n",
       "      <th>EX_succ_e</th>\n",
       "      <td>7.937179</td>\n",
       "    </tr>\n",
       "  </tbody>\n",
       "</table>\n",
       "</div>"
      ],
      "text/plain": [
       "                          Flux rate\n",
       "Reaction ID                        \n",
       "BIOMASS_Ecoli_core_w_GAM   0.012801\n",
       "EX_succ_e                  7.937179"
      ]
     },
     "execution_count": 20,
     "metadata": {},
     "output_type": "execute_result"
    }
   ],
   "source": [
    "res.find([PRODUCT,BIOMASS])"
   ]
  },
  {
   "cell_type": "code",
   "execution_count": 21,
   "metadata": {},
   "outputs": [
    {
     "data": {
      "text/plain": [
       "<AxesSubplot:xlabel='BIOMASS_Ecoli_core_w_GAM', ylabel='EX_succ_e'>"
      ]
     },
     "execution_count": 21,
     "metadata": {},
     "output_type": "execute_result"
    },
    {
     "data": {
      "image/png": "[encoded data removed]",
      "text/plain": [
       "<Figure size 640x480 with 1 Axes>"
      ]
     },
     "metadata": {},
     "output_type": "display_data"
    }
   ],
   "source": [
    "from mewpy.visualization.envelope import plot_flux_envelope\n",
    "\n",
    "plot_flux_envelope(sim,BIOMASS,PRODUCT,constraints = solution.constraints)"
   ]
  },
  {
   "cell_type": "markdown",
   "metadata": {},
   "source": [
    "## Exercice 1\n",
    "\n",
    "Alter the notebook to run a gene over/under-expression (GOUProblem) optimization task. You may also try other optimization objectives (replacing or adding new objectives) such as `CandidateSize`, `ModificationType` or `BPCY_FVA`."
   ]
  },
  {
   "cell_type": "markdown",
   "metadata": {},
   "source": [
    "## Exercice 2\n",
    "\n",
    "Alter the notebook to find possible genetic modifications for the increased production of ethanol (EX_etoh_e)"
   ]
  },
  {
   "cell_type": "markdown",
   "metadata": {},
   "source": [
    "# Simulating user defined modifications\n",
    "\n",
    "Genetic modifications at the gene, enzyme, transcription or regulatory levels need to be translated to the (pseudo) reaction level. This task is problem dependent and consequently requires the instantiation of a problem. If we do not intend run any optimization task, there is no need to define optimization objectives."
   ]
  },
  {
   "cell_type": "code",
   "execution_count": 22,
   "metadata": {},
   "outputs": [],
   "source": [
    "problem = GOUProblem(model,[], envcond=anaerobic)\n",
    "sim = problem.simulator"
   ]
  },
  {
   "cell_type": "markdown",
   "metadata": {},
   "source": [
    "A solution for a GOUProblem is a dictionary of genes' expression folds, e.g.:"
   ]
  },
  {
   "cell_type": "code",
   "execution_count": 23,
   "metadata": {},
   "outputs": [],
   "source": [
    "solution = {'b3956': 8, 'b2914': 4}"
   ]
  },
  {
   "cell_type": "markdown",
   "metadata": {},
   "source": [
    "You may get information on the genes"
   ]
  },
  {
   "cell_type": "code",
   "execution_count": 24,
   "metadata": {},
   "outputs": [
    {
     "data": {
      "text/html": [
       "<div>\n",
       "<style scoped>\n",
       "    .dataframe tbody tr th:only-of-type {\n",
       "        vertical-align: middle;\n",
       "    }\n",
       "\n",
       "    .dataframe tbody tr th {\n",
       "        vertical-align: top;\n",
       "    }\n",
       "\n",
       "    .dataframe thead th {\n",
       "        text-align: right;\n",
       "    }\n",
       "</style>\n",
       "<table border=\"1\" class=\"dataframe\">\n",
       "  <thead>\n",
       "    <tr style=\"text-align: right;\">\n",
       "      <th></th>\n",
       "      <th>name</th>\n",
       "      <th>reactions</th>\n",
       "    </tr>\n",
       "    <tr>\n",
       "      <th>id</th>\n",
       "      <th></th>\n",
       "      <th></th>\n",
       "    </tr>\n",
       "  </thead>\n",
       "  <tbody>\n",
       "    <tr>\n",
       "      <th>b3956</th>\n",
       "      <td></td>\n",
       "      <td>[PPC]</td>\n",
       "    </tr>\n",
       "    <tr>\n",
       "      <th>b2914</th>\n",
       "      <td></td>\n",
       "      <td>[RPI]</td>\n",
       "    </tr>\n",
       "  </tbody>\n",
       "</table>\n",
       "</div>"
      ],
      "text/plain": [
       "      name reactions\n",
       "id                  \n",
       "b3956          [PPC]\n",
       "b2914          [RPI]"
      ]
     },
     "execution_count": 24,
     "metadata": {},
     "output_type": "execute_result"
    }
   ],
   "source": [
    "sim.find_genes('b3956|b2914')"
   ]
  },
  {
   "cell_type": "markdown",
   "metadata": {},
   "source": [
    "The gene expressions are converted by the problem into reaction constraints:"
   ]
  },
  {
   "cell_type": "code",
   "execution_count": 25,
   "metadata": {},
   "outputs": [
    {
     "data": {
      "text/plain": [
       "{'PPC': (4.852330790092048, 10000), 'RPI': (-10000, -0.608573313078965)}"
      ]
     },
     "execution_count": 25,
     "metadata": {},
     "output_type": "execute_result"
    }
   ],
   "source": [
    "constraints = problem.solution_to_constraints(solution)\n",
    "constraints"
   ]
  },
  {
   "cell_type": "markdown",
   "metadata": {},
   "source": [
    "that are used to run phenotypic simulations:"
   ]
  },
  {
   "cell_type": "code",
   "execution_count": 26,
   "metadata": {},
   "outputs": [
    {
     "data": {
      "text/html": [
       "<div>\n",
       "<style scoped>\n",
       "    .dataframe tbody tr th:only-of-type {\n",
       "        vertical-align: middle;\n",
       "    }\n",
       "\n",
       "    .dataframe tbody tr th {\n",
       "        vertical-align: top;\n",
       "    }\n",
       "\n",
       "    .dataframe thead th {\n",
       "        text-align: right;\n",
       "    }\n",
       "</style>\n",
       "<table border=\"1\" class=\"dataframe\">\n",
       "  <thead>\n",
       "    <tr style=\"text-align: right;\">\n",
       "      <th></th>\n",
       "      <th>Flux rate</th>\n",
       "    </tr>\n",
       "    <tr>\n",
       "      <th>Reaction ID</th>\n",
       "      <th></th>\n",
       "    </tr>\n",
       "  </thead>\n",
       "  <tbody>\n",
       "    <tr>\n",
       "      <th>ACALD</th>\n",
       "      <td>-5.553093</td>\n",
       "    </tr>\n",
       "    <tr>\n",
       "      <th>ACKr</th>\n",
       "      <td>-7.150130</td>\n",
       "    </tr>\n",
       "    <tr>\n",
       "      <th>ACONTa</th>\n",
       "      <td>0.170545</td>\n",
       "    </tr>\n",
       "    <tr>\n",
       "      <th>ACONTb</th>\n",
       "      <td>0.170545</td>\n",
       "    </tr>\n",
       "    <tr>\n",
       "      <th>ACt2r</th>\n",
       "      <td>-7.150130</td>\n",
       "    </tr>\n",
       "    <tr>\n",
       "      <th>ALCD2x</th>\n",
       "      <td>-5.553093</td>\n",
       "    </tr>\n",
       "    <tr>\n",
       "      <th>ATPM</th>\n",
       "      <td>8.390000</td>\n",
       "    </tr>\n",
       "    <tr>\n",
       "      <th>ATPS4r</th>\n",
       "      <td>-2.916386</td>\n",
       "    </tr>\n",
       "    <tr>\n",
       "      <th>BIOMASS_Ecoli_core_w_GAM</th>\n",
       "      <td>0.158073</td>\n",
       "    </tr>\n",
       "    <tr>\n",
       "      <th>CO2t</th>\n",
       "      <td>3.196934</td>\n",
       "    </tr>\n",
       "    <tr>\n",
       "      <th>CS</th>\n",
       "      <td>0.170545</td>\n",
       "    </tr>\n",
       "    <tr>\n",
       "      <th>ENO</th>\n",
       "      <td>18.848367</td>\n",
       "    </tr>\n",
       "    <tr>\n",
       "      <th>ETOHt2r</th>\n",
       "      <td>-5.553093</td>\n",
       "    </tr>\n",
       "    <tr>\n",
       "      <th>EX_ac_e</th>\n",
       "      <td>7.150130</td>\n",
       "    </tr>\n",
       "    <tr>\n",
       "      <th>EX_co2_e</th>\n",
       "      <td>-3.196934</td>\n",
       "    </tr>\n",
       "    <tr>\n",
       "      <th>EX_etoh_e</th>\n",
       "      <td>5.553093</td>\n",
       "    </tr>\n",
       "    <tr>\n",
       "      <th>EX_for_e</th>\n",
       "      <td>13.466192</td>\n",
       "    </tr>\n",
       "    <tr>\n",
       "      <th>EX_glc__D_e</th>\n",
       "      <td>-10.000000</td>\n",
       "    </tr>\n",
       "    <tr>\n",
       "      <th>EX_h_e</th>\n",
       "      <td>32.585978</td>\n",
       "    </tr>\n",
       "    <tr>\n",
       "      <th>EX_h2o_e</th>\n",
       "      <td>-3.199204</td>\n",
       "    </tr>\n",
       "    <tr>\n",
       "      <th>EX_nh4_e</th>\n",
       "      <td>-0.861940</td>\n",
       "    </tr>\n",
       "    <tr>\n",
       "      <th>EX_pi_e</th>\n",
       "      <td>-0.581503</td>\n",
       "    </tr>\n",
       "    <tr>\n",
       "      <th>EX_succ_e</th>\n",
       "      <td>4.399357</td>\n",
       "    </tr>\n",
       "    <tr>\n",
       "      <th>FBA</th>\n",
       "      <td>9.347814</td>\n",
       "    </tr>\n",
       "    <tr>\n",
       "      <th>FORt</th>\n",
       "      <td>-13.466192</td>\n",
       "    </tr>\n",
       "    <tr>\n",
       "      <th>FRD7</th>\n",
       "      <td>4.399357</td>\n",
       "    </tr>\n",
       "    <tr>\n",
       "      <th>FUM</th>\n",
       "      <td>-4.399357</td>\n",
       "    </tr>\n",
       "    <tr>\n",
       "      <th>G6PDH2r</th>\n",
       "      <td>1.484852</td>\n",
       "    </tr>\n",
       "    <tr>\n",
       "      <th>GAPD</th>\n",
       "      <td>19.084844</td>\n",
       "    </tr>\n",
       "    <tr>\n",
       "      <th>GLCpts</th>\n",
       "      <td>10.000000</td>\n",
       "    </tr>\n",
       "    <tr>\n",
       "      <th>GLNS</th>\n",
       "      <td>0.040419</td>\n",
       "    </tr>\n",
       "    <tr>\n",
       "      <th>GLUDy</th>\n",
       "      <td>-0.821520</td>\n",
       "    </tr>\n",
       "    <tr>\n",
       "      <th>GND</th>\n",
       "      <td>1.484852</td>\n",
       "    </tr>\n",
       "    <tr>\n",
       "      <th>H2Ot</th>\n",
       "      <td>3.199204</td>\n",
       "    </tr>\n",
       "    <tr>\n",
       "      <th>ICDHyr</th>\n",
       "      <td>0.170545</td>\n",
       "    </tr>\n",
       "    <tr>\n",
       "      <th>MDH</th>\n",
       "      <td>-4.399357</td>\n",
       "    </tr>\n",
       "    <tr>\n",
       "      <th>NADH16</th>\n",
       "      <td>4.399357</td>\n",
       "    </tr>\n",
       "    <tr>\n",
       "      <th>NADTRHD</th>\n",
       "      <td>0.259371</td>\n",
       "    </tr>\n",
       "    <tr>\n",
       "      <th>NH4t</th>\n",
       "      <td>0.861940</td>\n",
       "    </tr>\n",
       "    <tr>\n",
       "      <th>PFK</th>\n",
       "      <td>9.347814</td>\n",
       "    </tr>\n",
       "    <tr>\n",
       "      <th>PFL</th>\n",
       "      <td>13.466192</td>\n",
       "    </tr>\n",
       "    <tr>\n",
       "      <th>PGI</th>\n",
       "      <td>8.482743</td>\n",
       "    </tr>\n",
       "    <tr>\n",
       "      <th>PGK</th>\n",
       "      <td>-19.084844</td>\n",
       "    </tr>\n",
       "    <tr>\n",
       "      <th>PGL</th>\n",
       "      <td>1.484852</td>\n",
       "    </tr>\n",
       "    <tr>\n",
       "      <th>PGM</th>\n",
       "      <td>-18.848367</td>\n",
       "    </tr>\n",
       "    <tr>\n",
       "      <th>PIt2r</th>\n",
       "      <td>0.581503</td>\n",
       "    </tr>\n",
       "    <tr>\n",
       "      <th>PPC</th>\n",
       "      <td>4.852331</td>\n",
       "    </tr>\n",
       "    <tr>\n",
       "      <th>PTAr</th>\n",
       "      <td>7.150130</td>\n",
       "    </tr>\n",
       "    <tr>\n",
       "      <th>PYK</th>\n",
       "      <td>3.913981</td>\n",
       "    </tr>\n",
       "    <tr>\n",
       "      <th>RPE</th>\n",
       "      <td>0.876278</td>\n",
       "    </tr>\n",
       "    <tr>\n",
       "      <th>RPI</th>\n",
       "      <td>-0.608573</td>\n",
       "    </tr>\n",
       "    <tr>\n",
       "      <th>SUCCt3</th>\n",
       "      <td>4.399357</td>\n",
       "    </tr>\n",
       "    <tr>\n",
       "      <th>TALA</th>\n",
       "      <td>0.466671</td>\n",
       "    </tr>\n",
       "    <tr>\n",
       "      <th>TKT1</th>\n",
       "      <td>0.466671</td>\n",
       "    </tr>\n",
       "    <tr>\n",
       "      <th>TKT2</th>\n",
       "      <td>0.409607</td>\n",
       "    </tr>\n",
       "    <tr>\n",
       "      <th>TPI</th>\n",
       "      <td>9.347814</td>\n",
       "    </tr>\n",
       "  </tbody>\n",
       "</table>\n",
       "</div>"
      ],
      "text/plain": [
       "                          Flux rate\n",
       "Reaction ID                        \n",
       "ACALD                     -5.553093\n",
       "ACKr                      -7.150130\n",
       "ACONTa                     0.170545\n",
       "ACONTb                     0.170545\n",
       "ACt2r                     -7.150130\n",
       "ALCD2x                    -5.553093\n",
       "ATPM                       8.390000\n",
       "ATPS4r                    -2.916386\n",
       "BIOMASS_Ecoli_core_w_GAM   0.158073\n",
       "CO2t                       3.196934\n",
       "CS                         0.170545\n",
       "ENO                       18.848367\n",
       "ETOHt2r                   -5.553093\n",
       "EX_ac_e                    7.150130\n",
       "EX_co2_e                  -3.196934\n",
       "EX_etoh_e                  5.553093\n",
       "EX_for_e                  13.466192\n",
       "EX_glc__D_e              -10.000000\n",
       "EX_h_e                    32.585978\n",
       "EX_h2o_e                  -3.199204\n",
       "EX_nh4_e                  -0.861940\n",
       "EX_pi_e                   -0.581503\n",
       "EX_succ_e                  4.399357\n",
       "FBA                        9.347814\n",
       "FORt                     -13.466192\n",
       "FRD7                       4.399357\n",
       "FUM                       -4.399357\n",
       "G6PDH2r                    1.484852\n",
       "GAPD                      19.084844\n",
       "GLCpts                    10.000000\n",
       "GLNS                       0.040419\n",
       "GLUDy                     -0.821520\n",
       "GND                        1.484852\n",
       "H2Ot                       3.199204\n",
       "ICDHyr                     0.170545\n",
       "MDH                       -4.399357\n",
       "NADH16                     4.399357\n",
       "NADTRHD                    0.259371\n",
       "NH4t                       0.861940\n",
       "PFK                        9.347814\n",
       "PFL                       13.466192\n",
       "PGI                        8.482743\n",
       "PGK                      -19.084844\n",
       "PGL                        1.484852\n",
       "PGM                      -18.848367\n",
       "PIt2r                      0.581503\n",
       "PPC                        4.852331\n",
       "PTAr                       7.150130\n",
       "PYK                        3.913981\n",
       "RPE                        0.876278\n",
       "RPI                       -0.608573\n",
       "SUCCt3                     4.399357\n",
       "TALA                       0.466671\n",
       "TKT1                       0.466671\n",
       "TKT2                       0.409607\n",
       "TPI                        9.347814"
      ]
     },
     "execution_count": 26,
     "metadata": {},
     "output_type": "execute_result"
    }
   ],
   "source": [
    "sim.simulate(constraints=constraints).find()"
   ]
  },
  {
   "cell_type": "markdown",
   "metadata": {},
   "source": [
    "This functionality allows, for example, to simulate a same genetic modification on different methods or using other GEMs.\n",
    "You may also use directly the problem instance to simulate the modifications:"
   ]
  },
  {
   "cell_type": "code",
   "execution_count": 27,
   "metadata": {},
   "outputs": [
    {
     "data": {
      "text/html": [
       "<div>\n",
       "<style scoped>\n",
       "    .dataframe tbody tr th:only-of-type {\n",
       "        vertical-align: middle;\n",
       "    }\n",
       "\n",
       "    .dataframe tbody tr th {\n",
       "        vertical-align: top;\n",
       "    }\n",
       "\n",
       "    .dataframe thead th {\n",
       "        text-align: right;\n",
       "    }\n",
       "</style>\n",
       "<table border=\"1\" class=\"dataframe\">\n",
       "  <thead>\n",
       "    <tr style=\"text-align: right;\">\n",
       "      <th></th>\n",
       "      <th>Flux rate</th>\n",
       "    </tr>\n",
       "    <tr>\n",
       "      <th>Reaction ID</th>\n",
       "      <th></th>\n",
       "    </tr>\n",
       "  </thead>\n",
       "  <tbody>\n",
       "    <tr>\n",
       "      <th>BIOMASS_Ecoli_core_w_GAM</th>\n",
       "      <td>0.158073</td>\n",
       "    </tr>\n",
       "    <tr>\n",
       "      <th>EX_succ_e</th>\n",
       "      <td>4.399357</td>\n",
       "    </tr>\n",
       "  </tbody>\n",
       "</table>\n",
       "</div>"
      ],
      "text/plain": [
       "                          Flux rate\n",
       "Reaction ID                        \n",
       "BIOMASS_Ecoli_core_w_GAM   0.158073\n",
       "EX_succ_e                  4.399357"
      ]
     },
     "execution_count": 27,
     "metadata": {},
     "output_type": "execute_result"
    }
   ],
   "source": [
    "problem.simulate(solution=solution,method='pFBA').find(['succ','BIOMASS'])"
   ]
  },
  {
   "cell_type": "code",
   "execution_count": 28,
   "metadata": {},
   "outputs": [
    {
     "data": {
      "text/html": [
       "<div>\n",
       "<style scoped>\n",
       "    .dataframe tbody tr th:only-of-type {\n",
       "        vertical-align: middle;\n",
       "    }\n",
       "\n",
       "    .dataframe tbody tr th {\n",
       "        vertical-align: top;\n",
       "    }\n",
       "\n",
       "    .dataframe thead th {\n",
       "        text-align: right;\n",
       "    }\n",
       "</style>\n",
       "<table border=\"1\" class=\"dataframe\">\n",
       "  <thead>\n",
       "    <tr style=\"text-align: right;\">\n",
       "      <th></th>\n",
       "      <th>Minimum</th>\n",
       "      <th>Maximum</th>\n",
       "    </tr>\n",
       "    <tr>\n",
       "      <th>Reaction ID</th>\n",
       "      <th></th>\n",
       "      <th></th>\n",
       "    </tr>\n",
       "  </thead>\n",
       "  <tbody>\n",
       "    <tr>\n",
       "      <th>EX_succ_e</th>\n",
       "      <td>0.0</td>\n",
       "      <td>5.649814</td>\n",
       "    </tr>\n",
       "  </tbody>\n",
       "</table>\n",
       "</div>"
      ],
      "text/plain": [
       "             Minimum   Maximum\n",
       "Reaction ID                   \n",
       "EX_succ_e        0.0  5.649814"
      ]
     },
     "execution_count": 28,
     "metadata": {},
     "output_type": "execute_result"
    }
   ],
   "source": [
    "problem.FVA('EX_succ_e', solution=solution, format='df')"
   ]
  },
  {
   "cell_type": "code",
   "execution_count": null,
   "metadata": {},
   "outputs": [],
   "source": []
  }
 ],
 "metadata": {
  "kernelspec": {
   "display_name": "cobra",
   "language": "python",
   "name": "cobra"
  },
  "language_info": {
   "codemirror_mode": {
    "name": "ipython",
    "version": 3
   },
   "file_extension": ".py",
   "mimetype": "text/x-python",
   "name": "python",
   "nbconvert_exporter": "python",
   "pygments_lexer": "ipython3",
   "version": "3.9.15"
  },
  "vscode": {
   "interpreter": {
    "hash": "4d63cecbd4ee7a4964b1e14fac35e632f419fb342d4e4353e8cedd6749d678e0"
   }
  }
 },
 "nbformat": 4,
 "nbformat_minor": 4
}
