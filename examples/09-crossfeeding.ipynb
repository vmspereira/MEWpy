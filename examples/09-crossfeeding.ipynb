{
 "cells": [
  {
   "cell_type": "markdown",
   "id": "e5773faf",
   "metadata": {},
   "source": [
    "# MEWpy Community Optimization\n",
    "\n",
    "\n",
    "Author: Vitor Pereira\n",
    "\n",
    "License: [CC BY-SA 4.0](http://creativecommons.org/licenses/by-sa/4.0/)\n",
    "\n",
    "-------\n",
    "\n",
    "In this tutorial:\n",
    "\n",
    "- You will learn how to run combinatorial optimization on microbial communities using MEWpy"
   ]
  },
  {
   "cell_type": "markdown",
   "id": "72031191",
   "metadata": {},
   "source": [
    "## Bacterial cross-feeding via extensive gene loss\n",
    "\n",
    "Metabolic dependencies between microbial species have a significant impact on the\n",
    "assembly and activity of microbial communities. However, the evolutionary origins of\n",
    "such dependencies and the impact of metabolic and genomic architecture on their\n",
    "emergence are not clear.\n",
    "\n",
    "Recently, [McNally et al.](https://doi.org/10.1186/s12918-018-0588-4) proposed a method to evolve\n",
    "cooperative interactions among microbial species by fostering cross-feeding of a\n",
    "diverse set of metabolites. This was achieved by incrementaly deleting genes on\n",
    "initially two identical bacterias (E. coli) and increasingly imposing constraints on the\n",
    "community metabolic network such that two new strains evolve and start to diverge\n",
    "while maximizing the differences on their genotypes.\n",
    "\n",
    "The aim is to replicate the experiments using\n",
    "MEWpy to maximize the number of deleted genes on the two strains\n",
    "while inducing cross-feeding. "
   ]
  },
  {
   "cell_type": "markdown",
   "id": "e3fe3979",
   "metadata": {},
   "source": [
    "### Run in Google colab\n",
    "\n",
    "If you are running this notebook in Colab, you need to perform the following steps, otherwise skip."
   ]
  },
  {
   "cell_type": "code",
   "execution_count": 1,
   "id": "6d67604e",
   "metadata": {},
   "outputs": [],
   "source": [
    "%%bash\n",
    "[[ ! -e /colabtools ]] && exit\n",
    "! pip install -U -q PyDrive"
   ]
  },
  {
   "cell_type": "code",
   "execution_count": 2,
   "id": "bfa8ecf8",
   "metadata": {},
   "outputs": [],
   "source": [
    "if 'google.colab' in str(get_ipython()):\n",
    "    from pydrive.auth import GoogleAuth\n",
    "    from pydrive.drive import GoogleDrive\n",
    "    from google.colab import auth\n",
    "    from oauth2client.client import GoogleCredentials\n",
    "\n",
    "    auth.authenticate_user()\n",
    "    gauth = GoogleAuth()\n",
    "    gauth.credentials = GoogleCredentials.get_application_default()\n",
    "    drive = GoogleDrive(gauth)\n",
    "\n",
    "    model_file = drive.CreateFile({'id':'1o0XthuEOs28UJ4XTa9SfFSFofazV-2nN'})\n",
    "    model_file.GetContentFile('e_coli_core.xml.gz')"
   ]
  },
  {
   "cell_type": "markdown",
   "id": "e78b9aa7",
   "metadata": {},
   "source": [
    "## Step 1 - Load the model"
   ]
  },
  {
   "cell_type": "code",
   "execution_count": 3,
   "id": "91b9045c",
   "metadata": {},
   "outputs": [
    {
     "name": "stdout",
     "output_type": "stream",
     "text": [
      "Set parameter Username\n",
      "Academic license - for non-commercial use only - expires 2024-12-11\n"
     ]
    }
   ],
   "source": [
    "from cobra.io import read_sbml_model\n",
    "import warnings\n",
    "warnings.filterwarnings('ignore')\n",
    "\n",
    "model = read_sbml_model('models/ec/e_coli_core.xml.gz')"
   ]
  },
  {
   "cell_type": "markdown",
   "id": "a2b4fc59",
   "metadata": {},
   "source": [
    "We will make two copies of the model and rename the two strains"
   ]
  },
  {
   "cell_type": "code",
   "execution_count": 4,
   "id": "8dc4a04c",
   "metadata": {},
   "outputs": [],
   "source": [
    "from mewpy import get_simulator\n",
    "wildtype = get_simulator(model)"
   ]
  },
  {
   "cell_type": "code",
   "execution_count": 5,
   "id": "726079e0",
   "metadata": {},
   "outputs": [],
   "source": [
    "ec1 = wildtype.copy()\n",
    "ec1.id = 'ec1'\n",
    "ec2 =wildtype.copy()\n",
    "ec2.id = 'ec2'"
   ]
  },
  {
   "cell_type": "markdown",
   "id": "dc4947e9",
   "metadata": {},
   "source": [
    "In the experiment, we will use the medium defined in the model"
   ]
  },
  {
   "cell_type": "code",
   "execution_count": 6,
   "id": "67413af6",
   "metadata": {
    "scrolled": true
   },
   "outputs": [
    {
     "data": {
      "text/html": [
       "<table border=\"1\" class=\"dataframe\">\n",
       "  <thead>\n",
       "    <tr style=\"text-align: right;\">\n",
       "      <th></th>\n",
       "      <th>lb</th>\n",
       "      <th>ub</th>\n",
       "    </tr>\n",
       "  </thead>\n",
       "  <tbody>\n",
       "    <tr>\n",
       "      <th>EX_ac_e</th>\n",
       "      <td>0.0</td>\n",
       "      <td>1000.0</td>\n",
       "    </tr>\n",
       "    <tr>\n",
       "      <th>EX_acald_e</th>\n",
       "      <td>0.0</td>\n",
       "      <td>1000.0</td>\n",
       "    </tr>\n",
       "    <tr>\n",
       "      <th>EX_akg_e</th>\n",
       "      <td>0.0</td>\n",
       "      <td>1000.0</td>\n",
       "    </tr>\n",
       "    <tr>\n",
       "      <th>EX_co2_e</th>\n",
       "      <td>-1000.0</td>\n",
       "      <td>1000.0</td>\n",
       "    </tr>\n",
       "    <tr>\n",
       "      <th>EX_etoh_e</th>\n",
       "      <td>0.0</td>\n",
       "      <td>1000.0</td>\n",
       "    </tr>\n",
       "    <tr>\n",
       "      <th>EX_for_e</th>\n",
       "      <td>0.0</td>\n",
       "      <td>1000.0</td>\n",
       "    </tr>\n",
       "    <tr>\n",
       "      <th>EX_fru_e</th>\n",
       "      <td>0.0</td>\n",
       "      <td>1000.0</td>\n",
       "    </tr>\n",
       "    <tr>\n",
       "      <th>EX_fum_e</th>\n",
       "      <td>0.0</td>\n",
       "      <td>1000.0</td>\n",
       "    </tr>\n",
       "    <tr>\n",
       "      <th>EX_glc__D_e</th>\n",
       "      <td>-10.0</td>\n",
       "      <td>1000.0</td>\n",
       "    </tr>\n",
       "    <tr>\n",
       "      <th>EX_gln__L_e</th>\n",
       "      <td>0.0</td>\n",
       "      <td>1000.0</td>\n",
       "    </tr>\n",
       "    <tr>\n",
       "      <th>EX_glu__L_e</th>\n",
       "      <td>0.0</td>\n",
       "      <td>1000.0</td>\n",
       "    </tr>\n",
       "    <tr>\n",
       "      <th>EX_h_e</th>\n",
       "      <td>-1000.0</td>\n",
       "      <td>1000.0</td>\n",
       "    </tr>\n",
       "    <tr>\n",
       "      <th>EX_h2o_e</th>\n",
       "      <td>-1000.0</td>\n",
       "      <td>1000.0</td>\n",
       "    </tr>\n",
       "    <tr>\n",
       "      <th>EX_lac__D_e</th>\n",
       "      <td>0.0</td>\n",
       "      <td>1000.0</td>\n",
       "    </tr>\n",
       "    <tr>\n",
       "      <th>EX_mal__L_e</th>\n",
       "      <td>0.0</td>\n",
       "      <td>1000.0</td>\n",
       "    </tr>\n",
       "    <tr>\n",
       "      <th>EX_nh4_e</th>\n",
       "      <td>-1000.0</td>\n",
       "      <td>1000.0</td>\n",
       "    </tr>\n",
       "    <tr>\n",
       "      <th>EX_o2_e</th>\n",
       "      <td>-1000.0</td>\n",
       "      <td>1000.0</td>\n",
       "    </tr>\n",
       "    <tr>\n",
       "      <th>EX_pi_e</th>\n",
       "      <td>-1000.0</td>\n",
       "      <td>1000.0</td>\n",
       "    </tr>\n",
       "    <tr>\n",
       "      <th>EX_pyr_e</th>\n",
       "      <td>0.0</td>\n",
       "      <td>1000.0</td>\n",
       "    </tr>\n",
       "    <tr>\n",
       "      <th>EX_succ_e</th>\n",
       "      <td>0.0</td>\n",
       "      <td>1000.0</td>\n",
       "    </tr>\n",
       "  </tbody>\n",
       "</table>"
      ],
      "text/plain": [
       "EX_ac_e\t0.0\t1000.0\n",
       "EX_acald_e\t0.0\t1000.0\n",
       "EX_akg_e\t0.0\t1000.0\n",
       "EX_co2_e\t-1000.0\t1000.0\n",
       "EX_etoh_e\t0.0\t1000.0\n",
       "EX_for_e\t0.0\t1000.0\n",
       "EX_fru_e\t0.0\t1000.0\n",
       "EX_fum_e\t0.0\t1000.0\n",
       "EX_glc__D_e\t-10.0\t1000.0\n",
       "EX_gln__L_e\t0.0\t1000.0\n",
       "EX_glu__L_e\t0.0\t1000.0\n",
       "EX_h_e\t-1000.0\t1000.0\n",
       "EX_h2o_e\t-1000.0\t1000.0\n",
       "EX_lac__D_e\t0.0\t1000.0\n",
       "EX_mal__L_e\t0.0\t1000.0\n",
       "EX_nh4_e\t-1000.0\t1000.0\n",
       "EX_o2_e\t-1000.0\t1000.0\n",
       "EX_pi_e\t-1000.0\t1000.0\n",
       "EX_pyr_e\t0.0\t1000.0\n",
       "EX_succ_e\t0.0\t1000.0"
      ]
     },
     "execution_count": 6,
     "metadata": {},
     "output_type": "execute_result"
    }
   ],
   "source": [
    "from mewpy.simulation import Environment\n",
    "medium = Environment.from_model(wildtype)\n",
    "medium"
   ]
  },
  {
   "cell_type": "markdown",
   "id": "ab9eb23a",
   "metadata": {},
   "source": [
    "## Step 2 - Find single strain gene KOs"
   ]
  },
  {
   "cell_type": "markdown",
   "id": "08e4afb9",
   "metadata": {},
   "source": [
    "Two make the search for combinatorial gene deletion on the community model, we will first idenfify combinatorial gene delerions in one strain, and use these results to seed the community gene deletions.\n",
    "\n",
    "We start by defining a gene deletion optimization problem (`GKOProblem`) defining as objective the maximization of biomass production (f1) and the maximization of the number of deletions."
   ]
  },
  {
   "cell_type": "code",
   "execution_count": 7,
   "id": "b9e85e16",
   "metadata": {},
   "outputs": [],
   "source": [
    "from mewpy.problems import GKOProblem\n",
    "from mewpy.optimization.evaluation import TargetFlux, CandidateSize"
   ]
  },
  {
   "cell_type": "code",
   "execution_count": 8,
   "id": "3a1b7690",
   "metadata": {},
   "outputs": [],
   "source": [
    "f1 = TargetFlux(wildtype.biomass_reaction,method='FBA')\n",
    "f2 = CandidateSize(maximize=True)"
   ]
  },
  {
   "cell_type": "markdown",
   "id": "3752311b",
   "metadata": {},
   "source": [
    "To simpilfy the problem, we will define a maximum of 30 gene deletion and run 10 optimization iterations."
   ]
  },
  {
   "cell_type": "code",
   "execution_count": 9,
   "id": "cc1828d2",
   "metadata": {},
   "outputs": [],
   "source": [
    "problem = GKOProblem(wildtype,\n",
    "                     [f1,f2],\n",
    "                     candidate_max_size = 50)\n"
   ]
  },
  {
   "cell_type": "code",
   "execution_count": 10,
   "id": "d838bef7",
   "metadata": {},
   "outputs": [
    {
     "name": "stdout",
     "output_type": "stream",
     "text": [
      "Building modification target list.\n"
     ]
    },
    {
     "name": "stderr",
     "output_type": "stream",
     "text": [
      "100%|███████████████████████████████████████| 137/137 [00:00<00:00, 2228.69it/s]"
     ]
    },
    {
     "name": "stdout",
     "output_type": "stream",
     "text": [
      "Running NSGAII\n"
     ]
    },
    {
     "name": "stderr",
     "output_type": "stream",
     "text": [
      "\n"
     ]
    },
    {
     "name": "stdout",
     "output_type": "stream",
     "text": [
      "Eval(s)|     Worst      Best    Median   Average   Std Dev|     Worst      Best    Median   Average   Std Dev|\n",
      "    100|  0.000000  0.873922  0.000000  0.094155  0.212587|  2.000000  50.000000  25.500000  26.520000  13.508871|\n",
      "    200|  0.000000  0.873922  0.000000  0.142907  0.223260|  2.000000  50.000000  37.000000  29.390000  15.469903|\n",
      "    300|  0.000000  0.873922  0.188335  0.204816  0.256883|  3.000000  50.000000  25.000000  28.560000  16.134014|\n",
      "    400|  0.000000  0.873922  0.191561  0.258462  0.303251|  3.000000  50.000000  25.000000  29.020000  15.948655|\n",
      "    500|  0.000000  0.873922  0.000000  0.203612  0.321562|  4.000000  50.000000  47.000000  36.520000  16.263136|\n",
      "    600|  0.000000  0.873922  0.000000  0.169343  0.305701|  4.000000  50.000000  49.000000  39.560000  15.225190|\n",
      "    700|  0.000000  0.873922  0.000000  0.113731  0.262460|  4.000000  50.000000  50.000000  43.540000  12.904588|\n",
      "    800|  0.000000  0.873922  0.000000  0.038807  0.154747|  17.000000  50.000000  50.000000  47.980000  6.702209|\n",
      "    900|  0.000000  0.873922  0.000000  0.037481  0.154584|  17.000000  50.000000  50.000000  48.190000  6.487981|\n",
      "   1000|  0.000000  0.873922  0.000000  0.047734  0.175101|  17.000000  50.000000  50.000000  47.810000  7.056479|\n",
      "   1100|  0.000000  0.873922  0.000000  0.056311  0.192677|  17.000000  50.000000  50.000000  47.520000  7.539867|\n",
      "   1200|  0.000000  0.873922  0.000000  0.033548  0.132662|  17.000000  50.000000  50.000000  48.140000  6.133547|\n",
      "   1300|  0.000000  0.873922  0.000000  0.030930  0.131903|  17.000000  50.000000  50.000000  48.320000  6.052900|\n",
      "   1400|  0.000000  0.873922  0.000000  0.030930  0.131903|  17.000000  50.000000  50.000000  48.320000  6.052900|\n",
      "   1500|  0.000000  0.873922  0.000000  0.030930  0.131903|  17.000000  50.000000  50.000000  48.320000  6.052900|\n",
      "   1600|  0.000000  0.873922  0.000000  0.030930  0.131903|  17.000000  50.000000  50.000000  48.320000  6.052900|\n",
      "   1700|  0.000000  0.873922  0.000000  0.026877  0.129660|  17.000000  50.000000  50.000000  48.680000  5.589061|\n",
      "   1800|  0.000000  0.873922  0.000000  0.037733  0.155549|  17.000000  50.000000  50.000000  48.170000  6.594020|\n",
      "   1900|  0.000000  0.873922  0.000000  0.039759  0.156362|  17.000000  50.000000  50.000000  48.030000  6.741595|\n",
      "   2000|  0.000000  0.873922  0.000000  0.039759  0.156362|  17.000000  50.000000  50.000000  48.030000  6.741595|\n",
      "   2100|  0.000000  0.873922  0.000000  0.043902  0.157991|  17.000000  50.000000  50.000000  47.660000  7.120702|\n",
      "   2200|  0.000000  0.873922  0.000000  0.026858  0.129684|  18.000000  50.000000  50.000000  48.860000  5.153678|\n",
      "   2300|  0.000000  0.873922  0.000000  0.035435  0.153754|  18.000000  50.000000  50.000000  48.580000  5.803757|\n",
      "   2400|  0.000000  0.873922  0.000000  0.044012  0.174114|  18.000000  50.000000  50.000000  48.300000  6.375735|\n",
      "   2500|  0.000000  0.873922  0.000000  0.063690  0.195810|  18.000000  50.000000  50.000000  47.480000  7.416846|\n",
      "   2600|  0.000000  0.873922  0.000000  0.071165  0.196874|  18.000000  50.000000  50.000000  47.160000  7.514945|\n",
      "   2700|  0.000000  0.873922  0.000000  0.097305  0.213853|  18.000000  50.000000  50.000000  46.130000  8.385291|\n",
      "   2800|  0.000000  0.873922  0.000000  0.134903  0.244207|  17.000000  50.000000  50.000000  44.810000  9.184438|\n",
      "   2900|  0.000000  0.873922  0.161760  0.196004  0.273987|  17.000000  50.000000  47.500000  42.900000  9.605727|\n",
      "   3000|  0.000000  0.873922  0.179712  0.252433  0.288924|  17.000000  50.000000  41.500000  40.700000  10.020479|\n",
      "   3100|  0.155911  0.873922  0.196462  0.369923  0.282715|  17.000000  50.000000  37.000000  35.630000  9.886005|\n",
      "   3200|  0.155911  0.873922  0.232589  0.447223  0.307214|  17.000000  50.000000  34.500000  34.220000  10.501029|\n",
      "   3300|  0.155911  0.873922  0.232589  0.406663  0.292806|  17.000000  50.000000  35.000000  35.330000  9.393673|\n",
      "   3400|  0.155911  0.873922  0.232589  0.400302  0.291263|  17.000000  50.000000  36.000000  35.610000  8.986540|\n",
      "   3500|  0.155911  0.873922  0.232589  0.437932  0.293585|  17.000000  50.000000  35.000000  34.770000  8.246035|\n",
      "   3600|  0.155911  0.873922  0.362411  0.500389  0.306955|  17.000000  50.000000  35.000000  34.610000  8.724557|\n",
      "   3700|  0.155911  0.873922  0.779384  0.555742  0.305622|  17.000000  50.000000  34.000000  34.910000  9.065423|\n",
      "   3800|  0.155911  0.873922  0.779384  0.544807  0.309377|  17.000000  50.000000  36.000000  35.440000  9.565898|\n",
      "   3900|  0.167609  0.873922  0.779384  0.539132  0.305551|  17.000000  50.000000  37.000000  36.130000  9.122121|\n",
      "   4000|  0.192520  0.873922  0.373617  0.514491  0.303867|  17.000000  50.000000  37.500000  37.100000  9.009439|\n",
      "   4100|  0.192520  0.873922  0.297500  0.485449  0.301365|  17.000000  50.000000  40.000000  37.950000  8.860446|\n",
      "   4200|  0.192520  0.873922  0.373617  0.526419  0.299472|  17.000000  50.000000  38.000000  37.000000  8.506468|\n",
      "   4300|  0.192520  0.873922  0.373617  0.499748  0.296973|  17.000000  50.000000  40.000000  37.300000  8.670063|\n",
      "   4400|  0.192520  0.873922  0.373617  0.523666  0.298172|  17.000000  50.000000  40.000000  37.780000  8.686288|\n",
      "   4500|  0.192520  0.873922  0.373617  0.498422  0.287853|  17.000000  50.000000  41.000000  38.780000  8.150558|\n",
      "   4600|  0.192520  0.873922  0.373617  0.460710  0.280274|  17.000000  50.000000  41.500000  39.480000  8.194486|\n",
      "   4700|  0.192520  0.873922  0.303103  0.451980  0.284337|  18.000000  50.000000  43.000000  40.170000  8.078434|\n",
      "   4800|  0.196462  0.873922  0.373617  0.490371  0.284215|  18.000000  50.000000  42.000000  39.400000  7.696753|\n",
      "   4900|  0.196462  0.873922  0.373617  0.486034  0.289674|  18.000000  50.000000  42.500000  39.530000  7.993066|\n",
      "   5000|  0.196462  0.873922  0.660552  0.549178  0.295261|  18.000000  50.000000  42.000000  39.160000  8.237378|\n"
     ]
    }
   ],
   "source": [
    "from mewpy.optimization import EA\n",
    "ea = EA(problem, max_generations=50)\n",
    "gkos = ea.run(simplify=False)"
   ]
  },
  {
   "cell_type": "markdown",
   "id": "49b54036",
   "metadata": {},
   "source": [
    "We can have a look to the solution found by the evolutionary algoritm (EA)"
   ]
  },
  {
   "cell_type": "code",
   "execution_count": 11,
   "id": "22b63cf1",
   "metadata": {},
   "outputs": [
    {
     "data": {
      "text/html": [
       "<div>\n",
       "<style scoped>\n",
       "    .dataframe tbody tr th:only-of-type {\n",
       "        vertical-align: middle;\n",
       "    }\n",
       "\n",
       "    .dataframe tbody tr th {\n",
       "        vertical-align: top;\n",
       "    }\n",
       "\n",
       "    .dataframe thead th {\n",
       "        text-align: right;\n",
       "    }\n",
       "</style>\n",
       "<table border=\"1\" class=\"dataframe\">\n",
       "  <thead>\n",
       "    <tr style=\"text-align: right;\">\n",
       "      <th></th>\n",
       "      <th>Modification</th>\n",
       "      <th>Size</th>\n",
       "      <th>TargetFlux</th>\n",
       "      <th>Size</th>\n",
       "    </tr>\n",
       "  </thead>\n",
       "  <tbody>\n",
       "    <tr>\n",
       "      <th>0</th>\n",
       "      <td>{'b1241': 0, 'b1773': 0, 'b1812': 0, 'b1602': ...</td>\n",
       "      <td>18</td>\n",
       "      <td>0.873922</td>\n",
       "      <td>18.0</td>\n",
       "    </tr>\n",
       "    <tr>\n",
       "      <th>1</th>\n",
       "      <td>{'b0356': 0, 'b1812': 0, 'b4154': 0, 'b3114': ...</td>\n",
       "      <td>23</td>\n",
       "      <td>0.873922</td>\n",
       "      <td>23.0</td>\n",
       "    </tr>\n",
       "    <tr>\n",
       "      <th>2</th>\n",
       "      <td>{'b0356': 0, 'b1812': 0, 'b0729': 0, 'b3114': ...</td>\n",
       "      <td>33</td>\n",
       "      <td>0.814298</td>\n",
       "      <td>33.0</td>\n",
       "    </tr>\n",
       "    <tr>\n",
       "      <th>3</th>\n",
       "      <td>{'b0356': 0, 'b0729': 0, 'b3114': 0, 'b4395': ...</td>\n",
       "      <td>35</td>\n",
       "      <td>0.814298</td>\n",
       "      <td>35.0</td>\n",
       "    </tr>\n",
       "    <tr>\n",
       "      <th>4</th>\n",
       "      <td>{'b2133': 0, 'b3114': 0, 'b2283': 0, 'b4395': ...</td>\n",
       "      <td>46</td>\n",
       "      <td>0.211663</td>\n",
       "      <td>46.0</td>\n",
       "    </tr>\n",
       "    <tr>\n",
       "      <th>...</th>\n",
       "      <td>...</td>\n",
       "      <td>...</td>\n",
       "      <td>...</td>\n",
       "      <td>...</td>\n",
       "    </tr>\n",
       "    <tr>\n",
       "      <th>63</th>\n",
       "      <td>{'b0356': 0, 'b0729': 0, 'b3114': 0, 'b4395': ...</td>\n",
       "      <td>37</td>\n",
       "      <td>0.814298</td>\n",
       "      <td>37.0</td>\n",
       "    </tr>\n",
       "    <tr>\n",
       "      <th>64</th>\n",
       "      <td>{'b0356': 0, 'b0729': 0, 'b2133': 0, 'b3114': ...</td>\n",
       "      <td>35</td>\n",
       "      <td>0.814298</td>\n",
       "      <td>35.0</td>\n",
       "    </tr>\n",
       "    <tr>\n",
       "      <th>65</th>\n",
       "      <td>{'b0356': 0, 'b0729': 0, 'b2133': 0, 'b3114': ...</td>\n",
       "      <td>39</td>\n",
       "      <td>0.814298</td>\n",
       "      <td>39.0</td>\n",
       "    </tr>\n",
       "    <tr>\n",
       "      <th>66</th>\n",
       "      <td>{'b0356': 0, 'b2029': 0, 'b0729': 0, 'b3114': ...</td>\n",
       "      <td>43</td>\n",
       "      <td>0.232589</td>\n",
       "      <td>43.0</td>\n",
       "    </tr>\n",
       "    <tr>\n",
       "      <th>67</th>\n",
       "      <td>{'b0356': 0, 'b0729': 0, 'b3114': 0, 'b4395': ...</td>\n",
       "      <td>43</td>\n",
       "      <td>0.232589</td>\n",
       "      <td>43.0</td>\n",
       "    </tr>\n",
       "  </tbody>\n",
       "</table>\n",
       "<p>68 rows × 4 columns</p>\n",
       "</div>"
      ],
      "text/plain": [
       "                                         Modification  Size  TargetFlux  Size\n",
       "0   {'b1241': 0, 'b1773': 0, 'b1812': 0, 'b1602': ...    18    0.873922  18.0\n",
       "1   {'b0356': 0, 'b1812': 0, 'b4154': 0, 'b3114': ...    23    0.873922  23.0\n",
       "2   {'b0356': 0, 'b1812': 0, 'b0729': 0, 'b3114': ...    33    0.814298  33.0\n",
       "3   {'b0356': 0, 'b0729': 0, 'b3114': 0, 'b4395': ...    35    0.814298  35.0\n",
       "4   {'b2133': 0, 'b3114': 0, 'b2283': 0, 'b4395': ...    46    0.211663  46.0\n",
       "..                                                ...   ...         ...   ...\n",
       "63  {'b0356': 0, 'b0729': 0, 'b3114': 0, 'b4395': ...    37    0.814298  37.0\n",
       "64  {'b0356': 0, 'b0729': 0, 'b2133': 0, 'b3114': ...    35    0.814298  35.0\n",
       "65  {'b0356': 0, 'b0729': 0, 'b2133': 0, 'b3114': ...    39    0.814298  39.0\n",
       "66  {'b0356': 0, 'b2029': 0, 'b0729': 0, 'b3114': ...    43    0.232589  43.0\n",
       "67  {'b0356': 0, 'b0729': 0, 'b3114': 0, 'b4395': ...    43    0.232589  43.0\n",
       "\n",
       "[68 rows x 4 columns]"
      ]
     },
     "execution_count": 11,
     "metadata": {},
     "output_type": "execute_result"
    }
   ],
   "source": [
    "ea.dataframe()"
   ]
  },
  {
   "cell_type": "markdown",
   "id": "8dc329e4",
   "metadata": {},
   "source": [
    "and run an FBA on the first solution (the biomass is set by default as objective)"
   ]
  },
  {
   "cell_type": "code",
   "execution_count": 12,
   "id": "abe720b5",
   "metadata": {},
   "outputs": [
    {
     "data": {
      "text/plain": [
       "objective: 0.87392150696843\n",
       "Status: OPTIMAL\n",
       "Method:FBA"
      ]
     },
     "execution_count": 12,
     "metadata": {},
     "output_type": "execute_result"
    }
   ],
   "source": [
    "problem.simulate(solution=gkos[0].values)"
   ]
  },
  {
   "cell_type": "markdown",
   "id": "6295108a",
   "metadata": {},
   "source": [
    "We may now generate solutions that will seed the EA to be used later in the community gene deletions."
   ]
  },
  {
   "cell_type": "code",
   "execution_count": 13,
   "id": "fa265f62",
   "metadata": {},
   "outputs": [],
   "source": [
    "import random\n",
    "\n",
    "init_pop = []\n",
    "for s in gkos:\n",
    "    x=s.values\n",
    "    init_pop.append([k+'_ec1' for k in x.keys()])\n",
    "    init_pop.append([k+'_ec2' for k in x.keys()])\n",
    "\n",
    "random.shuffle(init_pop)\n"
   ]
  },
  {
   "cell_type": "markdown",
   "id": "4eacf5b3",
   "metadata": {},
   "source": [
    "## Community mutants \n",
    "\n",
    "We can now address our main goal, starting by defining a community model. We will not impose a relative abundance (`merge_biomasses=False`), instead we will include in the optimization task the secondary implicit goal of \"minimizing the difference between the mutant growth\" using a regularized FBA.  "
   ]
  },
  {
   "cell_type": "code",
   "execution_count": 14,
   "id": "a5ead7e5",
   "metadata": {},
   "outputs": [
    {
     "name": "stderr",
     "output_type": "stream",
     "text": [
      "Organism: 100%|███████████████████████████████████| 2/2 [00:00<00:00,  8.93it/s]\n"
     ]
    }
   ],
   "source": [
    "from mewpy.model import CommunityModel\n",
    "from mewpy.com import regComFBA\n",
    "\n",
    "community= CommunityModel([ec1,ec2],merge_biomasses=False,flavor='cobra')\n",
    "sim = community.get_community_model()\n",
    "sim.set_environmental_conditions(medium)"
   ]
  },
  {
   "cell_type": "markdown",
   "id": "0fd206f6",
   "metadata": {},
   "source": [
    "We will consider 3 optimization objectives:\n",
    "\n",
    "- Maximize `ec1` growth while ensuring that `ec2` growth is above 0.1/h;\n",
    "- Maximize `ec2` growth while ensuring that `ec1` growth is above 0.1/h;\n",
    "- Maximize the total number of gene deletions.\n",
    "\n",
    "We will be using a Regularized Community FBA (regComFBA) to select a specific solution."
   ]
  },
  {
   "cell_type": "code",
   "execution_count": 15,
   "id": "4f1a046b",
   "metadata": {},
   "outputs": [],
   "source": [
    "f1 = TargetFlux(community.organisms_biomass['ec1'],\n",
    "                community.organisms_biomass['ec2'],\n",
    "                min_biomass_value=0.1,method=regComFBA)\n",
    "\n",
    "f2 = TargetFlux(community.organisms_biomass['ec2'],\n",
    "                community.organisms_biomass['ec1'],\n",
    "                min_biomass_value=0.1,method=regComFBA)\n",
    "\n",
    "f3 = CandidateSize(maximize=True)"
   ]
  },
  {
   "cell_type": "code",
   "execution_count": 16,
   "id": "bf6d8ef2",
   "metadata": {},
   "outputs": [],
   "source": [
    "problem = GKOProblem(sim,\n",
    "                     [f1,f2,f3],\n",
    "                     candidate_max_size = 60)"
   ]
  },
  {
   "cell_type": "markdown",
   "id": "e2d20b58",
   "metadata": {},
   "source": [
    "Now that we have defined the optimization problem, we may run it (for 10 iterations, and considering a maximum of 60 gene deletions in total)"
   ]
  },
  {
   "cell_type": "code",
   "execution_count": 17,
   "id": "d0febc71",
   "metadata": {},
   "outputs": [
    {
     "name": "stdout",
     "output_type": "stream",
     "text": [
      "Building modification target list.\n"
     ]
    },
    {
     "name": "stderr",
     "output_type": "stream",
     "text": [
      "100%|███████████████████████████████████████| 274/274 [00:00<00:00, 2169.25it/s]"
     ]
    },
    {
     "name": "stdout",
     "output_type": "stream",
     "text": [
      "Running NSGAII\n"
     ]
    },
    {
     "name": "stderr",
     "output_type": "stream",
     "text": [
      "\n"
     ]
    },
    {
     "name": "stdout",
     "output_type": "stream",
     "text": [
      "Eval(s)|     Worst      Best    Median   Average   Std Dev|     Worst      Best    Median   Average   Std Dev|     Worst      Best    Median   Average   Std Dev|\n",
      "    100|  0.411442  0.411442  0.411442  0.411442  0.000000|  0.411442  0.411442  0.411442  0.411442  0.000000|  18.000000  50.000000  40.500000  39.050000  7.537075|\n",
      "    200|  0.000000  0.530967  0.411442  0.398931  0.071493|  0.000000  0.411442  0.411442  0.396293  0.071441|  18.000000  55.000000  42.000000  40.750000  7.549007|\n",
      "    300|  0.000000  0.530967  0.411442  0.382266  0.107030|  0.000000  0.514193  0.411442  0.379078  0.106690|  26.000000  56.000000  46.000000  43.000000  7.840918|\n",
      "    400|  0.000000  0.590050  0.411442  0.327590  0.171032|  0.000000  0.514193  0.411442  0.320356  0.168233|  26.000000  60.000000  48.000000  45.740000  8.028225|\n",
      "    500|  0.000000  0.590050  0.411442  0.348735  0.157257|  0.000000  0.702452  0.411442  0.342972  0.158041|  26.000000  60.000000  49.000000  45.820000  8.486908|\n",
      "    600|  0.000000  0.603937  0.411442  0.354252  0.163567|  0.000000  0.702452  0.411442  0.354139  0.167454|  26.000000  60.000000  46.000000  45.370000  8.686374|\n",
      "    700|  0.000000  0.616702  0.411442  0.357153  0.170418|  0.000000  0.702452  0.411442  0.361139  0.179166|  26.000000  60.000000  42.000000  43.550000  8.985961|\n",
      "    800|  0.000000  0.616702  0.397183  0.366638  0.172911|  0.000000  0.703604  0.411442  0.387718  0.187606|  26.000000  60.000000  42.000000  41.920000  7.505571|\n",
      "    900|  0.000000  0.616702  0.305166  0.354514  0.173742|  0.000000  0.710323  0.514193  0.433893  0.190287|  26.000000  60.000000  41.000000  40.760000  6.412675|\n",
      "   1000|  0.000000  0.616702  0.305619  0.357796  0.181375|  0.000000  0.710323  0.462816  0.427599  0.198018|  26.000000  60.000000  40.500000  41.080000  6.661351|\n"
     ]
    }
   ],
   "source": [
    "from mewpy.util.constants import EAConstants\n",
    "EAConstants.DEBUG = True\n",
    "\n",
    "ea = EA(problem,\n",
    "        max_generations=10,\n",
    "        initial_population=init_pop[:100])\n",
    "\n",
    "solutions = ea.run(simplify=False)"
   ]
  },
  {
   "cell_type": "markdown",
   "id": "aa16fe03",
   "metadata": {},
   "source": [
    "We may now have a look at the solutions as a dataframe or as a plot"
   ]
  },
  {
   "cell_type": "code",
   "execution_count": 18,
   "id": "cf72f00d",
   "metadata": {},
   "outputs": [
    {
     "data": {
      "text/html": [
       "<div>\n",
       "<style scoped>\n",
       "    .dataframe tbody tr th:only-of-type {\n",
       "        vertical-align: middle;\n",
       "    }\n",
       "\n",
       "    .dataframe tbody tr th {\n",
       "        vertical-align: top;\n",
       "    }\n",
       "\n",
       "    .dataframe thead th {\n",
       "        text-align: right;\n",
       "    }\n",
       "</style>\n",
       "<table border=\"1\" class=\"dataframe\">\n",
       "  <thead>\n",
       "    <tr style=\"text-align: right;\">\n",
       "      <th></th>\n",
       "      <th>Modification</th>\n",
       "      <th>Size</th>\n",
       "      <th>TargetFlux</th>\n",
       "      <th>TargetFlux</th>\n",
       "      <th>Size</th>\n",
       "    </tr>\n",
       "  </thead>\n",
       "  <tbody>\n",
       "    <tr>\n",
       "      <th>0</th>\n",
       "      <td>{'b3870_ec1': 0, 'b4395_ec2': 0, 'b0485_ec1': ...</td>\n",
       "      <td>26</td>\n",
       "      <td>0.411442</td>\n",
       "      <td>4.114418e-01</td>\n",
       "      <td>26.0</td>\n",
       "    </tr>\n",
       "    <tr>\n",
       "      <th>1</th>\n",
       "      <td>{'b4395_ec2': 0, 'b0734_ec2': 0, 'b0978_ec2': ...</td>\n",
       "      <td>60</td>\n",
       "      <td>0.000000</td>\n",
       "      <td>2.819105e-14</td>\n",
       "      <td>60.0</td>\n",
       "    </tr>\n",
       "    <tr>\n",
       "      <th>2</th>\n",
       "      <td>{'b4395_ec2': 0, 'b0734_ec2': 0, 'b3114_ec2': ...</td>\n",
       "      <td>43</td>\n",
       "      <td>0.616702</td>\n",
       "      <td>1.279228e-01</td>\n",
       "      <td>43.0</td>\n",
       "    </tr>\n",
       "    <tr>\n",
       "      <th>3</th>\n",
       "      <td>{'b2283_ec1': 0, 'b0978_ec2': 0, 'b1478_ec2': ...</td>\n",
       "      <td>58</td>\n",
       "      <td>0.000000</td>\n",
       "      <td>9.508554e-13</td>\n",
       "      <td>58.0</td>\n",
       "    </tr>\n",
       "    <tr>\n",
       "      <th>4</th>\n",
       "      <td>{'b1611_ec1': 0, 'b0721_ec1': 0, 'b0485_ec1': ...</td>\n",
       "      <td>40</td>\n",
       "      <td>0.101986</td>\n",
       "      <td>7.103230e-01</td>\n",
       "      <td>40.0</td>\n",
       "    </tr>\n",
       "    <tr>\n",
       "      <th>...</th>\n",
       "      <td>...</td>\n",
       "      <td>...</td>\n",
       "      <td>...</td>\n",
       "      <td>...</td>\n",
       "      <td>...</td>\n",
       "    </tr>\n",
       "    <tr>\n",
       "      <th>66</th>\n",
       "      <td>{'b3870_ec1': 0, 'b2283_ec1': 0, 'b0721_ec1': ...</td>\n",
       "      <td>36</td>\n",
       "      <td>0.305166</td>\n",
       "      <td>5.141929e-01</td>\n",
       "      <td>36.0</td>\n",
       "    </tr>\n",
       "    <tr>\n",
       "      <th>67</th>\n",
       "      <td>{'b4395_ec2': 0, 'b2283_ec1': 0, 'b3732_ec1': ...</td>\n",
       "      <td>34</td>\n",
       "      <td>0.120432</td>\n",
       "      <td>7.024517e-01</td>\n",
       "      <td>34.0</td>\n",
       "    </tr>\n",
       "    <tr>\n",
       "      <th>68</th>\n",
       "      <td>{'b4395_ec2': 0, 'b0734_ec2': 0, 'b1136_ec1': ...</td>\n",
       "      <td>42</td>\n",
       "      <td>0.530967</td>\n",
       "      <td>2.670924e-01</td>\n",
       "      <td>42.0</td>\n",
       "    </tr>\n",
       "    <tr>\n",
       "      <th>69</th>\n",
       "      <td>{'b3870_ec1': 0, 'b2283_ec1': 0, 'b0721_ec1': ...</td>\n",
       "      <td>42</td>\n",
       "      <td>0.305166</td>\n",
       "      <td>5.141926e-01</td>\n",
       "      <td>42.0</td>\n",
       "    </tr>\n",
       "    <tr>\n",
       "      <th>70</th>\n",
       "      <td>{'b3870_ec1': 0, 'b2283_ec1': 0, 'b0721_ec1': ...</td>\n",
       "      <td>42</td>\n",
       "      <td>0.305166</td>\n",
       "      <td>5.141926e-01</td>\n",
       "      <td>42.0</td>\n",
       "    </tr>\n",
       "  </tbody>\n",
       "</table>\n",
       "<p>71 rows × 5 columns</p>\n",
       "</div>"
      ],
      "text/plain": [
       "                                         Modification  Size  TargetFlux  \\\n",
       "0   {'b3870_ec1': 0, 'b4395_ec2': 0, 'b0485_ec1': ...    26    0.411442   \n",
       "1   {'b4395_ec2': 0, 'b0734_ec2': 0, 'b0978_ec2': ...    60    0.000000   \n",
       "2   {'b4395_ec2': 0, 'b0734_ec2': 0, 'b3114_ec2': ...    43    0.616702   \n",
       "3   {'b2283_ec1': 0, 'b0978_ec2': 0, 'b1478_ec2': ...    58    0.000000   \n",
       "4   {'b1611_ec1': 0, 'b0721_ec1': 0, 'b0485_ec1': ...    40    0.101986   \n",
       "..                                                ...   ...         ...   \n",
       "66  {'b3870_ec1': 0, 'b2283_ec1': 0, 'b0721_ec1': ...    36    0.305166   \n",
       "67  {'b4395_ec2': 0, 'b2283_ec1': 0, 'b3732_ec1': ...    34    0.120432   \n",
       "68  {'b4395_ec2': 0, 'b0734_ec2': 0, 'b1136_ec1': ...    42    0.530967   \n",
       "69  {'b3870_ec1': 0, 'b2283_ec1': 0, 'b0721_ec1': ...    42    0.305166   \n",
       "70  {'b3870_ec1': 0, 'b2283_ec1': 0, 'b0721_ec1': ...    42    0.305166   \n",
       "\n",
       "      TargetFlux  Size  \n",
       "0   4.114418e-01  26.0  \n",
       "1   2.819105e-14  60.0  \n",
       "2   1.279228e-01  43.0  \n",
       "3   9.508554e-13  58.0  \n",
       "4   7.103230e-01  40.0  \n",
       "..           ...   ...  \n",
       "66  5.141929e-01  36.0  \n",
       "67  7.024517e-01  34.0  \n",
       "68  2.670924e-01  42.0  \n",
       "69  5.141926e-01  42.0  \n",
       "70  5.141926e-01  42.0  \n",
       "\n",
       "[71 rows x 5 columns]"
      ]
     },
     "execution_count": 18,
     "metadata": {},
     "output_type": "execute_result"
    }
   ],
   "source": [
    "df = ea.dataframe()\n",
    "df"
   ]
  },
  {
   "cell_type": "code",
   "execution_count": 19,
   "id": "144cc4ef",
   "metadata": {},
   "outputs": [
    {
     "data": {
      "image/png": "[encoded data removed]",
      "text/plain": [
       "<Figure size 640x480 with 2 Axes>"
      ]
     },
     "metadata": {},
     "output_type": "display_data"
    }
   ],
   "source": [
    "ea.plot()"
   ]
  },
  {
   "cell_type": "markdown",
   "id": "a084f809",
   "metadata": {},
   "source": [
    "We may even simulate one of the solution"
   ]
  },
  {
   "cell_type": "code",
   "execution_count": 20,
   "id": "6a0f2afe",
   "metadata": {},
   "outputs": [
    {
     "data": {
      "text/plain": [
       "[0.2161638927545335, 0.5385991304931342, 40.0];{'b4395_ec2': 0, 'b0485_ec1': 0, 'b3114_ec2': 0, 'b0729_ec2': 0, 'b2463_ec2': 0, 'b3213_ec1': 0, 'b0115_ec2': 0, 'b4122_ec2': 0, 'b1849_ec1': 0, 'b1241_ec1': 0, 'b3951_ec2': 0, 'b2976_ec2': 0, 'b4090_ec2': 0, 'b1621_ec1': 0, 'b0733_ec2': 0, 'b2458_ec2': 0, 'b2029_ec2': 0, 'b3870_ec2': 0, 'b2458_ec1': 0, 'b2287_ec1': 0, 'b1380_ec1': 0, 'b2297_ec2': 0, 'b1603_ec1': 0, 'b2925_ec2': 0, 'b3916_ec2': 0, 'b3962_ec2': 0, 'b0723_ec2': 0, 'b1241_ec2': 0, 'b0720_ec1': 0, 'b1817_ec2': 0, 'b1611_ec2': 0, 'b4015_ec2': 0, 'b2296_ec2': 0, 'b1812_ec1': 0, 'b0723_ec1': 0, 'b2133_ec1': 0, 'b3213_ec2': 0, 'b1819_ec2': 0, 'b1602_ec2': 0, 'b3236_ec2': 0}"
      ]
     },
     "execution_count": 20,
     "metadata": {},
     "output_type": "execute_result"
    }
   ],
   "source": [
    "solution = solutions[5]\n",
    "solution"
   ]
  },
  {
   "cell_type": "code",
   "execution_count": 21,
   "id": "9c1fc9ed-ad8a-44ab-b48a-f314db521dee",
   "metadata": {},
   "outputs": [
    {
     "data": {
      "text/html": [
       "<div>\n",
       "<style scoped>\n",
       "    .dataframe tbody tr th:only-of-type {\n",
       "        vertical-align: middle;\n",
       "    }\n",
       "\n",
       "    .dataframe tbody tr th {\n",
       "        vertical-align: top;\n",
       "    }\n",
       "\n",
       "    .dataframe thead th {\n",
       "        text-align: right;\n",
       "    }\n",
       "</style>\n",
       "<table border=\"1\" class=\"dataframe\">\n",
       "  <thead>\n",
       "    <tr style=\"text-align: right;\">\n",
       "      <th></th>\n",
       "      <th>Flux rate</th>\n",
       "    </tr>\n",
       "    <tr>\n",
       "      <th>Reaction ID</th>\n",
       "      <th></th>\n",
       "    </tr>\n",
       "  </thead>\n",
       "  <tbody>\n",
       "    <tr>\n",
       "      <th>BIOMASS_Ecoli_core_w_GAM_ec1</th>\n",
       "      <td>0.151669</td>\n",
       "    </tr>\n",
       "    <tr>\n",
       "      <th>BIOMASS_Ecoli_core_w_GAM_ec2</th>\n",
       "      <td>0.610718</td>\n",
       "    </tr>\n",
       "    <tr>\n",
       "      <th>community_growth</th>\n",
       "      <td>0.762387</td>\n",
       "    </tr>\n",
       "  </tbody>\n",
       "</table>\n",
       "</div>"
      ],
      "text/plain": [
       "                              Flux rate\n",
       "Reaction ID                            \n",
       "BIOMASS_Ecoli_core_w_GAM_ec1   0.151669\n",
       "BIOMASS_Ecoli_core_w_GAM_ec2   0.610718\n",
       "community_growth               0.762387"
      ]
     },
     "execution_count": 21,
     "metadata": {},
     "output_type": "execute_result"
    }
   ],
   "source": [
    "problem.simulate(solution=solution.values,method='FBA').find('BIOMASS|growth',show_nulls=True)"
   ]
  },
  {
   "cell_type": "markdown",
   "id": "1983ab2b-4143-4362-9e89-55e2c5ddd60e",
   "metadata": {},
   "source": [
    "The previous FBA solution is one of many that result from the genes deletion. We can select one particular solution by considering some additional assumption such as: \n",
    "- the organisms will try minimize enzyme ussage (pFBA)\n",
    "- the difference between the organisms growth is minimized (regComFBA)"
   ]
  },
  {
   "cell_type": "markdown",
   "id": "7271c352-0f1b-4a66-a82d-85647f5647d2",
   "metadata": {},
   "source": [
    "**pFBA**"
   ]
  },
  {
   "cell_type": "code",
   "execution_count": 22,
   "id": "3e4b2ac0-91a1-41b2-bd58-23996a111bad",
   "metadata": {},
   "outputs": [
    {
     "data": {
      "text/html": [
       "<div>\n",
       "<style scoped>\n",
       "    .dataframe tbody tr th:only-of-type {\n",
       "        vertical-align: middle;\n",
       "    }\n",
       "\n",
       "    .dataframe tbody tr th {\n",
       "        vertical-align: top;\n",
       "    }\n",
       "\n",
       "    .dataframe thead th {\n",
       "        text-align: right;\n",
       "    }\n",
       "</style>\n",
       "<table border=\"1\" class=\"dataframe\">\n",
       "  <thead>\n",
       "    <tr style=\"text-align: right;\">\n",
       "      <th></th>\n",
       "      <th>Flux rate</th>\n",
       "    </tr>\n",
       "    <tr>\n",
       "      <th>Reaction ID</th>\n",
       "      <th></th>\n",
       "    </tr>\n",
       "  </thead>\n",
       "  <tbody>\n",
       "    <tr>\n",
       "      <th>BIOMASS_Ecoli_core_w_GAM_ec1</th>\n",
       "      <td>0.151669</td>\n",
       "    </tr>\n",
       "    <tr>\n",
       "      <th>BIOMASS_Ecoli_core_w_GAM_ec2</th>\n",
       "      <td>0.610718</td>\n",
       "    </tr>\n",
       "    <tr>\n",
       "      <th>community_growth</th>\n",
       "      <td>0.762387</td>\n",
       "    </tr>\n",
       "  </tbody>\n",
       "</table>\n",
       "</div>"
      ],
      "text/plain": [
       "                              Flux rate\n",
       "Reaction ID                            \n",
       "BIOMASS_Ecoli_core_w_GAM_ec1   0.151669\n",
       "BIOMASS_Ecoli_core_w_GAM_ec2   0.610718\n",
       "community_growth               0.762387"
      ]
     },
     "execution_count": 22,
     "metadata": {},
     "output_type": "execute_result"
    }
   ],
   "source": [
    "problem.simulate(solution=solution.values,method='pFBA').find('BIOMASS|growth',show_nulls=True)"
   ]
  },
  {
   "cell_type": "markdown",
   "id": "1f647264-190f-4fe6-98a9-7308ed96e4d4",
   "metadata": {},
   "source": [
    "**regComFBA**"
   ]
  },
  {
   "cell_type": "code",
   "execution_count": 23,
   "id": "d0efbd3c",
   "metadata": {},
   "outputs": [
    {
     "data": {
      "text/html": [
       "<div>\n",
       "<style scoped>\n",
       "    .dataframe tbody tr th:only-of-type {\n",
       "        vertical-align: middle;\n",
       "    }\n",
       "\n",
       "    .dataframe tbody tr th {\n",
       "        vertical-align: top;\n",
       "    }\n",
       "\n",
       "    .dataframe thead th {\n",
       "        text-align: right;\n",
       "    }\n",
       "</style>\n",
       "<table border=\"1\" class=\"dataframe\">\n",
       "  <thead>\n",
       "    <tr style=\"text-align: right;\">\n",
       "      <th></th>\n",
       "      <th>Flux rate</th>\n",
       "    </tr>\n",
       "    <tr>\n",
       "      <th>Reaction ID</th>\n",
       "      <th></th>\n",
       "    </tr>\n",
       "  </thead>\n",
       "  <tbody>\n",
       "    <tr>\n",
       "      <th>BIOMASS_Ecoli_core_w_GAM_ec1</th>\n",
       "      <td>0.216164</td>\n",
       "    </tr>\n",
       "    <tr>\n",
       "      <th>BIOMASS_Ecoli_core_w_GAM_ec2</th>\n",
       "      <td>0.538599</td>\n",
       "    </tr>\n",
       "    <tr>\n",
       "      <th>community_growth</th>\n",
       "      <td>0.754763</td>\n",
       "    </tr>\n",
       "  </tbody>\n",
       "</table>\n",
       "</div>"
      ],
      "text/plain": [
       "                              Flux rate\n",
       "Reaction ID                            \n",
       "BIOMASS_Ecoli_core_w_GAM_ec1   0.216164\n",
       "BIOMASS_Ecoli_core_w_GAM_ec2   0.538599\n",
       "community_growth               0.754763"
      ]
     },
     "execution_count": 23,
     "metadata": {},
     "output_type": "execute_result"
    }
   ],
   "source": [
    "problem.simulate(solution=solution.values,method=regComFBA).find('BIOMASS|growth',show_nulls=True)"
   ]
  },
  {
   "cell_type": "markdown",
   "id": "d5eef1f2-3cc6-4359-a4dc-20451061b94f",
   "metadata": {},
   "source": [
    "We may also relax on the community growth to 90% of confidence by setting `obj_frac=0.9` (by default this value is set to 0.99):"
   ]
  },
  {
   "cell_type": "code",
   "execution_count": 24,
   "id": "19e526f3-e152-4164-a740-b53fa520172e",
   "metadata": {},
   "outputs": [
    {
     "data": {
      "text/html": [
       "<div>\n",
       "<style scoped>\n",
       "    .dataframe tbody tr th:only-of-type {\n",
       "        vertical-align: middle;\n",
       "    }\n",
       "\n",
       "    .dataframe tbody tr th {\n",
       "        vertical-align: top;\n",
       "    }\n",
       "\n",
       "    .dataframe thead th {\n",
       "        text-align: right;\n",
       "    }\n",
       "</style>\n",
       "<table border=\"1\" class=\"dataframe\">\n",
       "  <thead>\n",
       "    <tr style=\"text-align: right;\">\n",
       "      <th></th>\n",
       "      <th>Flux rate</th>\n",
       "    </tr>\n",
       "    <tr>\n",
       "      <th>Reaction ID</th>\n",
       "      <th></th>\n",
       "    </tr>\n",
       "  </thead>\n",
       "  <tbody>\n",
       "    <tr>\n",
       "      <th>BIOMASS_Ecoli_core_w_GAM_ec1</th>\n",
       "      <td>0.281992</td>\n",
       "    </tr>\n",
       "    <tr>\n",
       "      <th>BIOMASS_Ecoli_core_w_GAM_ec2</th>\n",
       "      <td>0.404156</td>\n",
       "    </tr>\n",
       "    <tr>\n",
       "      <th>community_growth</th>\n",
       "      <td>0.686148</td>\n",
       "    </tr>\n",
       "  </tbody>\n",
       "</table>\n",
       "</div>"
      ],
      "text/plain": [
       "                              Flux rate\n",
       "Reaction ID                            \n",
       "BIOMASS_Ecoli_core_w_GAM_ec1   0.281992\n",
       "BIOMASS_Ecoli_core_w_GAM_ec2   0.404156\n",
       "community_growth               0.686148"
      ]
     },
     "execution_count": 24,
     "metadata": {},
     "output_type": "execute_result"
    }
   ],
   "source": [
    "problem.simulate(solution=solution.values,method=regComFBA, obj_frac=0.9).find('BIOMASS|growth',show_nulls=True)"
   ]
  },
  {
   "cell_type": "markdown",
   "id": "614281b9-b4a4-45a4-ae88-248559bd1e3c",
   "metadata": {},
   "source": [
    "To have a first glimps to the interactions between the organism, we may look at the exchanges with the medium:"
   ]
  },
  {
   "cell_type": "code",
   "execution_count": 25,
   "id": "71d388c4-d81d-47ce-b191-57ad12541ced",
   "metadata": {},
   "outputs": [
    {
     "data": {
      "text/html": [
       "<div>\n",
       "<style scoped>\n",
       "    .dataframe tbody tr th:only-of-type {\n",
       "        vertical-align: middle;\n",
       "    }\n",
       "\n",
       "    .dataframe tbody tr th {\n",
       "        vertical-align: top;\n",
       "    }\n",
       "\n",
       "    .dataframe thead th {\n",
       "        text-align: right;\n",
       "    }\n",
       "</style>\n",
       "<table border=\"1\" class=\"dataframe\">\n",
       "  <thead>\n",
       "    <tr style=\"text-align: right;\">\n",
       "      <th></th>\n",
       "      <th>ec1</th>\n",
       "      <th>ec2</th>\n",
       "      <th>Total</th>\n",
       "    </tr>\n",
       "    <tr>\n",
       "      <th>Metabolite</th>\n",
       "      <th></th>\n",
       "      <th></th>\n",
       "      <th></th>\n",
       "    </tr>\n",
       "  </thead>\n",
       "  <tbody>\n",
       "    <tr>\n",
       "      <th>glc__D_e</th>\n",
       "      <td>-1.000000e+01</td>\n",
       "      <td>-4.035703e-10</td>\n",
       "      <td>-10.00000</td>\n",
       "    </tr>\n",
       "    <tr>\n",
       "      <th>gln__L_e</th>\n",
       "      <td>-0.000000e+00</td>\n",
       "      <td>-0.000000e+00</td>\n",
       "      <td>0.00000</td>\n",
       "    </tr>\n",
       "    <tr>\n",
       "      <th>glu__L_e</th>\n",
       "      <td>9.001655e+00</td>\n",
       "      <td>-9.001655e+00</td>\n",
       "      <td>-0.00000</td>\n",
       "    </tr>\n",
       "    <tr>\n",
       "      <th>h2o_e</th>\n",
       "      <td>-1.451961e+01</td>\n",
       "      <td>4.748387e+01</td>\n",
       "      <td>32.96426</td>\n",
       "    </tr>\n",
       "    <tr>\n",
       "      <th>h_e</th>\n",
       "      <td>9.896481e+00</td>\n",
       "      <td>5.451275e+00</td>\n",
       "      <td>15.34776</td>\n",
       "    </tr>\n",
       "    <tr>\n",
       "      <th>lac__D_e</th>\n",
       "      <td>-0.000000e+00</td>\n",
       "      <td>1.491075e-10</td>\n",
       "      <td>0.00000</td>\n",
       "    </tr>\n",
       "    <tr>\n",
       "      <th>mal__L_e</th>\n",
       "      <td>-0.000000e+00</td>\n",
       "      <td>-0.000000e+00</td>\n",
       "      <td>0.00000</td>\n",
       "    </tr>\n",
       "    <tr>\n",
       "      <th>nh4_e</th>\n",
       "      <td>-1.018035e+01</td>\n",
       "      <td>6.064782e+00</td>\n",
       "      <td>-4.11557</td>\n",
       "    </tr>\n",
       "    <tr>\n",
       "      <th>o2_e</th>\n",
       "      <td>-0.000000e+00</td>\n",
       "      <td>-2.659368e+01</td>\n",
       "      <td>-26.59368</td>\n",
       "    </tr>\n",
       "    <tr>\n",
       "      <th>pi_e</th>\n",
       "      <td>-7.952022e-01</td>\n",
       "      <td>-1.981345e+00</td>\n",
       "      <td>-2.77655</td>\n",
       "    </tr>\n",
       "    <tr>\n",
       "      <th>pyr_e</th>\n",
       "      <td>5.819462e+00</td>\n",
       "      <td>-5.819462e+00</td>\n",
       "      <td>-0.00000</td>\n",
       "    </tr>\n",
       "    <tr>\n",
       "      <th>ac_e</th>\n",
       "      <td>2.072098e-01</td>\n",
       "      <td>-0.000000e+00</td>\n",
       "      <td>0.20721</td>\n",
       "    </tr>\n",
       "    <tr>\n",
       "      <th>acald_e</th>\n",
       "      <td>-4.704296e+01</td>\n",
       "      <td>4.704296e+01</td>\n",
       "      <td>0.00000</td>\n",
       "    </tr>\n",
       "    <tr>\n",
       "      <th>succ_e</th>\n",
       "      <td>5.148543e-10</td>\n",
       "      <td>3.085917e-13</td>\n",
       "      <td>0.00000</td>\n",
       "    </tr>\n",
       "    <tr>\n",
       "      <th>akg_e</th>\n",
       "      <td>-9.234875e+00</td>\n",
       "      <td>9.234875e+00</td>\n",
       "      <td>-0.00000</td>\n",
       "    </tr>\n",
       "    <tr>\n",
       "      <th>co2_e</th>\n",
       "      <td>2.842858e+01</td>\n",
       "      <td>-9.623151e-01</td>\n",
       "      <td>27.46626</td>\n",
       "    </tr>\n",
       "    <tr>\n",
       "      <th>etoh_e</th>\n",
       "      <td>4.987583e+01</td>\n",
       "      <td>-4.987583e+01</td>\n",
       "      <td>-0.00000</td>\n",
       "    </tr>\n",
       "    <tr>\n",
       "      <th>for_e</th>\n",
       "      <td>5.580235e-10</td>\n",
       "      <td>1.355247e-09</td>\n",
       "      <td>0.00000</td>\n",
       "    </tr>\n",
       "    <tr>\n",
       "      <th>fru_e</th>\n",
       "      <td>-0.000000e+00</td>\n",
       "      <td>-0.000000e+00</td>\n",
       "      <td>0.00000</td>\n",
       "    </tr>\n",
       "    <tr>\n",
       "      <th>fum_e</th>\n",
       "      <td>-0.000000e+00</td>\n",
       "      <td>-0.000000e+00</td>\n",
       "      <td>0.00000</td>\n",
       "    </tr>\n",
       "  </tbody>\n",
       "</table>\n",
       "</div>"
      ],
      "text/plain": [
       "                     ec1           ec2     Total\n",
       "Metabolite                                      \n",
       "glc__D_e   -1.000000e+01 -4.035703e-10 -10.00000\n",
       "gln__L_e   -0.000000e+00 -0.000000e+00   0.00000\n",
       "glu__L_e    9.001655e+00 -9.001655e+00  -0.00000\n",
       "h2o_e      -1.451961e+01  4.748387e+01  32.96426\n",
       "h_e         9.896481e+00  5.451275e+00  15.34776\n",
       "lac__D_e   -0.000000e+00  1.491075e-10   0.00000\n",
       "mal__L_e   -0.000000e+00 -0.000000e+00   0.00000\n",
       "nh4_e      -1.018035e+01  6.064782e+00  -4.11557\n",
       "o2_e       -0.000000e+00 -2.659368e+01 -26.59368\n",
       "pi_e       -7.952022e-01 -1.981345e+00  -2.77655\n",
       "pyr_e       5.819462e+00 -5.819462e+00  -0.00000\n",
       "ac_e        2.072098e-01 -0.000000e+00   0.20721\n",
       "acald_e    -4.704296e+01  4.704296e+01   0.00000\n",
       "succ_e      5.148543e-10  3.085917e-13   0.00000\n",
       "akg_e      -9.234875e+00  9.234875e+00  -0.00000\n",
       "co2_e       2.842858e+01 -9.623151e-01  27.46626\n",
       "etoh_e      4.987583e+01 -4.987583e+01  -0.00000\n",
       "for_e       5.580235e-10  1.355247e-09   0.00000\n",
       "fru_e      -0.000000e+00 -0.000000e+00   0.00000\n",
       "fum_e      -0.000000e+00 -0.000000e+00   0.00000"
      ]
     },
     "execution_count": 25,
     "metadata": {},
     "output_type": "execute_result"
    }
   ],
   "source": [
    "from mewpy.com.analysis import exchanges\n",
    "res = problem.simulate(solution=solution.values,method=regComFBA)\n",
    "exchanges(community,res)"
   ]
  },
  {
   "cell_type": "markdown",
   "id": "bc0123c8-cc62-48d1-87a0-313ebfd96bed",
   "metadata": {},
   "source": [
    "Finally, we can audit the deleted reactions: "
   ]
  },
  {
   "cell_type": "code",
   "execution_count": 26,
   "id": "c92e07da",
   "metadata": {},
   "outputs": [
    {
     "data": {
      "text/plain": [
       "{'CS_ec1': 0,\n",
       " 'PDH_ec2': 0,\n",
       " 'NADH16_ec1': 0,\n",
       " 'SUCOAS_ec2': 0,\n",
       " 'LDH_D_ec1': 0,\n",
       " 'GLUSy_ec1': 0,\n",
       " 'SUCDi_ec1': 0,\n",
       " 'GND_ec2': 0,\n",
       " 'PTAr_ec2': 0,\n",
       " 'ME2_ec2': 0,\n",
       " 'THD2_ec2': 0,\n",
       " 'ICL_ec2': 0,\n",
       " 'THD2_ec1': 0,\n",
       " 'SUCDi_ec2': 0,\n",
       " 'FRUpts2_ec2': 0,\n",
       " 'NADTRHD_ec2': 0,\n",
       " 'MDH_ec2': 0,\n",
       " 'GLUSy_ec2': 0}"
      ]
     },
     "execution_count": 26,
     "metadata": {},
     "output_type": "execute_result"
    }
   ],
   "source": [
    "problem.solution_to_constraints(solution.values)"
   ]
  },
  {
   "cell_type": "markdown",
   "id": "56af34d1",
   "metadata": {},
   "source": [
    "## Next Steps:\n",
    "You may now apply the modifications to the models and analyse further the solution using SMETANA and SteadyCom (see [notebook 8](08-community.ipynb)).\n",
    "\n",
    "You may also consider running other alternative optimization tasks considering different strategies (e.g. Gene Over/Under Expression) and alternative optimization objectives."
   ]
  },
  {
   "cell_type": "code",
   "execution_count": null,
   "id": "4c985d8d",
   "metadata": {},
   "outputs": [],
   "source": []
  }
 ],
 "metadata": {
  "kernelspec": {
   "display_name": "cobra",
   "language": "python",
   "name": "cobra"
  },
  "language_info": {
   "codemirror_mode": {
    "name": "ipython",
    "version": 3
   },
   "file_extension": ".py",
   "mimetype": "text/x-python",
   "name": "python",
   "nbconvert_exporter": "python",
   "pygments_lexer": "ipython3",
   "version": "3.9.15"
  }
 },
 "nbformat": 4,
 "nbformat_minor": 5
}
