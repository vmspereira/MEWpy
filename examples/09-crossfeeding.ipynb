{
 "cells": [
  {
   "cell_type": "markdown",
   "id": "e5773faf",
   "metadata": {},
   "source": [
    "# MEWpy Optimization\n",
    "\n",
    "\n",
    "Author: Vitor Pereira\n",
    "\n",
    "License: [CC BY-SA 4.0](http://creativecommons.org/licenses/by-sa/4.0/)\n",
    "\n",
    "-------\n",
    "\n",
    "In this tutorial:\n",
    "\n",
    "- You will learn how to run combinatorial optimization on microbial communities using MEWpy"
   ]
  },
  {
   "cell_type": "markdown",
   "id": "72031191",
   "metadata": {},
   "source": [
    "## Bacterial cross-feeding via extensive gene loss\n",
    "\n",
    "Metabolic dependencies between microbial species have a significant impact on the\n",
    "assembly and activity of microbial communities. However, the evolutionary origins of\n",
    "such dependencies and the impact of metabolic and genomic architecture on their\n",
    "emergence are not clear.\n",
    "\n",
    "Recently, [McNally et al.](https://doi.org/10.1186/s12918-018-0588-4) proposed a method to evolve\n",
    "cooperative interactions among microbial species by fostering cross-feeding of a\n",
    "diverse set of metabolites. This was achieved by incrementaly deleting genes on\n",
    "initially two identical bacterias (E. coli) and increasingly imposing constraints on the\n",
    "community metabolic network such that two new strains evolve and start to diverge\n",
    "while maximizing the differences on their genotypes.\n",
    "\n",
    "The aim is to replicate the experiments using\n",
    "MEWpy to maximize the number of deleted genes on the two strains\n",
    "while inducing cross-feeding. "
   ]
  },
  {
   "cell_type": "markdown",
   "id": "e3fe3979",
   "metadata": {},
   "source": [
    "### Run in Google colab\n",
    "\n",
    "If you are running this notebook in Colab, you need to perform the following steps, otherwise skip."
   ]
  },
  {
   "cell_type": "code",
   "execution_count": 1,
   "id": "6d67604e",
   "metadata": {},
   "outputs": [],
   "source": [
    "%%bash\n",
    "[[ ! -e /colabtools ]] && exit\n",
    "! pip install -U -q PyDrive"
   ]
  },
  {
   "cell_type": "code",
   "execution_count": 2,
   "id": "bfa8ecf8",
   "metadata": {},
   "outputs": [],
   "source": [
    "if 'google.colab' in str(get_ipython()):\n",
    "    from pydrive.auth import GoogleAuth\n",
    "    from pydrive.drive import GoogleDrive\n",
    "    from google.colab import auth\n",
    "    from oauth2client.client import GoogleCredentials\n",
    "\n",
    "    auth.authenticate_user()\n",
    "    gauth = GoogleAuth()\n",
    "    gauth.credentials = GoogleCredentials.get_application_default()\n",
    "    drive = GoogleDrive(gauth)\n",
    "\n",
    "    model_file = drive.CreateFile({'id':'1o0XthuEOs28UJ4XTa9SfFSFofazV-2nN'})\n",
    "    model_file.GetContentFile('e_coli_core.xml.gz')"
   ]
  },
  {
   "cell_type": "markdown",
   "id": "e78b9aa7",
   "metadata": {},
   "source": [
    "## Step 1 - Load the model"
   ]
  },
  {
   "cell_type": "code",
   "execution_count": 3,
   "id": "91b9045c",
   "metadata": {},
   "outputs": [
    {
     "name": "stdout",
     "output_type": "stream",
     "text": [
      "Set parameter Username\n",
      "Academic license - for non-commercial use only - expires 2024-12-11\n"
     ]
    }
   ],
   "source": [
    "from cobra.io import read_sbml_model\n",
    "import warnings\n",
    "warnings.filterwarnings('ignore')\n",
    "\n",
    "model = read_sbml_model('models/ec/e_coli_core.xml.gz')"
   ]
  },
  {
   "cell_type": "markdown",
   "id": "a2b4fc59",
   "metadata": {},
   "source": [
    "We will make two copies of the model and rename the two strains"
   ]
  },
  {
   "cell_type": "code",
   "execution_count": 4,
   "id": "8dc4a04c",
   "metadata": {},
   "outputs": [],
   "source": [
    "from mewpy import get_simulator\n",
    "wildtype = get_simulator(model)"
   ]
  },
  {
   "cell_type": "code",
   "execution_count": 5,
   "id": "726079e0",
   "metadata": {},
   "outputs": [],
   "source": [
    "ec1 = wildtype.copy()\n",
    "ec1.id = 'ec1'\n",
    "ec2 =wildtype.copy()\n",
    "ec2.id = 'ec2'"
   ]
  },
  {
   "cell_type": "markdown",
   "id": "dc4947e9",
   "metadata": {},
   "source": [
    "In the experiment, we will use the medium defined in the model"
   ]
  },
  {
   "cell_type": "code",
   "execution_count": 6,
   "id": "67413af6",
   "metadata": {
    "scrolled": true
   },
   "outputs": [
    {
     "data": {
      "text/html": [
       "<table border=\"1\" class=\"dataframe\">\n",
       "  <thead>\n",
       "    <tr style=\"text-align: right;\">\n",
       "      <th></th>\n",
       "      <th>lb</th>\n",
       "      <th>ub</th>\n",
       "    </tr>\n",
       "  </thead>\n",
       "  <tbody>\n",
       "    <tr>\n",
       "      <th>EX_ac_e</th>\n",
       "      <td>0.0</td>\n",
       "      <td>1000.0</td>\n",
       "    </tr>\n",
       "    <tr>\n",
       "      <th>EX_acald_e</th>\n",
       "      <td>0.0</td>\n",
       "      <td>1000.0</td>\n",
       "    </tr>\n",
       "    <tr>\n",
       "      <th>EX_akg_e</th>\n",
       "      <td>0.0</td>\n",
       "      <td>1000.0</td>\n",
       "    </tr>\n",
       "    <tr>\n",
       "      <th>EX_co2_e</th>\n",
       "      <td>-1000.0</td>\n",
       "      <td>1000.0</td>\n",
       "    </tr>\n",
       "    <tr>\n",
       "      <th>EX_etoh_e</th>\n",
       "      <td>0.0</td>\n",
       "      <td>1000.0</td>\n",
       "    </tr>\n",
       "    <tr>\n",
       "      <th>EX_for_e</th>\n",
       "      <td>0.0</td>\n",
       "      <td>1000.0</td>\n",
       "    </tr>\n",
       "    <tr>\n",
       "      <th>EX_fru_e</th>\n",
       "      <td>0.0</td>\n",
       "      <td>1000.0</td>\n",
       "    </tr>\n",
       "    <tr>\n",
       "      <th>EX_fum_e</th>\n",
       "      <td>0.0</td>\n",
       "      <td>1000.0</td>\n",
       "    </tr>\n",
       "    <tr>\n",
       "      <th>EX_glc__D_e</th>\n",
       "      <td>-10.0</td>\n",
       "      <td>1000.0</td>\n",
       "    </tr>\n",
       "    <tr>\n",
       "      <th>EX_gln__L_e</th>\n",
       "      <td>0.0</td>\n",
       "      <td>1000.0</td>\n",
       "    </tr>\n",
       "    <tr>\n",
       "      <th>EX_glu__L_e</th>\n",
       "      <td>0.0</td>\n",
       "      <td>1000.0</td>\n",
       "    </tr>\n",
       "    <tr>\n",
       "      <th>EX_h_e</th>\n",
       "      <td>-1000.0</td>\n",
       "      <td>1000.0</td>\n",
       "    </tr>\n",
       "    <tr>\n",
       "      <th>EX_h2o_e</th>\n",
       "      <td>-1000.0</td>\n",
       "      <td>1000.0</td>\n",
       "    </tr>\n",
       "    <tr>\n",
       "      <th>EX_lac__D_e</th>\n",
       "      <td>0.0</td>\n",
       "      <td>1000.0</td>\n",
       "    </tr>\n",
       "    <tr>\n",
       "      <th>EX_mal__L_e</th>\n",
       "      <td>0.0</td>\n",
       "      <td>1000.0</td>\n",
       "    </tr>\n",
       "    <tr>\n",
       "      <th>EX_nh4_e</th>\n",
       "      <td>-1000.0</td>\n",
       "      <td>1000.0</td>\n",
       "    </tr>\n",
       "    <tr>\n",
       "      <th>EX_o2_e</th>\n",
       "      <td>-1000.0</td>\n",
       "      <td>1000.0</td>\n",
       "    </tr>\n",
       "    <tr>\n",
       "      <th>EX_pi_e</th>\n",
       "      <td>-1000.0</td>\n",
       "      <td>1000.0</td>\n",
       "    </tr>\n",
       "    <tr>\n",
       "      <th>EX_pyr_e</th>\n",
       "      <td>0.0</td>\n",
       "      <td>1000.0</td>\n",
       "    </tr>\n",
       "    <tr>\n",
       "      <th>EX_succ_e</th>\n",
       "      <td>0.0</td>\n",
       "      <td>1000.0</td>\n",
       "    </tr>\n",
       "  </tbody>\n",
       "</table>"
      ],
      "text/plain": [
       "EX_ac_e\t0.0\t1000.0\n",
       "EX_acald_e\t0.0\t1000.0\n",
       "EX_akg_e\t0.0\t1000.0\n",
       "EX_co2_e\t-1000.0\t1000.0\n",
       "EX_etoh_e\t0.0\t1000.0\n",
       "EX_for_e\t0.0\t1000.0\n",
       "EX_fru_e\t0.0\t1000.0\n",
       "EX_fum_e\t0.0\t1000.0\n",
       "EX_glc__D_e\t-10.0\t1000.0\n",
       "EX_gln__L_e\t0.0\t1000.0\n",
       "EX_glu__L_e\t0.0\t1000.0\n",
       "EX_h_e\t-1000.0\t1000.0\n",
       "EX_h2o_e\t-1000.0\t1000.0\n",
       "EX_lac__D_e\t0.0\t1000.0\n",
       "EX_mal__L_e\t0.0\t1000.0\n",
       "EX_nh4_e\t-1000.0\t1000.0\n",
       "EX_o2_e\t-1000.0\t1000.0\n",
       "EX_pi_e\t-1000.0\t1000.0\n",
       "EX_pyr_e\t0.0\t1000.0\n",
       "EX_succ_e\t0.0\t1000.0"
      ]
     },
     "execution_count": 6,
     "metadata": {},
     "output_type": "execute_result"
    }
   ],
   "source": [
    "from mewpy.simulation import Environment\n",
    "medium = Environment.from_model(wildtype)\n",
    "medium"
   ]
  },
  {
   "cell_type": "markdown",
   "id": "ab9eb23a",
   "metadata": {},
   "source": [
    "## Step 2 - Find single strain gene KOs"
   ]
  },
  {
   "cell_type": "markdown",
   "id": "08e4afb9",
   "metadata": {},
   "source": [
    "Two make the search for combinatorial gene deletion on the community model, we will first idenfify combinatorial gene delerions in one strain, and use these results to seed the community gene deletions.\n",
    "\n",
    "We start by defining a gene deletion optimization problem (`GKOProblem`) defining as objective the maximization of biomass production (f1) and the maximization of the number of deletions."
   ]
  },
  {
   "cell_type": "code",
   "execution_count": 7,
   "id": "b9e85e16",
   "metadata": {},
   "outputs": [],
   "source": [
    "from mewpy.problems import GKOProblem\n",
    "from mewpy.optimization.evaluation import TargetFlux, CandidateSize"
   ]
  },
  {
   "cell_type": "code",
   "execution_count": 8,
   "id": "3a1b7690",
   "metadata": {},
   "outputs": [],
   "source": [
    "f1 = TargetFlux(wildtype.biomass_reaction,method='FBA')\n",
    "f2 = CandidateSize(maximize=True)"
   ]
  },
  {
   "cell_type": "markdown",
   "id": "3752311b",
   "metadata": {},
   "source": [
    "To simpilfy the problem, we will define a maximum of 30 gene deletion and run 10 optimization iterations."
   ]
  },
  {
   "cell_type": "code",
   "execution_count": 9,
   "id": "cc1828d2",
   "metadata": {},
   "outputs": [],
   "source": [
    "problem = GKOProblem(wildtype,\n",
    "                     [f1,f2],\n",
    "                     candidate_max_size = 50)\n"
   ]
  },
  {
   "cell_type": "code",
   "execution_count": 10,
   "id": "d838bef7",
   "metadata": {},
   "outputs": [
    {
     "name": "stdout",
     "output_type": "stream",
     "text": [
      "Building modification target list.\n"
     ]
    },
    {
     "name": "stderr",
     "output_type": "stream",
     "text": [
      "100%|███████████████████████████████████████| 137/137 [00:00<00:00, 2197.73it/s]"
     ]
    },
    {
     "name": "stdout",
     "output_type": "stream",
     "text": [
      "Running NSGAII\n"
     ]
    },
    {
     "name": "stderr",
     "output_type": "stream",
     "text": [
      "\n"
     ]
    },
    {
     "name": "stdout",
     "output_type": "stream",
     "text": [
      "Eval(s)|     Worst      Best    Median   Average   Std Dev|     Worst      Best    Median   Average   Std Dev|\n",
      "    100|  0.000000  0.873922  0.000000  0.139131  0.243433|  1.000000  50.000000  27.000000  24.910000  14.832461|\n",
      "    200|  0.000000  0.873922  0.196462  0.252733  0.255846|  1.000000  50.000000  13.500000  20.180000  16.669361|\n",
      "    300|  0.000000  0.873922  0.211663  0.353210  0.318573|  1.000000  50.000000  17.000000  21.520000  16.222503|\n",
      "    400|  0.000000  0.873922  0.374230  0.390360  0.341932|  1.000000  50.000000  21.000000  24.030000  16.826441|\n",
      "    500|  0.000000  0.873922  0.374230  0.397523  0.340082|  2.000000  50.000000  21.500000  24.690000  16.496481|\n",
      "    600|  0.000000  0.873922  0.350513  0.331092  0.327334|  3.000000  50.000000  26.000000  28.780000  16.620217|\n",
      "    700|  0.000000  0.873922  0.000000  0.265574  0.330570|  3.000000  50.000000  47.000000  33.640000  16.697617|\n",
      "    800|  0.000000  0.873922  0.000000  0.221614  0.316088|  6.000000  50.000000  48.000000  36.320000  15.811312|\n",
      "    900|  0.000000  0.873922  0.000000  0.193541  0.304936|  7.000000  50.000000  49.000000  38.570000  15.257297|\n",
      "   1000|  0.000000  0.873922  0.000000  0.142570  0.278743|  8.000000  50.000000  50.000000  42.120000  14.027316|\n",
      "   1100|  0.000000  0.873922  0.000000  0.057600  0.188195|  9.000000  50.000000  50.000000  46.910000  9.396909|\n",
      "   1200|  0.000000  0.873922  0.000000  0.065348  0.191490|  9.000000  50.000000  50.000000  46.410000  9.684106|\n",
      "   1300|  0.000000  0.873922  0.000000  0.082827  0.222156|  9.000000  50.000000  50.000000  45.640000  10.836531|\n",
      "   1400|  0.000000  0.873922  0.000000  0.078129  0.218867|  9.000000  50.000000  50.000000  45.960000  10.482290|\n",
      "   1500|  0.000000  0.873922  0.000000  0.080059  0.219020|  9.000000  50.000000  50.000000  45.860000  10.468066|\n",
      "   1600|  0.000000  0.873922  0.000000  0.090751  0.227000|  9.000000  50.000000  50.000000  45.240000  10.943601|\n",
      "   1700|  0.000000  0.873922  0.000000  0.095364  0.239419|  9.000000  50.000000  50.000000  45.250000  11.178886|\n",
      "   1800|  0.000000  0.873922  0.000000  0.109855  0.252298|  9.000000  50.000000  50.000000  44.440000  11.772273|\n",
      "   1900|  0.000000  0.873922  0.000000  0.102677  0.248593|  9.000000  50.000000  50.000000  44.900000  11.425848|\n",
      "   2000|  0.000000  0.873922  0.000000  0.092484  0.246764|  9.000000  50.000000  50.000000  45.660000  10.985645|\n",
      "   2100|  0.000000  0.873922  0.000000  0.092520  0.246780|  9.000000  50.000000  50.000000  45.670000  10.970921|\n",
      "   2200|  0.000000  0.873922  0.000000  0.114860  0.275620|  9.000000  50.000000  50.000000  44.930000  12.014371|\n",
      "   2300|  0.000000  0.873922  0.000000  0.118989  0.280689|  9.000000  50.000000  50.000000  44.900000  11.962859|\n",
      "   2400|  0.000000  0.873922  0.000000  0.117064  0.280838|  9.000000  50.000000  50.000000  44.960000  11.973237|\n",
      "   2500|  0.000000  0.873922  0.000000  0.129394  0.288685|  9.000000  50.000000  50.000000  44.320000  12.302748|\n",
      "   2600|  0.000000  0.873922  0.000000  0.147377  0.302901|  9.000000  50.000000  50.000000  43.730000  12.674269|\n",
      "   2700|  0.000000  0.873922  0.000000  0.150088  0.304025|  9.000000  50.000000  50.000000  43.620000  12.640237|\n",
      "   2800|  0.000000  0.873922  0.000000  0.235088  0.342419|  9.000000  50.000000  50.000000  40.020000  13.902503|\n",
      "   2900|  0.000000  0.873922  0.000000  0.202618  0.319993|  9.000000  50.000000  50.000000  41.310000  13.243636|\n",
      "   3000|  0.000000  0.873922  0.196462  0.326035  0.345409|  9.000000  50.000000  39.000000  36.230000  14.084641|\n",
      "   3100|  0.000000  0.873922  0.374230  0.492858  0.324564|  8.000000  50.000000  30.000000  30.160000  13.029751|\n",
      "   3200|  0.182527  0.873922  0.211663  0.478488  0.314659|  8.000000  50.000000  34.000000  32.440000  13.642815|\n",
      "   3300|  0.182527  0.873922  0.519491  0.522958  0.315752|  8.000000  50.000000  29.000000  30.820000  13.639927|\n",
      "   3400|  0.182527  0.873922  0.211663  0.494350  0.321601|  8.000000  50.000000  35.000000  32.520000  13.948104|\n",
      "   3500|  0.182527  0.873922  0.729735  0.558824  0.319162|  8.000000  50.000000  29.000000  29.590000  13.028503|\n",
      "   3600|  0.182527  0.873922  0.796841  0.583404  0.311285|  8.000000  50.000000  28.500000  28.940000  12.594300|\n",
      "   3700|  0.182527  0.873922  0.796841  0.570842  0.316299|  8.000000  50.000000  29.500000  29.780000  12.633748|\n",
      "   3800|  0.182527  0.873922  0.814298  0.592014  0.317421|  8.000000  50.000000  29.500000  30.400000  12.545119|\n",
      "   3900|  0.192520  0.873922  0.814298  0.586601  0.319686|  8.000000  50.000000  31.000000  30.700000  12.088424|\n",
      "   4000|  0.192520  0.873922  0.814298  0.588297  0.318581|  8.000000  50.000000  31.000000  31.580000  12.439598|\n",
      "   4100|  0.192520  0.873922  0.814298  0.576526  0.322905|  8.000000  50.000000  32.500000  32.600000  12.675962|\n",
      "   4200|  0.000000  0.873922  0.858307  0.639750  0.312014|  8.000000  50.000000  30.000000  31.280000  12.782864|\n",
      "   4300|  0.000000  0.873922  0.858307  0.613869  0.320631|  8.000000  50.000000  31.000000  32.580000  12.893549|\n",
      "   4400|  0.192520  0.873922  0.814298  0.576304  0.324719|  8.000000  50.000000  33.000000  34.650000  12.492698|\n",
      "   4500|  0.192520  0.873922  0.495524  0.529611  0.327419|  8.000000  50.000000  38.500000  36.610000  12.712903|\n",
      "   4600|  0.192520  0.873922  0.814298  0.558426  0.327530|  8.000000  50.000000  35.000000  36.260000  12.128990|\n",
      "   4700|  0.192520  0.873922  0.863813  0.632796  0.312936|  8.000000  50.000000  34.000000  34.640000  11.258348|\n",
      "   4800|  0.192520  0.873922  0.833819  0.569717  0.325147|  9.000000  50.000000  35.500000  36.240000  11.402737|\n",
      "   4900|  0.192520  0.873922  0.717202  0.540942  0.326207|  9.000000  50.000000  37.000000  38.110000  10.238061|\n",
      "   5000|  0.192520  0.873922  0.211663  0.497099  0.320723|  27.000000  50.000000  43.000000  40.960000  7.266251|\n"
     ]
    }
   ],
   "source": [
    "from mewpy.optimization import EA\n",
    "ea = EA(problem, max_generations=50)\n",
    "gkos = ea.run(simplify=False)"
   ]
  },
  {
   "cell_type": "markdown",
   "id": "49b54036",
   "metadata": {},
   "source": [
    "We can have a look to the solution found by the evolutionary algoritm (EA)"
   ]
  },
  {
   "cell_type": "code",
   "execution_count": 11,
   "id": "22b63cf1",
   "metadata": {},
   "outputs": [
    {
     "data": {
      "text/html": [
       "<div>\n",
       "<style scoped>\n",
       "    .dataframe tbody tr th:only-of-type {\n",
       "        vertical-align: middle;\n",
       "    }\n",
       "\n",
       "    .dataframe tbody tr th {\n",
       "        vertical-align: top;\n",
       "    }\n",
       "\n",
       "    .dataframe thead th {\n",
       "        text-align: right;\n",
       "    }\n",
       "</style>\n",
       "<table border=\"1\" class=\"dataframe\">\n",
       "  <thead>\n",
       "    <tr style=\"text-align: right;\">\n",
       "      <th></th>\n",
       "      <th>Modification</th>\n",
       "      <th>Size</th>\n",
       "      <th>TargetFlux</th>\n",
       "      <th>Size</th>\n",
       "    </tr>\n",
       "  </thead>\n",
       "  <tbody>\n",
       "    <tr>\n",
       "      <th>0</th>\n",
       "      <td>{'b3739': 0, 'b2284': 0, 'b2463': 0, 'b3114': ...</td>\n",
       "      <td>50</td>\n",
       "      <td>0.211663</td>\n",
       "      <td>50.0</td>\n",
       "    </tr>\n",
       "    <tr>\n",
       "      <th>1</th>\n",
       "      <td>{'b3739': 0, 'b2284': 0, 'b1524': 0, 'b4232': ...</td>\n",
       "      <td>50</td>\n",
       "      <td>0.211663</td>\n",
       "      <td>50.0</td>\n",
       "    </tr>\n",
       "    <tr>\n",
       "      <th>2</th>\n",
       "      <td>{'b3739': 0, 'b0903': 0, 'b2463': 0, 'b1524': ...</td>\n",
       "      <td>35</td>\n",
       "      <td>0.873922</td>\n",
       "      <td>35.0</td>\n",
       "    </tr>\n",
       "    <tr>\n",
       "      <th>3</th>\n",
       "      <td>{'b3739': 0, 'b0903': 0, 'b4152': 0, 'b2463': ...</td>\n",
       "      <td>34</td>\n",
       "      <td>0.873922</td>\n",
       "      <td>34.0</td>\n",
       "    </tr>\n",
       "    <tr>\n",
       "      <th>4</th>\n",
       "      <td>{'b1380': 0, 'b3739': 0, 'b2284': 0, 'b4152': ...</td>\n",
       "      <td>47</td>\n",
       "      <td>0.211663</td>\n",
       "      <td>47.0</td>\n",
       "    </tr>\n",
       "    <tr>\n",
       "      <th>...</th>\n",
       "      <td>...</td>\n",
       "      <td>...</td>\n",
       "      <td>...</td>\n",
       "      <td>...</td>\n",
       "    </tr>\n",
       "    <tr>\n",
       "      <th>70</th>\n",
       "      <td>{'b3739': 0, 'b2284': 0, 'b3114': 0, 'b1524': ...</td>\n",
       "      <td>50</td>\n",
       "      <td>0.200142</td>\n",
       "      <td>50.0</td>\n",
       "    </tr>\n",
       "    <tr>\n",
       "      <th>71</th>\n",
       "      <td>{'b3739': 0, 'b4152': 0, 'b2463': 0, 'b1524': ...</td>\n",
       "      <td>27</td>\n",
       "      <td>0.873922</td>\n",
       "      <td>27.0</td>\n",
       "    </tr>\n",
       "    <tr>\n",
       "      <th>72</th>\n",
       "      <td>{'b1380': 0, 'b3739': 0, 'b2284': 0, 'b2279': ...</td>\n",
       "      <td>50</td>\n",
       "      <td>0.192520</td>\n",
       "      <td>50.0</td>\n",
       "    </tr>\n",
       "    <tr>\n",
       "      <th>73</th>\n",
       "      <td>{'b1380': 0, 'b3739': 0, 'b2284': 0, 'b2279': ...</td>\n",
       "      <td>50</td>\n",
       "      <td>0.192520</td>\n",
       "      <td>50.0</td>\n",
       "    </tr>\n",
       "    <tr>\n",
       "      <th>74</th>\n",
       "      <td>{'b3739': 0, 'b2284': 0, 'b2279': 0, 'b4232': ...</td>\n",
       "      <td>42</td>\n",
       "      <td>0.211663</td>\n",
       "      <td>42.0</td>\n",
       "    </tr>\n",
       "  </tbody>\n",
       "</table>\n",
       "<p>75 rows × 4 columns</p>\n",
       "</div>"
      ],
      "text/plain": [
       "                                         Modification  Size  TargetFlux  Size\n",
       "0   {'b3739': 0, 'b2284': 0, 'b2463': 0, 'b3114': ...    50    0.211663  50.0\n",
       "1   {'b3739': 0, 'b2284': 0, 'b1524': 0, 'b4232': ...    50    0.211663  50.0\n",
       "2   {'b3739': 0, 'b0903': 0, 'b2463': 0, 'b1524': ...    35    0.873922  35.0\n",
       "3   {'b3739': 0, 'b0903': 0, 'b4152': 0, 'b2463': ...    34    0.873922  34.0\n",
       "4   {'b1380': 0, 'b3739': 0, 'b2284': 0, 'b4152': ...    47    0.211663  47.0\n",
       "..                                                ...   ...         ...   ...\n",
       "70  {'b3739': 0, 'b2284': 0, 'b3114': 0, 'b1524': ...    50    0.200142  50.0\n",
       "71  {'b3739': 0, 'b4152': 0, 'b2463': 0, 'b1524': ...    27    0.873922  27.0\n",
       "72  {'b1380': 0, 'b3739': 0, 'b2284': 0, 'b2279': ...    50    0.192520  50.0\n",
       "73  {'b1380': 0, 'b3739': 0, 'b2284': 0, 'b2279': ...    50    0.192520  50.0\n",
       "74  {'b3739': 0, 'b2284': 0, 'b2279': 0, 'b4232': ...    42    0.211663  42.0\n",
       "\n",
       "[75 rows x 4 columns]"
      ]
     },
     "execution_count": 11,
     "metadata": {},
     "output_type": "execute_result"
    }
   ],
   "source": [
    "ea.dataframe()"
   ]
  },
  {
   "cell_type": "markdown",
   "id": "8dc329e4",
   "metadata": {},
   "source": [
    "and run an FBA on the first solution (the biomass is set by default as objective)"
   ]
  },
  {
   "cell_type": "code",
   "execution_count": 12,
   "id": "abe720b5",
   "metadata": {},
   "outputs": [
    {
     "data": {
      "text/plain": [
       "objective: 0.21166294973531075\n",
       "Status: OPTIMAL\n",
       "Method:FBA"
      ]
     },
     "execution_count": 12,
     "metadata": {},
     "output_type": "execute_result"
    }
   ],
   "source": [
    "problem.simulate(solution=gkos[0].values)"
   ]
  },
  {
   "cell_type": "markdown",
   "id": "6295108a",
   "metadata": {},
   "source": [
    "We may now generate solutions that will seed the EA to be used later in the community gene deletions."
   ]
  },
  {
   "cell_type": "code",
   "execution_count": 13,
   "id": "fa265f62",
   "metadata": {},
   "outputs": [],
   "source": [
    "import random\n",
    "\n",
    "init_pop = []\n",
    "for s in gkos:\n",
    "    x=s.values\n",
    "    init_pop.append([k+'_ec1' for k in x.keys()])\n",
    "    init_pop.append([k+'_ec2' for k in x.keys()])\n",
    "\n",
    "random.shuffle(init_pop)\n"
   ]
  },
  {
   "cell_type": "markdown",
   "id": "4eacf5b3",
   "metadata": {},
   "source": [
    "## Community mutants \n",
    "\n",
    "We can now address our main goal, starting by defining a community model. We will not impose a relative abundance (`merge_biomasses=False`), instead we will include in the optimization task the secondary implicit goal of \"minimizing the difference between the mutant growth\" using a regularized FBA.  "
   ]
  },
  {
   "cell_type": "code",
   "execution_count": 36,
   "id": "a5ead7e5",
   "metadata": {},
   "outputs": [
    {
     "name": "stderr",
     "output_type": "stream",
     "text": [
      "Organism: 100%|███████████████████████████████████| 2/2 [00:00<00:00,  8.66it/s]\n"
     ]
    }
   ],
   "source": [
    "from mewpy.model import CommunityModel\n",
    "from mewpy.com import regComFBA\n",
    "\n",
    "community= CommunityModel([ec1,ec2],merge_biomasses=False,flavor='cobra')\n",
    "sim = community.get_community_model()\n",
    "sim.set_environmental_conditions(medium)"
   ]
  },
  {
   "cell_type": "markdown",
   "id": "0fd206f6",
   "metadata": {},
   "source": [
    "We will consider 3 optimization objectives:\n",
    "\n",
    "- Maximize `ec1` growth while ensuring that `ec2` growth is above 0.1/h;\n",
    "- Maximize `ec2` growth while ensuring that `ec1` growth is above 0.1/h;\n",
    "- Maximize the total number of gene deletions.\n",
    "\n",
    "We will be using a Regularized Community FBA (regComFBA) to select a specific solution."
   ]
  },
  {
   "cell_type": "code",
   "execution_count": 27,
   "id": "4f1a046b",
   "metadata": {},
   "outputs": [],
   "source": [
    "f1 = TargetFlux(community.organisms_biomass['ec1'],\n",
    "                community.organisms_biomass['ec2'],\n",
    "                min_biomass_value=0.1,method=regComFBA)\n",
    "\n",
    "f2 = TargetFlux(community.organisms_biomass['ec2'],\n",
    "                community.organisms_biomass['ec1'],\n",
    "                min_biomass_value=0.1,method=regComFBA)\n",
    "\n",
    "f3 = CandidateSize(maximize=True)"
   ]
  },
  {
   "cell_type": "code",
   "execution_count": 28,
   "id": "bf6d8ef2",
   "metadata": {},
   "outputs": [],
   "source": [
    "problem = GKOProblem(sim,\n",
    "                     [f1,f2,f3],\n",
    "                     candidate_max_size = 60)"
   ]
  },
  {
   "cell_type": "markdown",
   "id": "e2d20b58",
   "metadata": {},
   "source": [
    "Now that we have defined the optimization problem, we may run it (for 10 iterations, and considering a maximum of 60 gene deletions in total)"
   ]
  },
  {
   "cell_type": "code",
   "execution_count": 29,
   "id": "d0febc71",
   "metadata": {},
   "outputs": [
    {
     "name": "stdout",
     "output_type": "stream",
     "text": [
      "Building modification target list.\n"
     ]
    },
    {
     "name": "stderr",
     "output_type": "stream",
     "text": [
      "100%|███████████████████████████████████████| 274/274 [00:00<00:00, 1762.72it/s]"
     ]
    },
    {
     "name": "stdout",
     "output_type": "stream",
     "text": [
      "Running NSGAII\n"
     ]
    },
    {
     "name": "stderr",
     "output_type": "stream",
     "text": [
      "\n"
     ]
    },
    {
     "name": "stdout",
     "output_type": "stream",
     "text": [
      "Eval(s)|     Worst      Best    Median   Average   Std Dev|     Worst      Best    Median   Average   Std Dev|     Worst      Best    Median   Average   Std Dev|\n",
      "    100|  0.411442  0.411442  0.411442  0.411442  0.000000|  0.411442  0.411442  0.411442  0.411442  0.000000|  27.000000  50.000000  41.000000  40.320000  7.630046|\n",
      "    200|  0.000000  0.411442  0.411442  0.402029  0.058629|  0.000000  0.461758  0.411442  0.403716  0.057891|  27.000000  59.000000  44.000000  42.830000  6.959964|\n",
      "    300|  0.000000  0.612274  0.411442  0.371122  0.125882|  0.000000  0.461758  0.411442  0.367826  0.126195|  27.000000  60.000000  46.000000  44.210000  7.426029|\n",
      "    400|  0.000000  0.654500  0.411442  0.354860  0.158462|  0.000000  0.617272  0.411442  0.338266  0.152988|  27.000000  60.000000  47.000000  46.560000  7.885835|\n",
      "    500|  0.000000  0.654500  0.411442  0.355879  0.170375|  0.000000  0.617272  0.411442  0.326564  0.159411|  32.000000  60.000000  48.000000  46.960000  8.522816|\n",
      "    600|  0.000000  0.654500  0.411442  0.415296  0.116799|  0.005164  0.628294  0.411442  0.371218  0.117568|  32.000000  60.000000  48.000000  47.050000  7.567529|\n",
      "    700|  0.184155  0.663398  0.411442  0.443853  0.128858|  0.108767  0.628294  0.411442  0.356126  0.139089|  32.000000  60.000000  49.000000  48.120000  6.061815|\n",
      "    800|  0.116572  0.663398  0.497999  0.447072  0.148912|  0.108767  0.684855  0.306071  0.364165  0.151863|  34.000000  60.000000  49.000000  48.510000  5.189403|\n",
      "    900|  0.116571  0.663398  0.516813  0.463270  0.166916|  0.108767  0.684856  0.306071  0.343208  0.170854|  34.000000  60.000000  48.000000  48.230000  5.840985|\n",
      "   1000|  0.109701  0.663398  0.516813  0.450969  0.170855|  0.108767  0.691726  0.306071  0.353349  0.174729|  34.000000  60.000000  48.000000  48.400000  6.297619|\n"
     ]
    }
   ],
   "source": [
    "from mewpy.util.constants import EAConstants\n",
    "EAConstants.DEBUG = True\n",
    "\n",
    "ea = EA(problem,\n",
    "        max_generations=10,\n",
    "        initial_population=init_pop[:100])\n",
    "\n",
    "solutions = ea.run(simplify=False)"
   ]
  },
  {
   "cell_type": "markdown",
   "id": "aa16fe03",
   "metadata": {},
   "source": [
    "We may now have a look at the solutions as a dataframe or as a plot"
   ]
  },
  {
   "cell_type": "code",
   "execution_count": 30,
   "id": "cf72f00d",
   "metadata": {},
   "outputs": [
    {
     "data": {
      "text/html": [
       "<div>\n",
       "<style scoped>\n",
       "    .dataframe tbody tr th:only-of-type {\n",
       "        vertical-align: middle;\n",
       "    }\n",
       "\n",
       "    .dataframe tbody tr th {\n",
       "        vertical-align: top;\n",
       "    }\n",
       "\n",
       "    .dataframe thead th {\n",
       "        text-align: right;\n",
       "    }\n",
       "</style>\n",
       "<table border=\"1\" class=\"dataframe\">\n",
       "  <thead>\n",
       "    <tr style=\"text-align: right;\">\n",
       "      <th></th>\n",
       "      <th>Modification</th>\n",
       "      <th>Size</th>\n",
       "      <th>TargetFlux</th>\n",
       "      <th>TargetFlux</th>\n",
       "      <th>Size</th>\n",
       "    </tr>\n",
       "  </thead>\n",
       "  <tbody>\n",
       "    <tr>\n",
       "      <th>0</th>\n",
       "      <td>{'b0733_ec1': 0, 'b0755_ec2': 0, 'b3739_ec1': ...</td>\n",
       "      <td>52</td>\n",
       "      <td>0.663398</td>\n",
       "      <td>0.131374</td>\n",
       "      <td>52.0</td>\n",
       "    </tr>\n",
       "    <tr>\n",
       "      <th>1</th>\n",
       "      <td>{'b3236_ec2': 0, 'b2282_ec2': 0, 'b3212_ec2': ...</td>\n",
       "      <td>60</td>\n",
       "      <td>0.411442</td>\n",
       "      <td>0.411442</td>\n",
       "      <td>60.0</td>\n",
       "    </tr>\n",
       "    <tr>\n",
       "      <th>2</th>\n",
       "      <td>{'b3236_ec2': 0, 'b2282_ec2': 0, 'b3739_ec1': ...</td>\n",
       "      <td>58</td>\n",
       "      <td>0.612274</td>\n",
       "      <td>0.108767</td>\n",
       "      <td>58.0</td>\n",
       "    </tr>\n",
       "    <tr>\n",
       "      <th>3</th>\n",
       "      <td>{'b2282_ec2': 0, 'b0733_ec1': 0, 'b3212_ec2': ...</td>\n",
       "      <td>49</td>\n",
       "      <td>0.109701</td>\n",
       "      <td>0.691726</td>\n",
       "      <td>49.0</td>\n",
       "    </tr>\n",
       "    <tr>\n",
       "      <th>4</th>\n",
       "      <td>{'b0755_ec2': 0, 'b3739_ec1': 0, 'b2925_ec2': ...</td>\n",
       "      <td>34</td>\n",
       "      <td>0.411442</td>\n",
       "      <td>0.411442</td>\n",
       "      <td>34.0</td>\n",
       "    </tr>\n",
       "    <tr>\n",
       "      <th>...</th>\n",
       "      <td>...</td>\n",
       "      <td>...</td>\n",
       "      <td>...</td>\n",
       "      <td>...</td>\n",
       "      <td>...</td>\n",
       "    </tr>\n",
       "    <tr>\n",
       "      <th>81</th>\n",
       "      <td>{'b3236_ec2': 0, 'b2282_ec2': 0, 'b0755_ec2': ...</td>\n",
       "      <td>51</td>\n",
       "      <td>0.617272</td>\n",
       "      <td>0.184155</td>\n",
       "      <td>51.0</td>\n",
       "    </tr>\n",
       "    <tr>\n",
       "      <th>82</th>\n",
       "      <td>{'b3236_ec2': 0, 'b2282_ec2': 0, 'b0733_ec1': ...</td>\n",
       "      <td>58</td>\n",
       "      <td>0.467650</td>\n",
       "      <td>0.287113</td>\n",
       "      <td>58.0</td>\n",
       "    </tr>\n",
       "    <tr>\n",
       "      <th>83</th>\n",
       "      <td>{'b0755_ec2': 0, 'b3739_ec1': 0, 'b2925_ec2': ...</td>\n",
       "      <td>42</td>\n",
       "      <td>0.516813</td>\n",
       "      <td>0.306071</td>\n",
       "      <td>42.0</td>\n",
       "    </tr>\n",
       "    <tr>\n",
       "      <th>84</th>\n",
       "      <td>{'b2282_ec2': 0, 'b3212_ec2': 0, 'b0755_ec2': ...</td>\n",
       "      <td>44</td>\n",
       "      <td>0.516813</td>\n",
       "      <td>0.306070</td>\n",
       "      <td>44.0</td>\n",
       "    </tr>\n",
       "    <tr>\n",
       "      <th>85</th>\n",
       "      <td>{'b2282_ec2': 0, 'b0755_ec2': 0, 'b4395_ec2': ...</td>\n",
       "      <td>47</td>\n",
       "      <td>0.604702</td>\n",
       "      <td>0.196725</td>\n",
       "      <td>47.0</td>\n",
       "    </tr>\n",
       "  </tbody>\n",
       "</table>\n",
       "<p>86 rows × 5 columns</p>\n",
       "</div>"
      ],
      "text/plain": [
       "                                         Modification  Size  TargetFlux  \\\n",
       "0   {'b0733_ec1': 0, 'b0755_ec2': 0, 'b3739_ec1': ...    52    0.663398   \n",
       "1   {'b3236_ec2': 0, 'b2282_ec2': 0, 'b3212_ec2': ...    60    0.411442   \n",
       "2   {'b3236_ec2': 0, 'b2282_ec2': 0, 'b3739_ec1': ...    58    0.612274   \n",
       "3   {'b2282_ec2': 0, 'b0733_ec1': 0, 'b3212_ec2': ...    49    0.109701   \n",
       "4   {'b0755_ec2': 0, 'b3739_ec1': 0, 'b2925_ec2': ...    34    0.411442   \n",
       "..                                                ...   ...         ...   \n",
       "81  {'b3236_ec2': 0, 'b2282_ec2': 0, 'b0755_ec2': ...    51    0.617272   \n",
       "82  {'b3236_ec2': 0, 'b2282_ec2': 0, 'b0733_ec1': ...    58    0.467650   \n",
       "83  {'b0755_ec2': 0, 'b3739_ec1': 0, 'b2925_ec2': ...    42    0.516813   \n",
       "84  {'b2282_ec2': 0, 'b3212_ec2': 0, 'b0755_ec2': ...    44    0.516813   \n",
       "85  {'b2282_ec2': 0, 'b0755_ec2': 0, 'b4395_ec2': ...    47    0.604702   \n",
       "\n",
       "    TargetFlux  Size  \n",
       "0     0.131374  52.0  \n",
       "1     0.411442  60.0  \n",
       "2     0.108767  58.0  \n",
       "3     0.691726  49.0  \n",
       "4     0.411442  34.0  \n",
       "..         ...   ...  \n",
       "81    0.184155  51.0  \n",
       "82    0.287113  58.0  \n",
       "83    0.306071  42.0  \n",
       "84    0.306070  44.0  \n",
       "85    0.196725  47.0  \n",
       "\n",
       "[86 rows x 5 columns]"
      ]
     },
     "execution_count": 30,
     "metadata": {},
     "output_type": "execute_result"
    }
   ],
   "source": [
    "df = ea.dataframe()\n",
    "df"
   ]
  },
  {
   "cell_type": "code",
   "execution_count": 31,
   "id": "144cc4ef",
   "metadata": {},
   "outputs": [
    {
     "data": {
      "image/png": "[encoded data removed]",
      "text/plain": [
       "<Figure size 640x480 with 2 Axes>"
      ]
     },
     "metadata": {},
     "output_type": "display_data"
    }
   ],
   "source": [
    "ea.plot()"
   ]
  },
  {
   "cell_type": "markdown",
   "id": "a084f809",
   "metadata": {},
   "source": [
    "We may even simulate one of the solution"
   ]
  },
  {
   "cell_type": "code",
   "execution_count": 32,
   "id": "6a0f2afe",
   "metadata": {},
   "outputs": [
    {
     "data": {
      "text/plain": [
       "[0.293004792691598, 0.46175823055628923, 44.0];{'b0978_ec1': 0, 'b2282_ec1': 0, 'b0755_ec2': 0, 'b2296_ec2': 0, 'b3403_ec2': 0, 'b0723_ec1': 0, 'b0726_ec1': 0, 'b0721_ec2': 0, 'b1612_ec2': 0, 'b1101_ec1': 0, 'b2297_ec2': 0, 'b4122_ec1': 0, 'b4014_ec1': 0, 'b1478_ec1': 0, 'b2463_ec2': 0, 'b3114_ec1': 0, 'b2284_ec1': 0, 'b2579_ec1': 0, 'b3870_ec1': 0, 'b0727_ec1': 0, 'b3870_ec2': 0, 'b2465_ec2': 0, 'b4151_ec1': 0, 'b3739_ec2': 0, 'b3951_ec2': 0, 'b0755_ec1': 0, 'b2283_ec1': 0, 'b0721_ec1': 0, 'b0723_ec2': 0, 'b1854_ec2': 0, 'b0810_ec1': 0, 'b1241_ec2': 0, 'b1817_ec2': 0, 'b0811_ec2': 0, 'b3962_ec2': 0, 'b1479_ec1': 0, 'b1478_ec2': 0, 'b0474_ec1': 0, 'b1819_ec2': 0, 'b1819_ec1': 0, 'b2464_ec2': 0, 'b3114_ec2': 0, 'b1818_ec2': 0, 'b1852_ec2': 0}"
      ]
     },
     "execution_count": 32,
     "metadata": {},
     "output_type": "execute_result"
    }
   ],
   "source": [
    "solution = solutions[5]\n",
    "solution"
   ]
  },
  {
   "cell_type": "code",
   "execution_count": 38,
   "id": "9c1fc9ed-ad8a-44ab-b48a-f314db521dee",
   "metadata": {},
   "outputs": [
    {
     "data": {
      "text/html": [
       "<div>\n",
       "<style scoped>\n",
       "    .dataframe tbody tr th:only-of-type {\n",
       "        vertical-align: middle;\n",
       "    }\n",
       "\n",
       "    .dataframe tbody tr th {\n",
       "        vertical-align: top;\n",
       "    }\n",
       "\n",
       "    .dataframe thead th {\n",
       "        text-align: right;\n",
       "    }\n",
       "</style>\n",
       "<table border=\"1\" class=\"dataframe\">\n",
       "  <thead>\n",
       "    <tr style=\"text-align: right;\">\n",
       "      <th></th>\n",
       "      <th>Flux rate</th>\n",
       "    </tr>\n",
       "    <tr>\n",
       "      <th>Reaction ID</th>\n",
       "      <th></th>\n",
       "    </tr>\n",
       "  </thead>\n",
       "  <tbody>\n",
       "    <tr>\n",
       "      <th>BIOMASS_Ecoli_core_w_GAM_ec1</th>\n",
       "      <td>0.151643</td>\n",
       "    </tr>\n",
       "    <tr>\n",
       "      <th>BIOMASS_Ecoli_core_w_GAM_ec2</th>\n",
       "      <td>0.610744</td>\n",
       "    </tr>\n",
       "    <tr>\n",
       "      <th>community_growth</th>\n",
       "      <td>0.762387</td>\n",
       "    </tr>\n",
       "  </tbody>\n",
       "</table>\n",
       "</div>"
      ],
      "text/plain": [
       "                              Flux rate\n",
       "Reaction ID                            \n",
       "BIOMASS_Ecoli_core_w_GAM_ec1   0.151643\n",
       "BIOMASS_Ecoli_core_w_GAM_ec2   0.610744\n",
       "community_growth               0.762387"
      ]
     },
     "execution_count": 38,
     "metadata": {},
     "output_type": "execute_result"
    }
   ],
   "source": [
    "problem.simulate(solution=solution.values,method='FBA').find('BIOMASS|growth',show_nulls=True)"
   ]
  },
  {
   "cell_type": "markdown",
   "id": "1983ab2b-4143-4362-9e89-55e2c5ddd60e",
   "metadata": {},
   "source": [
    "The previous FBA solution is one of many that results from the genes deletion. We can select one particular solution by considering some assumption such as the difference between the organisms growth is minimized while keeping the same community growth: "
   ]
  },
  {
   "cell_type": "code",
   "execution_count": 43,
   "id": "d0efbd3c",
   "metadata": {},
   "outputs": [
    {
     "data": {
      "text/html": [
       "<div>\n",
       "<style scoped>\n",
       "    .dataframe tbody tr th:only-of-type {\n",
       "        vertical-align: middle;\n",
       "    }\n",
       "\n",
       "    .dataframe tbody tr th {\n",
       "        vertical-align: top;\n",
       "    }\n",
       "\n",
       "    .dataframe thead th {\n",
       "        text-align: right;\n",
       "    }\n",
       "</style>\n",
       "<table border=\"1\" class=\"dataframe\">\n",
       "  <thead>\n",
       "    <tr style=\"text-align: right;\">\n",
       "      <th></th>\n",
       "      <th>Flux rate</th>\n",
       "    </tr>\n",
       "    <tr>\n",
       "      <th>Reaction ID</th>\n",
       "      <th></th>\n",
       "    </tr>\n",
       "  </thead>\n",
       "  <tbody>\n",
       "    <tr>\n",
       "      <th>BIOMASS_Ecoli_core_w_GAM_ec1</th>\n",
       "      <td>0.293005</td>\n",
       "    </tr>\n",
       "    <tr>\n",
       "      <th>BIOMASS_Ecoli_core_w_GAM_ec2</th>\n",
       "      <td>0.461758</td>\n",
       "    </tr>\n",
       "    <tr>\n",
       "      <th>community_growth</th>\n",
       "      <td>0.754763</td>\n",
       "    </tr>\n",
       "  </tbody>\n",
       "</table>\n",
       "</div>"
      ],
      "text/plain": [
       "                              Flux rate\n",
       "Reaction ID                            \n",
       "BIOMASS_Ecoli_core_w_GAM_ec1   0.293005\n",
       "BIOMASS_Ecoli_core_w_GAM_ec2   0.461758\n",
       "community_growth               0.754763"
      ]
     },
     "execution_count": 43,
     "metadata": {},
     "output_type": "execute_result"
    }
   ],
   "source": [
    "problem.simulate(solution=solution.values,method=regComFBA).find('BIOMASS|growth',show_nulls=True)"
   ]
  },
  {
   "cell_type": "markdown",
   "id": "d5eef1f2-3cc6-4359-a4dc-20451061b94f",
   "metadata": {},
   "source": [
    "We may also relax on the community growth to 90% of confidence by setting `obj_frac=0.9` (by default this value is set to 0.99):"
   ]
  },
  {
   "cell_type": "code",
   "execution_count": 44,
   "id": "19e526f3-e152-4164-a740-b53fa520172e",
   "metadata": {},
   "outputs": [
    {
     "data": {
      "text/html": [
       "<div>\n",
       "<style scoped>\n",
       "    .dataframe tbody tr th:only-of-type {\n",
       "        vertical-align: middle;\n",
       "    }\n",
       "\n",
       "    .dataframe tbody tr th {\n",
       "        vertical-align: top;\n",
       "    }\n",
       "\n",
       "    .dataframe thead th {\n",
       "        text-align: right;\n",
       "    }\n",
       "</style>\n",
       "<table border=\"1\" class=\"dataframe\">\n",
       "  <thead>\n",
       "    <tr style=\"text-align: right;\">\n",
       "      <th></th>\n",
       "      <th>Flux rate</th>\n",
       "    </tr>\n",
       "    <tr>\n",
       "      <th>Reaction ID</th>\n",
       "      <th></th>\n",
       "    </tr>\n",
       "  </thead>\n",
       "  <tbody>\n",
       "    <tr>\n",
       "      <th>BIOMASS_Ecoli_core_w_GAM_ec1</th>\n",
       "      <td>0.343074</td>\n",
       "    </tr>\n",
       "    <tr>\n",
       "      <th>BIOMASS_Ecoli_core_w_GAM_ec2</th>\n",
       "      <td>0.343074</td>\n",
       "    </tr>\n",
       "    <tr>\n",
       "      <th>community_growth</th>\n",
       "      <td>0.686148</td>\n",
       "    </tr>\n",
       "  </tbody>\n",
       "</table>\n",
       "</div>"
      ],
      "text/plain": [
       "                              Flux rate\n",
       "Reaction ID                            \n",
       "BIOMASS_Ecoli_core_w_GAM_ec1   0.343074\n",
       "BIOMASS_Ecoli_core_w_GAM_ec2   0.343074\n",
       "community_growth               0.686148"
      ]
     },
     "execution_count": 44,
     "metadata": {},
     "output_type": "execute_result"
    }
   ],
   "source": [
    "problem.simulate(solution=solution.values,method=regComFBA, obj_frac=0.9).find('BIOMASS|growth',show_nulls=True)"
   ]
  },
  {
   "cell_type": "markdown",
   "id": "e8055fce-3084-4fd8-b7d9-75ba2e4fb7df",
   "metadata": {},
   "source": [
    "Other FBA methods can be used such as parsimonious FBA:"
   ]
  },
  {
   "cell_type": "code",
   "execution_count": 45,
   "id": "71d388c4-d81d-47ce-b191-57ad12541ced",
   "metadata": {},
   "outputs": [
    {
     "data": {
      "text/html": [
       "<div>\n",
       "<style scoped>\n",
       "    .dataframe tbody tr th:only-of-type {\n",
       "        vertical-align: middle;\n",
       "    }\n",
       "\n",
       "    .dataframe tbody tr th {\n",
       "        vertical-align: top;\n",
       "    }\n",
       "\n",
       "    .dataframe thead th {\n",
       "        text-align: right;\n",
       "    }\n",
       "</style>\n",
       "<table border=\"1\" class=\"dataframe\">\n",
       "  <thead>\n",
       "    <tr style=\"text-align: right;\">\n",
       "      <th></th>\n",
       "      <th>Flux rate</th>\n",
       "    </tr>\n",
       "    <tr>\n",
       "      <th>Reaction ID</th>\n",
       "      <th></th>\n",
       "    </tr>\n",
       "  </thead>\n",
       "  <tbody>\n",
       "    <tr>\n",
       "      <th>BIOMASS_Ecoli_core_w_GAM_ec1</th>\n",
       "      <td>0.000000</td>\n",
       "    </tr>\n",
       "    <tr>\n",
       "      <th>BIOMASS_Ecoli_core_w_GAM_ec2</th>\n",
       "      <td>0.762387</td>\n",
       "    </tr>\n",
       "    <tr>\n",
       "      <th>community_growth</th>\n",
       "      <td>0.762387</td>\n",
       "    </tr>\n",
       "  </tbody>\n",
       "</table>\n",
       "</div>"
      ],
      "text/plain": [
       "                              Flux rate\n",
       "Reaction ID                            \n",
       "BIOMASS_Ecoli_core_w_GAM_ec1   0.000000\n",
       "BIOMASS_Ecoli_core_w_GAM_ec2   0.762387\n",
       "community_growth               0.762387"
      ]
     },
     "execution_count": 45,
     "metadata": {},
     "output_type": "execute_result"
    }
   ],
   "source": [
    "problem.simulate(solution=solution.values,method='pFBA').find('BIOMASS|growth',show_nulls=True)"
   ]
  },
  {
   "cell_type": "markdown",
   "id": "2787a893",
   "metadata": {},
   "source": [
    "Me may also have a look to the reactions that were 'deleted'"
   ]
  },
  {
   "cell_type": "code",
   "execution_count": 34,
   "id": "c92e07da",
   "metadata": {},
   "outputs": [
    {
     "data": {
      "text/plain": [
       "{'SUCDi_ec2': 0,\n",
       " 'FRUpts2_ec2': 0,\n",
       " 'PPCK_ec2': 0,\n",
       " 'AKGDH_ec1': 0,\n",
       " 'SUCDi_ec1': 0,\n",
       " 'ME1_ec1': 0,\n",
       " 'ADK1_ec1': 0,\n",
       " 'G6PDH2r_ec2': 0,\n",
       " 'GLNabc_ec2': 0,\n",
       " 'FRUpts2_ec1': 0,\n",
       " 'NADH16_ec1': 0,\n",
       " 'FRD7_ec1': 0,\n",
       " 'ME2_ec2': 0,\n",
       " 'GLNabc_ec1': 0}"
      ]
     },
     "execution_count": 34,
     "metadata": {},
     "output_type": "execute_result"
    }
   ],
   "source": [
    "problem.solution_to_constraints(solution.values)"
   ]
  },
  {
   "cell_type": "code",
   "execution_count": null,
   "id": "d8bd1cc7",
   "metadata": {},
   "outputs": [],
   "source": []
  }
 ],
 "metadata": {
  "kernelspec": {
   "display_name": "cobra",
   "language": "python",
   "name": "cobra"
  },
  "language_info": {
   "codemirror_mode": {
    "name": "ipython",
    "version": 3
   },
   "file_extension": ".py",
   "mimetype": "text/x-python",
   "name": "python",
   "nbconvert_exporter": "python",
   "pygments_lexer": "ipython3",
   "version": "3.9.15"
  }
 },
 "nbformat": 4,
 "nbformat_minor": 5
}
